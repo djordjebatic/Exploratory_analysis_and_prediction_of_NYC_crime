{
 "cells": [
  {
   "cell_type": "code",
   "execution_count": 39,
   "metadata": {
    "colab": {
     "base_uri": "https://localhost:8080/",
     "height": 518
    },
    "colab_type": "code",
    "executionInfo": {
     "elapsed": 144805,
     "status": "ok",
     "timestamp": 1559151527633,
     "user": {
      "displayName": "Djordje",
      "photoUrl": "https://lh4.googleusercontent.com/-Qp4HD2lnvpw/AAAAAAAAAAI/AAAAAAAAAsc/rQVbrmh36g4/s64/photo.jpg",
      "userId": "02440317835448491099"
     },
     "user_tz": -120
    },
    "id": "XYrLDJK1rTNq",
    "outputId": "7a982105-5729-4777-a91f-0b2b976f1f9a",
    "scrolled": false
   },
   "outputs": [
    {
     "name": "stdout",
     "output_type": "stream",
     "text": [
      "Dataset Shape:  (6500870, 35)\n"
     ]
    },
    {
     "data": {
      "text/html": [
       "<div>\n",
       "<style scoped>\n",
       "    .dataframe tbody tr th:only-of-type {\n",
       "        vertical-align: middle;\n",
       "    }\n",
       "\n",
       "    .dataframe tbody tr th {\n",
       "        vertical-align: top;\n",
       "    }\n",
       "\n",
       "    .dataframe thead th {\n",
       "        text-align: right;\n",
       "    }\n",
       "</style>\n",
       "<table border=\"1\" class=\"dataframe\">\n",
       "  <thead>\n",
       "    <tr style=\"text-align: right;\">\n",
       "      <th></th>\n",
       "      <th>CMPLNT_NUM</th>\n",
       "      <th>CMPLNT_FR_DT</th>\n",
       "      <th>CMPLNT_FR_TM</th>\n",
       "      <th>CMPLNT_TO_DT</th>\n",
       "      <th>CMPLNT_TO_TM</th>\n",
       "      <th>ADDR_PCT_CD</th>\n",
       "      <th>RPT_DT</th>\n",
       "      <th>KY_CD</th>\n",
       "      <th>OFNS_DESC</th>\n",
       "      <th>PD_CD</th>\n",
       "      <th>...</th>\n",
       "      <th>SUSP_SEX</th>\n",
       "      <th>TRANSIT_DISTRICT</th>\n",
       "      <th>Latitude</th>\n",
       "      <th>Longitude</th>\n",
       "      <th>Lat_Lon</th>\n",
       "      <th>PATROL_BORO</th>\n",
       "      <th>STATION_NAME</th>\n",
       "      <th>VIC_AGE_GROUP</th>\n",
       "      <th>VIC_RACE</th>\n",
       "      <th>VIC_SEX</th>\n",
       "    </tr>\n",
       "  </thead>\n",
       "  <tbody>\n",
       "    <tr>\n",
       "      <th>0</th>\n",
       "      <td>238346510</td>\n",
       "      <td>04/05/2013</td>\n",
       "      <td>22:57:00</td>\n",
       "      <td>04/05/2013</td>\n",
       "      <td>23:06:00</td>\n",
       "      <td>77.0</td>\n",
       "      <td>04/06/2013</td>\n",
       "      <td>118</td>\n",
       "      <td>DANGEROUS WEAPONS</td>\n",
       "      <td>793.0</td>\n",
       "      <td>...</td>\n",
       "      <td>NaN</td>\n",
       "      <td>NaN</td>\n",
       "      <td>40.672009</td>\n",
       "      <td>-73.959886</td>\n",
       "      <td>(40.67200915, -73.959885679)</td>\n",
       "      <td>PATROL BORO BKLYN NORTH</td>\n",
       "      <td>NaN</td>\n",
       "      <td>45-64</td>\n",
       "      <td>BLACK</td>\n",
       "      <td>F</td>\n",
       "    </tr>\n",
       "    <tr>\n",
       "      <th>1</th>\n",
       "      <td>514112653</td>\n",
       "      <td>04/05/2013</td>\n",
       "      <td>22:55:00</td>\n",
       "      <td>04/06/2013</td>\n",
       "      <td>00:02:00</td>\n",
       "      <td>1.0</td>\n",
       "      <td>04/06/2013</td>\n",
       "      <td>361</td>\n",
       "      <td>OFF. AGNST PUB ORD SENSBLTY &amp;</td>\n",
       "      <td>639.0</td>\n",
       "      <td>...</td>\n",
       "      <td>NaN</td>\n",
       "      <td>NaN</td>\n",
       "      <td>40.726316</td>\n",
       "      <td>-74.001975</td>\n",
       "      <td>(40.726315852, -74.001974956)</td>\n",
       "      <td>PATROL BORO MAN SOUTH</td>\n",
       "      <td>NaN</td>\n",
       "      <td>65+</td>\n",
       "      <td>WHITE</td>\n",
       "      <td>F</td>\n",
       "    </tr>\n",
       "    <tr>\n",
       "      <th>2</th>\n",
       "      <td>865099785</td>\n",
       "      <td>04/05/2013</td>\n",
       "      <td>22:47:00</td>\n",
       "      <td>04/05/2013</td>\n",
       "      <td>23:09:00</td>\n",
       "      <td>44.0</td>\n",
       "      <td>04/06/2013</td>\n",
       "      <td>106</td>\n",
       "      <td>FELONY ASSAULT</td>\n",
       "      <td>105.0</td>\n",
       "      <td>...</td>\n",
       "      <td>NaN</td>\n",
       "      <td>NaN</td>\n",
       "      <td>40.831270</td>\n",
       "      <td>-73.914266</td>\n",
       "      <td>(40.831270161, -73.914265926)</td>\n",
       "      <td>PATROL BORO BRONX</td>\n",
       "      <td>NaN</td>\n",
       "      <td>NaN</td>\n",
       "      <td>UNKNOWN</td>\n",
       "      <td>F</td>\n",
       "    </tr>\n",
       "  </tbody>\n",
       "</table>\n",
       "<p>3 rows × 35 columns</p>\n",
       "</div>"
      ],
      "text/plain": [
       "   CMPLNT_NUM CMPLNT_FR_DT CMPLNT_FR_TM CMPLNT_TO_DT CMPLNT_TO_TM  \\\n",
       "0   238346510   04/05/2013     22:57:00   04/05/2013     23:06:00   \n",
       "1   514112653   04/05/2013     22:55:00   04/06/2013     00:02:00   \n",
       "2   865099785   04/05/2013     22:47:00   04/05/2013     23:09:00   \n",
       "\n",
       "   ADDR_PCT_CD      RPT_DT  KY_CD                      OFNS_DESC  PD_CD  ...  \\\n",
       "0         77.0  04/06/2013    118              DANGEROUS WEAPONS  793.0  ...   \n",
       "1          1.0  04/06/2013    361  OFF. AGNST PUB ORD SENSBLTY &  639.0  ...   \n",
       "2         44.0  04/06/2013    106                 FELONY ASSAULT  105.0  ...   \n",
       "\n",
       "  SUSP_SEX TRANSIT_DISTRICT   Latitude  Longitude  \\\n",
       "0      NaN              NaN  40.672009 -73.959886   \n",
       "1      NaN              NaN  40.726316 -74.001975   \n",
       "2      NaN              NaN  40.831270 -73.914266   \n",
       "\n",
       "                         Lat_Lon              PATROL_BORO STATION_NAME  \\\n",
       "0   (40.67200915, -73.959885679)  PATROL BORO BKLYN NORTH          NaN   \n",
       "1  (40.726315852, -74.001974956)    PATROL BORO MAN SOUTH          NaN   \n",
       "2  (40.831270161, -73.914265926)        PATROL BORO BRONX          NaN   \n",
       "\n",
       "   VIC_AGE_GROUP VIC_RACE VIC_SEX  \n",
       "0          45-64    BLACK       F  \n",
       "1            65+    WHITE       F  \n",
       "2            NaN  UNKNOWN       F  \n",
       "\n",
       "[3 rows x 35 columns]"
      ]
     },
     "execution_count": 39,
     "metadata": {},
     "output_type": "execute_result"
    }
   ],
   "source": [
    "import numpy as np \n",
    "import pandas as pd \n",
    "import matplotlib.pyplot as plt\n",
    "import seaborn as sns\n",
    "from sklearn.model_selection import train_test_split\n",
    "%matplotlib inline\n",
    "\n",
    "crimes = pd.read_csv('NYPD_Complaint_Data_Historic.csv',error_bad_lines=False)\n",
    "print('Dataset Shape: ', crimes.shape)\n",
    "crimes.head(3)"
   ]
  },
  {
   "cell_type": "code",
   "execution_count": 40,
   "metadata": {
    "colab": {
     "base_uri": "https://localhost:8080/",
     "height": 622
    },
    "colab_type": "code",
    "executionInfo": {
     "elapsed": 153592,
     "status": "ok",
     "timestamp": 1559151536479,
     "user": {
      "displayName": "Djordje",
      "photoUrl": "https://lh4.googleusercontent.com/-Qp4HD2lnvpw/AAAAAAAAAAI/AAAAAAAAAsc/rQVbrmh36g4/s64/photo.jpg",
      "userId": "02440317835448491099"
     },
     "user_tz": -120
    },
    "id": "nAuOXm29u5vk",
    "outputId": "548f6229-ebed-4ccf-85f9-9bd78ada0988",
    "scrolled": false
   },
   "outputs": [
    {
     "data": {
      "text/plain": [
       "CMPLNT_NUM                 0\n",
       "CMPLNT_FR_DT             655\n",
       "CMPLNT_FR_TM              48\n",
       "CMPLNT_TO_DT         1607101\n",
       "CMPLNT_TO_TM         1602801\n",
       "ADDR_PCT_CD             2166\n",
       "RPT_DT                     0\n",
       "KY_CD                      0\n",
       "OFNS_DESC              18805\n",
       "PD_CD                   5496\n",
       "PD_DESC                 5496\n",
       "CRM_ATPT_CPTD_CD           7\n",
       "LAW_CAT_CD                 0\n",
       "BORO_NM                10518\n",
       "LOC_OF_OCCUR_DESC    1394809\n",
       "PREM_TYP_DESC          37703\n",
       "JURIS_DESC                 0\n",
       "JURISDICTION_CODE       5496\n",
       "PARKS_NM             6479911\n",
       "HADEVELOPT           6177206\n",
       "HOUSING_PSA          5998248\n",
       "X_COORD_CD             17339\n",
       "Y_COORD_CD             17339\n",
       "SUSP_AGE_GROUP       4590963\n",
       "SUSP_RACE            3222422\n",
       "SUSP_SEX             3355736\n",
       "TRANSIT_DISTRICT     6356760\n",
       "Latitude               17339\n",
       "Longitude              17339\n",
       "Lat_Lon                17339\n",
       "PATROL_BORO             5953\n",
       "STATION_NAME         6356760\n",
       "VIC_AGE_GROUP        1638441\n",
       "VIC_RACE                 305\n",
       "VIC_SEX                  304\n",
       "dtype: int64"
      ]
     },
     "execution_count": 40,
     "metadata": {},
     "output_type": "execute_result"
    }
   ],
   "source": [
    "crimes.isnull().sum()"
   ]
  },
  {
   "cell_type": "code",
   "execution_count": 41,
   "metadata": {
    "scrolled": true
   },
   "outputs": [
    {
     "data": {
      "text/html": [
       "<div>\n",
       "<style scoped>\n",
       "    .dataframe tbody tr th:only-of-type {\n",
       "        vertical-align: middle;\n",
       "    }\n",
       "\n",
       "    .dataframe tbody tr th {\n",
       "        vertical-align: top;\n",
       "    }\n",
       "\n",
       "    .dataframe thead th {\n",
       "        text-align: right;\n",
       "    }\n",
       "</style>\n",
       "<table border=\"1\" class=\"dataframe\">\n",
       "  <thead>\n",
       "    <tr style=\"text-align: right;\">\n",
       "      <th></th>\n",
       "      <th>CMPLNT_NUM</th>\n",
       "      <th>ADDR_PCT_CD</th>\n",
       "      <th>KY_CD</th>\n",
       "      <th>PD_CD</th>\n",
       "      <th>JURISDICTION_CODE</th>\n",
       "      <th>X_COORD_CD</th>\n",
       "      <th>Y_COORD_CD</th>\n",
       "      <th>TRANSIT_DISTRICT</th>\n",
       "      <th>Latitude</th>\n",
       "      <th>Longitude</th>\n",
       "    </tr>\n",
       "  </thead>\n",
       "  <tbody>\n",
       "    <tr>\n",
       "      <th>count</th>\n",
       "      <td>6.500870e+06</td>\n",
       "      <td>6.498704e+06</td>\n",
       "      <td>6.500870e+06</td>\n",
       "      <td>6.495374e+06</td>\n",
       "      <td>6.495374e+06</td>\n",
       "      <td>6.483531e+06</td>\n",
       "      <td>6.483531e+06</td>\n",
       "      <td>144110.000000</td>\n",
       "      <td>6.483531e+06</td>\n",
       "      <td>6.483531e+06</td>\n",
       "    </tr>\n",
       "    <tr>\n",
       "      <th>mean</th>\n",
       "      <td>5.500375e+08</td>\n",
       "      <td>6.334385e+01</td>\n",
       "      <td>2.951970e+02</td>\n",
       "      <td>4.158180e+02</td>\n",
       "      <td>7.149465e-01</td>\n",
       "      <td>1.004771e+06</td>\n",
       "      <td>2.069993e+05</td>\n",
       "      <td>13.634946</td>\n",
       "      <td>4.073480e+01</td>\n",
       "      <td>-7.392592e+01</td>\n",
       "    </tr>\n",
       "    <tr>\n",
       "      <th>std</th>\n",
       "      <td>2.597725e+08</td>\n",
       "      <td>3.446073e+01</td>\n",
       "      <td>1.494116e+02</td>\n",
       "      <td>2.181813e+02</td>\n",
       "      <td>6.629446e+00</td>\n",
       "      <td>2.178907e+04</td>\n",
       "      <td>3.164418e+04</td>\n",
       "      <td>12.485026</td>\n",
       "      <td>8.675600e-02</td>\n",
       "      <td>7.857901e-02</td>\n",
       "    </tr>\n",
       "    <tr>\n",
       "      <th>min</th>\n",
       "      <td>1.000001e+08</td>\n",
       "      <td>1.000000e+00</td>\n",
       "      <td>1.010000e+02</td>\n",
       "      <td>1.010000e+02</td>\n",
       "      <td>0.000000e+00</td>\n",
       "      <td>1.110000e+02</td>\n",
       "      <td>1.110000e+02</td>\n",
       "      <td>1.000000</td>\n",
       "      <td>4.011271e+01</td>\n",
       "      <td>-7.751921e+01</td>\n",
       "    </tr>\n",
       "    <tr>\n",
       "      <th>25%</th>\n",
       "      <td>3.251865e+08</td>\n",
       "      <td>4.000000e+01</td>\n",
       "      <td>1.170000e+02</td>\n",
       "      <td>2.540000e+02</td>\n",
       "      <td>0.000000e+00</td>\n",
       "      <td>9.916830e+05</td>\n",
       "      <td>1.842840e+05</td>\n",
       "      <td>3.000000</td>\n",
       "      <td>4.067243e+01</td>\n",
       "      <td>-7.397323e+01</td>\n",
       "    </tr>\n",
       "    <tr>\n",
       "      <th>50%</th>\n",
       "      <td>5.499805e+08</td>\n",
       "      <td>6.300000e+01</td>\n",
       "      <td>3.410000e+02</td>\n",
       "      <td>3.880000e+02</td>\n",
       "      <td>0.000000e+00</td>\n",
       "      <td>1.004369e+06</td>\n",
       "      <td>2.058520e+05</td>\n",
       "      <td>11.000000</td>\n",
       "      <td>4.073167e+01</td>\n",
       "      <td>-7.392733e+01</td>\n",
       "    </tr>\n",
       "    <tr>\n",
       "      <th>75%</th>\n",
       "      <td>7.749793e+08</td>\n",
       "      <td>9.400000e+01</td>\n",
       "      <td>3.510000e+02</td>\n",
       "      <td>6.370000e+02</td>\n",
       "      <td>0.000000e+00</td>\n",
       "      <td>1.016581e+06</td>\n",
       "      <td>2.351590e+05</td>\n",
       "      <td>30.000000</td>\n",
       "      <td>4.081212e+01</td>\n",
       "      <td>-7.388328e+01</td>\n",
       "    </tr>\n",
       "    <tr>\n",
       "      <th>max</th>\n",
       "      <td>9.999999e+08</td>\n",
       "      <td>1.230000e+02</td>\n",
       "      <td>8.810000e+02</td>\n",
       "      <td>9.750000e+02</td>\n",
       "      <td>9.700000e+01</td>\n",
       "      <td>1.067298e+06</td>\n",
       "      <td>7.250292e+06</td>\n",
       "      <td>34.000000</td>\n",
       "      <td>5.965727e+01</td>\n",
       "      <td>-7.368479e+01</td>\n",
       "    </tr>\n",
       "  </tbody>\n",
       "</table>\n",
       "</div>"
      ],
      "text/plain": [
       "         CMPLNT_NUM   ADDR_PCT_CD         KY_CD         PD_CD  \\\n",
       "count  6.500870e+06  6.498704e+06  6.500870e+06  6.495374e+06   \n",
       "mean   5.500375e+08  6.334385e+01  2.951970e+02  4.158180e+02   \n",
       "std    2.597725e+08  3.446073e+01  1.494116e+02  2.181813e+02   \n",
       "min    1.000001e+08  1.000000e+00  1.010000e+02  1.010000e+02   \n",
       "25%    3.251865e+08  4.000000e+01  1.170000e+02  2.540000e+02   \n",
       "50%    5.499805e+08  6.300000e+01  3.410000e+02  3.880000e+02   \n",
       "75%    7.749793e+08  9.400000e+01  3.510000e+02  6.370000e+02   \n",
       "max    9.999999e+08  1.230000e+02  8.810000e+02  9.750000e+02   \n",
       "\n",
       "       JURISDICTION_CODE    X_COORD_CD    Y_COORD_CD  TRANSIT_DISTRICT  \\\n",
       "count       6.495374e+06  6.483531e+06  6.483531e+06     144110.000000   \n",
       "mean        7.149465e-01  1.004771e+06  2.069993e+05         13.634946   \n",
       "std         6.629446e+00  2.178907e+04  3.164418e+04         12.485026   \n",
       "min         0.000000e+00  1.110000e+02  1.110000e+02          1.000000   \n",
       "25%         0.000000e+00  9.916830e+05  1.842840e+05          3.000000   \n",
       "50%         0.000000e+00  1.004369e+06  2.058520e+05         11.000000   \n",
       "75%         0.000000e+00  1.016581e+06  2.351590e+05         30.000000   \n",
       "max         9.700000e+01  1.067298e+06  7.250292e+06         34.000000   \n",
       "\n",
       "           Latitude     Longitude  \n",
       "count  6.483531e+06  6.483531e+06  \n",
       "mean   4.073480e+01 -7.392592e+01  \n",
       "std    8.675600e-02  7.857901e-02  \n",
       "min    4.011271e+01 -7.751921e+01  \n",
       "25%    4.067243e+01 -7.397323e+01  \n",
       "50%    4.073167e+01 -7.392733e+01  \n",
       "75%    4.081212e+01 -7.388328e+01  \n",
       "max    5.965727e+01 -7.368479e+01  "
      ]
     },
     "execution_count": 41,
     "metadata": {},
     "output_type": "execute_result"
    }
   ],
   "source": [
    "crimes.describe()"
   ]
  },
  {
   "cell_type": "markdown",
   "metadata": {},
   "source": [
    "### Data cleaning"
   ]
  },
  {
   "cell_type": "code",
   "execution_count": 42,
   "metadata": {
    "colab": {
     "base_uri": "https://localhost:8080/",
     "height": 467
    },
    "colab_type": "code",
    "executionInfo": {
     "elapsed": 154635,
     "status": "ok",
     "timestamp": 1559151537571,
     "user": {
      "displayName": "Djordje",
      "photoUrl": "https://lh4.googleusercontent.com/-Qp4HD2lnvpw/AAAAAAAAAAI/AAAAAAAAAsc/rQVbrmh36g4/s64/photo.jpg",
      "userId": "02440317835448491099"
     },
     "user_tz": -120
    },
    "id": "hKeoDC-uvlDH",
    "outputId": "d4c788b1-2cb1-4881-ddc6-bb1d68d1a568",
    "scrolled": false
   },
   "outputs": [
    {
     "data": {
      "text/html": [
       "<div>\n",
       "<style scoped>\n",
       "    .dataframe tbody tr th:only-of-type {\n",
       "        vertical-align: middle;\n",
       "    }\n",
       "\n",
       "    .dataframe tbody tr th {\n",
       "        vertical-align: top;\n",
       "    }\n",
       "\n",
       "    .dataframe thead th {\n",
       "        text-align: right;\n",
       "    }\n",
       "</style>\n",
       "<table border=\"1\" class=\"dataframe\">\n",
       "  <thead>\n",
       "    <tr style=\"text-align: right;\">\n",
       "      <th></th>\n",
       "      <th>CMPLNT_NUM</th>\n",
       "      <th>CMPLNT_FR_DT</th>\n",
       "      <th>CMPLNT_FR_TM</th>\n",
       "      <th>OFNS_DESC</th>\n",
       "      <th>PD_DESC</th>\n",
       "      <th>LAW_CAT_CD</th>\n",
       "      <th>BORO_NM</th>\n",
       "      <th>PREM_TYP_DESC</th>\n",
       "      <th>JURIS_DESC</th>\n",
       "      <th>X_COORD_CD</th>\n",
       "      <th>Y_COORD_CD</th>\n",
       "      <th>SUSP_RACE</th>\n",
       "      <th>SUSP_SEX</th>\n",
       "      <th>Latitude</th>\n",
       "      <th>Longitude</th>\n",
       "      <th>PATROL_BORO</th>\n",
       "      <th>VIC_RACE</th>\n",
       "      <th>VIC_SEX</th>\n",
       "    </tr>\n",
       "  </thead>\n",
       "  <tbody>\n",
       "    <tr>\n",
       "      <th>0</th>\n",
       "      <td>238346510</td>\n",
       "      <td>04/05/2013</td>\n",
       "      <td>22:57:00</td>\n",
       "      <td>DANGEROUS WEAPONS</td>\n",
       "      <td>WEAPONS POSSESSION 3</td>\n",
       "      <td>FELONY</td>\n",
       "      <td>BROOKLYN</td>\n",
       "      <td>RESIDENCE - APT. HOUSE</td>\n",
       "      <td>N.Y. POLICE DEPT</td>\n",
       "      <td>995378.0</td>\n",
       "      <td>184107.0</td>\n",
       "      <td>NaN</td>\n",
       "      <td>NaN</td>\n",
       "      <td>40.672009</td>\n",
       "      <td>-73.959886</td>\n",
       "      <td>PATROL BORO BKLYN NORTH</td>\n",
       "      <td>BLACK</td>\n",
       "      <td>F</td>\n",
       "    </tr>\n",
       "    <tr>\n",
       "      <th>1</th>\n",
       "      <td>514112653</td>\n",
       "      <td>04/05/2013</td>\n",
       "      <td>22:55:00</td>\n",
       "      <td>OFF. AGNST PUB ORD SENSBLTY &amp;</td>\n",
       "      <td>AGGRAVATED HARASSMENT 2</td>\n",
       "      <td>MISDEMEANOR</td>\n",
       "      <td>MANHATTAN</td>\n",
       "      <td>RESIDENCE - APT. HOUSE</td>\n",
       "      <td>N.Y. POLICE DEPT</td>\n",
       "      <td>983703.0</td>\n",
       "      <td>203890.0</td>\n",
       "      <td>NaN</td>\n",
       "      <td>NaN</td>\n",
       "      <td>40.726316</td>\n",
       "      <td>-74.001975</td>\n",
       "      <td>PATROL BORO MAN SOUTH</td>\n",
       "      <td>WHITE</td>\n",
       "      <td>F</td>\n",
       "    </tr>\n",
       "    <tr>\n",
       "      <th>2</th>\n",
       "      <td>865099785</td>\n",
       "      <td>04/05/2013</td>\n",
       "      <td>22:47:00</td>\n",
       "      <td>FELONY ASSAULT</td>\n",
       "      <td>STRANGULATION 1ST</td>\n",
       "      <td>FELONY</td>\n",
       "      <td>BRONX</td>\n",
       "      <td>RESIDENCE - APT. HOUSE</td>\n",
       "      <td>N.Y. POLICE DEPT</td>\n",
       "      <td>1007976.0</td>\n",
       "      <td>242140.0</td>\n",
       "      <td>NaN</td>\n",
       "      <td>NaN</td>\n",
       "      <td>40.831270</td>\n",
       "      <td>-73.914266</td>\n",
       "      <td>PATROL BORO BRONX</td>\n",
       "      <td>UNKNOWN</td>\n",
       "      <td>F</td>\n",
       "    </tr>\n",
       "  </tbody>\n",
       "</table>\n",
       "</div>"
      ],
      "text/plain": [
       "   CMPLNT_NUM CMPLNT_FR_DT CMPLNT_FR_TM                      OFNS_DESC  \\\n",
       "0   238346510   04/05/2013     22:57:00              DANGEROUS WEAPONS   \n",
       "1   514112653   04/05/2013     22:55:00  OFF. AGNST PUB ORD SENSBLTY &   \n",
       "2   865099785   04/05/2013     22:47:00                 FELONY ASSAULT   \n",
       "\n",
       "                   PD_DESC   LAW_CAT_CD    BORO_NM           PREM_TYP_DESC  \\\n",
       "0     WEAPONS POSSESSION 3       FELONY   BROOKLYN  RESIDENCE - APT. HOUSE   \n",
       "1  AGGRAVATED HARASSMENT 2  MISDEMEANOR  MANHATTAN  RESIDENCE - APT. HOUSE   \n",
       "2        STRANGULATION 1ST       FELONY      BRONX  RESIDENCE - APT. HOUSE   \n",
       "\n",
       "         JURIS_DESC  X_COORD_CD  Y_COORD_CD SUSP_RACE SUSP_SEX   Latitude  \\\n",
       "0  N.Y. POLICE DEPT    995378.0    184107.0       NaN      NaN  40.672009   \n",
       "1  N.Y. POLICE DEPT    983703.0    203890.0       NaN      NaN  40.726316   \n",
       "2  N.Y. POLICE DEPT   1007976.0    242140.0       NaN      NaN  40.831270   \n",
       "\n",
       "   Longitude              PATROL_BORO VIC_RACE VIC_SEX  \n",
       "0 -73.959886  PATROL BORO BKLYN NORTH    BLACK       F  \n",
       "1 -74.001975    PATROL BORO MAN SOUTH    WHITE       F  \n",
       "2 -73.914266        PATROL BORO BRONX  UNKNOWN       F  "
      ]
     },
     "execution_count": 42,
     "metadata": {},
     "output_type": "execute_result"
    }
   ],
   "source": [
    "crimes.drop(['CMPLNT_TO_DT', 'KY_CD', 'SUSP_AGE_GROUP','VIC_AGE_GROUP', 'CRM_ATPT_CPTD_CD', 'CMPLNT_TO_TM', 'RPT_DT', 'PD_CD', 'ADDR_PCT_CD', 'JURISDICTION_CODE', 'LOC_OF_OCCUR_DESC', 'HADEVELOPT', 'TRANSIT_DISTRICT','PARKS_NM', 'HOUSING_PSA', 'Lat_Lon', 'STATION_NAME'], inplace=True, axis=1)\n",
    "crimes.head(3)"
   ]
  },
  {
   "cell_type": "code",
   "execution_count": 43,
   "metadata": {
    "colab": {},
    "colab_type": "code",
    "id": "um1dtYEHu6kH"
   },
   "outputs": [],
   "source": [
    "crimes = crimes[pd.notnull(crimes['Latitude'])]\n",
    "crimes = crimes[pd.notnull(crimes['CMPLNT_FR_DT'])]\n",
    "crimes = crimes[pd.notnull(crimes['CMPLNT_FR_TM'])]\n",
    "crimes = crimes[pd.notnull(crimes['OFNS_DESC'])]\n",
    "crimes = crimes[pd.notnull(crimes['BORO_NM'])]\n",
    "crimes = crimes[pd.notnull(crimes['PREM_TYP_DESC'])]\n",
    "crimes = crimes[pd.notnull(crimes['PATROL_BORO'])]"
   ]
  },
  {
   "cell_type": "code",
   "execution_count": 44,
   "metadata": {},
   "outputs": [
    {
     "data": {
      "text/plain": [
       "(6422662, 18)"
      ]
     },
     "execution_count": 44,
     "metadata": {},
     "output_type": "execute_result"
    }
   ],
   "source": [
    "crimes.shape"
   ]
  },
  {
   "cell_type": "code",
   "execution_count": 45,
   "metadata": {},
   "outputs": [],
   "source": [
    "crimes['TimeStamp'] = crimes.pop('CMPLNT_FR_DT') + ' ' + crimes.pop('CMPLNT_FR_TM')"
   ]
  },
  {
   "cell_type": "code",
   "execution_count": 46,
   "metadata": {},
   "outputs": [],
   "source": [
    "crimes.TimeStamp = pd.to_datetime(crimes.TimeStamp, format='%m/%d/%Y %H:%M:%S', errors='coerce')"
   ]
  },
  {
   "cell_type": "code",
   "execution_count": 47,
   "metadata": {
    "colab": {},
    "colab_type": "code",
    "id": "iKtBB7AvqYyl"
   },
   "outputs": [],
   "source": [
    "#Complaints before 2006 were recorded badly\n",
    "crimes = crimes[(crimes['TimeStamp'].dt.year > 2006)]"
   ]
  },
  {
   "cell_type": "code",
   "execution_count": 48,
   "metadata": {
    "colab": {},
    "colab_type": "code",
    "id": "pzlMU84muXfI"
   },
   "outputs": [],
   "source": [
    "#crimes.index = pd.DatetimeIndex(crimes.TimeStamp)"
   ]
  },
  {
   "cell_type": "code",
   "execution_count": 49,
   "metadata": {
    "scrolled": false
   },
   "outputs": [
    {
     "data": {
      "text/plain": [
       "KIDNAPPING AND RELATED OFFENSES              2\n",
       "UNDER THE INFLUENCE OF DRUGS                 3\n",
       "OFFENSES AGAINST MARRIAGE UNCL               3\n",
       "ABORTION                                     7\n",
       "FORTUNE TELLING                              9\n",
       "OTHER STATE LAWS (NON PENAL LAW)            10\n",
       "LOITERING/DEVIATE SEX                       14\n",
       "OTHER TRAFFIC INFRACTION                    14\n",
       "ADMINISTRATIVE CODES                        17\n",
       "LOITERING FOR DRUG PURPOSES                 19\n",
       "LOITERING                                   22\n",
       "KIDNAPPING                                  29\n",
       "NYS LAWS-UNCLASSIFIED VIOLATION             44\n",
       "DISRUPTION OF A RELIGIOUS SERV              46\n",
       "INTOXICATED/IMPAIRED DRIVING                56\n",
       "UNLAWFUL POSS. WEAP. ON SCHOOL              57\n",
       "NEW YORK CITY HEALTH CODE                   79\n",
       "ANTICIPATORY OFFENSES                       90\n",
       "HOMICIDE-NEGLIGENT-VEHICLE                  95\n",
       "HOMICIDE-NEGLIGENT,UNCLASSIFIE             125\n",
       "ESCAPE 3                                   173\n",
       "LOITERING/GAMBLING (CARDS, DIC             204\n",
       "ENDAN WELFARE INCOMP                       214\n",
       "OTHER STATE LAWS                           249\n",
       "CHILD ABANDONMENT/NON SUPPORT              377\n",
       "JOSTLING                                   387\n",
       "AGRICULTURE & MRKTS LAW-UNCLASSIFIED       486\n",
       "OFFENSES AGAINST PUBLIC SAFETY             898\n",
       "PETIT LARCENY OF MOTOR VEHICLE             905\n",
       "DISORDERLY CONDUCT                         974\n",
       "                                         ...  \n",
       "OTHER STATE LAWS (NON PENAL LA            5661\n",
       "ADMINISTRATIVE CODE                      13079\n",
       "OTHER OFFENSES RELATED TO THEF           13748\n",
       "ARSON                                    14318\n",
       "OFFENSES AGAINST THE PERSON              14834\n",
       "RAPE                                     15953\n",
       "UNAUTHORIZED USE OF A VEHICLE            17549\n",
       "OFFENSES INVOLVING FRAUD                 19198\n",
       "POSSESSION OF STOLEN PROPERTY            31522\n",
       "FRAUDS                                   37149\n",
       "FORGERY                                  58843\n",
       "THEFT-FRAUD                              61197\n",
       "SEX CRIMES                               66818\n",
       "CRIMINAL TRESPASS                        69741\n",
       "VEHICLE AND TRAFFIC LAWS                 72692\n",
       "INTOXICATED & IMPAIRED DRIVING           82366\n",
       "GRAND LARCENY OF MOTOR VEHICLE          103265\n",
       "OFFENSES AGAINST PUBLIC ADMINI          118367\n",
       "DANGEROUS WEAPONS                       139008\n",
       "MISCELLANEOUS PENAL LAW                 148082\n",
       "BURGLARY                                203874\n",
       "ROBBERY                                 216451\n",
       "FELONY ASSAULT                          227108\n",
       "OFF. AGNST PUB ORD SENSBLTY &           310796\n",
       "DANGEROUS DRUGS                         369807\n",
       "GRAND LARCENY                           505358\n",
       "CRIMINAL MISCHIEF & RELATED OF          594703\n",
       "ASSAULT 3 & RELATED OFFENSES            623672\n",
       "HARRASSMENT 2                           733384\n",
       "PETIT LARCENY                           984011\n",
       "Name: OFNS_DESC, Length: 69, dtype: int64"
      ]
     },
     "execution_count": 49,
     "metadata": {},
     "output_type": "execute_result"
    }
   ],
   "source": [
    "crimes['OFNS_DESC'].value_counts().sort_values(ascending=True)"
   ]
  },
  {
   "cell_type": "code",
   "execution_count": 50,
   "metadata": {},
   "outputs": [
    {
     "data": {
      "text/plain": [
       "AMERICAN INDIAN/ALASKAN NATIVE       9378\n",
       "ASIAN / PACIFIC ISLANDER            95889\n",
       "BLACK HISPANIC                     156995\n",
       "WHITE                              335805\n",
       "WHITE HISPANIC                     518093\n",
       "UNKNOWN                            786490\n",
       "BLACK                             1135135\n",
       "Name: SUSP_RACE, dtype: int64"
      ]
     },
     "execution_count": 50,
     "metadata": {},
     "output_type": "execute_result"
    }
   ],
   "source": [
    "crimes['SUSP_RACE'].value_counts().sort_values(ascending=True)"
   ]
  },
  {
   "cell_type": "code",
   "execution_count": 51,
   "metadata": {
    "scrolled": true
   },
   "outputs": [
    {
     "data": {
      "text/plain": [
       "U     500582\n",
       "F     592701\n",
       "M    1843699\n",
       "Name: SUSP_SEX, dtype: int64"
      ]
     },
     "execution_count": 51,
     "metadata": {},
     "output_type": "execute_result"
    }
   ],
   "source": [
    "crimes['SUSP_SEX'].value_counts().sort_values(ascending=True)"
   ]
  },
  {
   "cell_type": "code",
   "execution_count": 52,
   "metadata": {},
   "outputs": [],
   "source": [
    "crimes = crimes[crimes['OFNS_DESC'] != 'OTHER STATE LAWS (NON PENAL LAW)']\n",
    "crimes = crimes[crimes['OFNS_DESC'] != 'OFFENSES AGAINST MARRIAGE UNCL']\n",
    "crimes = crimes[crimes['OFNS_DESC'] != 'LOITERING/DEVIATE SEX']\n",
    "crimes = crimes[crimes['OFNS_DESC'] != 'FORTUNE TELLING']\n",
    "crimes = crimes[crimes['OFNS_DESC'] != 'ABORTION']\n",
    "crimes = crimes[crimes['OFNS_DESC'] != 'NYS LAWS-UNCLASSIFIED VIOLATION']\n",
    "crimes = crimes[crimes['OFNS_DESC'] != 'NEW YORK CITY HEALTH CODE']\n",
    "crimes = crimes[crimes['OFNS_DESC'] != 'OTHER STATE LAWS (NON PENAL LA']\n",
    "crimes = crimes[crimes['OFNS_DESC'] != 'OTHER STATE LAWS']\n",
    "#crimes = crimes[crimes['SUSP_RACE'] != 'UNKNOWN']\n",
    "#crimes = crimes[crimes['SUSP_SEX'] != 'U']"
   ]
  },
  {
   "cell_type": "code",
   "execution_count": 53,
   "metadata": {},
   "outputs": [],
   "source": [
    "crimes['OFNS_DESC'].replace('HOMICIDE-NEGLIGENT-VEHICLE','HOMICIDE-NEGLIGENT',inplace=True)\n",
    "crimes['OFNS_DESC'].replace('HOMICIDE-NEGLIGENT,UNCLASSIFIE','HOMICIDE-NEGLIGENT',inplace=True)\n",
    "\n",
    "crimes['OFNS_DESC'].replace('LOITERING/GAMBLING (CARDS, DIC','LOITERING',inplace=True)\n",
    "crimes['OFNS_DESC'].replace('LOITERING','LOITERING',inplace=True)\n",
    "\n",
    "crimes['OFNS_DESC'].replace('OTHER OFFENSES RELATED TO THEF','THEFT-FRAUD',inplace=True)\n",
    "crimes['OFNS_DESC'].replace('OFFENSES INVOLVING FRAUD','THEFT-FRAUD',inplace=True)\n",
    "crimes['OFNS_DESC'].replace('FRAUDS','THEFT-FRAUD',inplace=True)\n",
    "\n",
    "crimes['OFNS_DESC'].replace('INTOXICATED & IMPAIRED DRIVING', 'INTOXICATED/IMPAIRED DRIVING',inplace=True)\n",
    "\n",
    "crimes['OFNS_DESC'].replace('PETIT LARCENY OF MOTOR VEHICLE', 'LARCENY OF MOTOR VEHICLE',inplace=True)\n",
    "crimes['OFNS_DESC'].replace('GRAND LARCENY OF MOTOR VEHICLE', 'LARCENY OF MOTOR VEHICLE',inplace=True)\n",
    "crimes['OFNS_DESC'].replace(\"BURGLAR'S TOOLS\", 'BURGLARY',inplace=True)\n",
    "crimes['OFNS_DESC'].replace(\"FRAUDULENT ACCOSTING\", 'MISCELLANEOUS PENAL LAW',inplace=True)\n",
    "crimes['OFNS_DESC'].replace(\"OTHER TRAFFIC INFRACTION\", 'VEHICLE AND TRAFFIC LAWS',inplace=True)\n",
    "crimes['OFNS_DESC'].replace(\"THEFT OF SERVICES\", 'PETIT LARCENY',inplace=True)\n",
    "crimes['OFNS_DESC'].replace(\"ENDAN WELFARE INCOMP\", 'OFF. AGNST PUB ORD SENSBLTY &',inplace=True)\n",
    "crimes['OFNS_DESC'].replace(\"OFFENSES AGAINST PUBLIC SAFETY\", 'OFF. AGNST PUB ORD SENSBLTY &',inplace=True)\n",
    "crimes['OFNS_DESC'].replace(\"DISORDERLY CONDUCT\", 'OFF. AGNST PUB ORD SENSBLTY &',inplace=True)\n",
    "crimes['OFNS_DESC'].replace(\"JOSTLING\", 'OFFENSES AGAINST THE PERSON', inplace=True)\n",
    "crimes['OFNS_DESC'].replace(\"OFFENSES AGAINST THE PERSON\", 'OFF. AGNST PUB ORD SENSBLTY &',inplace=True)\n",
    "crimes['OFNS_DESC'].replace(\"DISORDERLY CONDUCT\", 'OFF. AGNST PUB ORD SENSBLTY &',inplace=True)\n",
    "crimes['OFNS_DESC'].replace(\"ADMINISTRATIVE CODES\", 'ADMINISTRATIVE CODE',inplace=True)\n",
    "\n",
    "crimes['PREM_TYP_DESC'].replace('RESIDENCE - APT. HOUSE','RESIDENCE',inplace=True)\n",
    "crimes['PREM_TYP_DESC'].replace('RESIDENCE - PUBLIC HOUSING','RESIDENCE',inplace=True)\n",
    "crimes['PREM_TYP_DESC'].replace('RESIDENCE-HOUSE','RESIDENCE',inplace=True)\n",
    "\n",
    "crimes['PREM_TYP_DESC'].replace('CANDY STORE','STORE',inplace=True)\n",
    "crimes['PREM_TYP_DESC'].replace('CHAIN STORE','STORE',inplace=True)\n",
    "crimes['PREM_TYP_DESC'].replace('DEPARTMENT STORE','STORE',inplace=True)\n",
    "crimes['PREM_TYP_DESC'].replace('DRUG STORE','STORE',inplace=True)\n",
    "crimes['PREM_TYP_DESC'].replace('RESIDENCE-HOUSE','STORE',inplace=True)\n",
    "crimes['PREM_TYP_DESC'].replace('LIQUOR STORE','STORE',inplace=True)\n",
    "crimes['PREM_TYP_DESC'].replace('STORE UNCLASSIFIED','STORE',inplace=True)\n",
    "crimes['PREM_TYP_DESC'].replace('TELECOMM. STORE','STORE',inplace=True)\n",
    "crimes['PREM_TYP_DESC'].replace('VARIETY STORE','STORE',inplace=True)\n",
    "crimes['PREM_TYP_DESC'].replace('VIDEO STORE','STORE',inplace=True)\n",
    "crimes['PREM_TYP_DESC'].replace('SMALL MERCHANT','STORE',inplace=True)\n",
    "crimes['PREM_TYP_DESC'].replace('SHOE','STORE',inplace=True)\n",
    "crimes['PREM_TYP_DESC'].replace('FOOD SUPERMARKET','STORE',inplace=True)\n",
    "crimes['PREM_TYP_DESC'].replace('GROCERY/BODEGA','STORE',inplace=True)\n",
    "crimes['PREM_TYP_DESC'].replace('JEWELRY','STORE',inplace=True)\n",
    "crimes['PREM_TYP_DESC'].replace('BOOK/CARD','STORE',inplace=True)\n",
    "crimes['PREM_TYP_DESC'].replace('CANDY STORE','STORE',inplace=True)\n",
    "crimes['PREM_TYP_DESC'].replace('CLOTHING/BOUTIQUE','STORE',inplace=True)\n",
    "\n",
    "crimes['PREM_TYP_DESC'].replace('BAR/NIGHT CLUB','RESTAURANT/BAR',inplace=True)\n",
    "crimes['PREM_TYP_DESC'].replace('RESTAURANT/DINER','RESTAURANT/BAR',inplace=True)\n",
    "crimes['PREM_TYP_DESC'].replace('FAST FOOD','RESTAURANT/BAR',inplace=True)\n",
    "\n",
    "crimes['PREM_TYP_DESC'].replace('PARKING LOT/GARAGE (PRIVATE)','PARKING_LOT',inplace=True)\n",
    "crimes['PREM_TYP_DESC'].replace('PARKING LOT/GARAGE (PUBLIC)','PARKING_LOT',inplace=True)\n",
    "\n",
    "crimes['PREM_TYP_DESC'].replace('PARKING LOT/GARAGE (PRIVATE)','SCHOOL',inplace=True)\n",
    "crimes['PREM_TYP_DESC'].replace('PARKING LOT/GARAGE (PUBLIC)','SCHOOL',inplace=True)\n",
    "\n",
    "crimes['PREM_TYP_DESC'].replace('TAXI (LIVERY LICENSED)','TRANSIT',inplace=True)\n",
    "crimes['PREM_TYP_DESC'].replace('TAXI (YELLOW LICENSED)','TRANSIT',inplace=True)\n",
    "crimes['PREM_TYP_DESC'].replace('TAXI/LIVERY (UNLICENSED)','TRANSIT',inplace=True)\n",
    "crimes['PREM_TYP_DESC'].replace('TRAMWAY','TRANSIT',inplace=True)\n",
    "crimes['PREM_TYP_DESC'].replace('TRANSIT - NYC SUBWAY','TRANSIT',inplace=True)\n",
    "crimes['PREM_TYP_DESC'].replace('TRANSIT FACILITY (OTHER)','TRANSIT',inplace=True)\n",
    "crimes['PREM_TYP_DESC'].replace('HIGHWAY/PARKWAY','TRANSIT',inplace=True)\n",
    "crimes['PREM_TYP_DESC'].replace('BUS (NYC TRANSIT)','TRANSIT',inplace=True)\n",
    "crimes['PREM_TYP_DESC'].replace('BUS (OTHER)','TRANSIT',inplace=True)\n",
    "\n",
    "crimes['PREM_TYP_DESC'].replace('MOSQUE','RELIGIOUS',inplace=True)\n",
    "crimes['PREM_TYP_DESC'].replace('CHURCH','RELIGIOUS',inplace=True)\n",
    "crimes['PREM_TYP_DESC'].replace('SYNAGOGUE','RELIGIOUS',inplace=True)\n",
    "crimes['PREM_TYP_DESC'].replace('OTHER HOUSE OF WORSHIP','RELIGIOUS',inplace=True)\n",
    "\n",
    "crimes['PREM_TYP_DESC'].replace('ABANDONED BUILDING','OTHER',inplace=True)\n"
   ]
  },
  {
   "cell_type": "code",
   "execution_count": 54,
   "metadata": {},
   "outputs": [
    {
     "data": {
      "text/plain": [
       "(5896078, 17)"
      ]
     },
     "execution_count": 54,
     "metadata": {},
     "output_type": "execute_result"
    }
   ],
   "source": [
    "crimes.shape"
   ]
  },
  {
   "cell_type": "code",
   "execution_count": 55,
   "metadata": {
    "scrolled": false
   },
   "outputs": [
    {
     "data": {
      "text/plain": [
       "(999975, 17)"
      ]
     },
     "execution_count": 55,
     "metadata": {},
     "output_type": "execute_result"
    }
   ],
   "source": [
    "crimes = crimes.sample(frac=0.1696, random_state=1, axis=0)\n",
    "crimes.shape"
   ]
  },
  {
   "cell_type": "markdown",
   "metadata": {},
   "source": [
    "### Feature engeneering"
   ]
  },
  {
   "cell_type": "code",
   "execution_count": 56,
   "metadata": {},
   "outputs": [
    {
     "data": {
      "text/plain": [
       "2165592    2018-09-19\n",
       "4593703    2009-01-13\n",
       "4445111    2009-04-24\n",
       "Name: Date, dtype: object"
      ]
     },
     "execution_count": 56,
     "metadata": {},
     "output_type": "execute_result"
    }
   ],
   "source": [
    "crimes['Date'] = crimes.TimeStamp.dt.date\n",
    "crimes['Date'].sample(3)"
   ]
  },
  {
   "cell_type": "code",
   "execution_count": 57,
   "metadata": {
    "colab": {
     "base_uri": "https://localhost:8080/",
     "height": 84
    },
    "colab_type": "code",
    "executionInfo": {
     "elapsed": 189243,
     "status": "ok",
     "timestamp": 1559151572385,
     "user": {
      "displayName": "Djordje",
      "photoUrl": "https://lh4.googleusercontent.com/-Qp4HD2lnvpw/AAAAAAAAAAI/AAAAAAAAAsc/rQVbrmh36g4/s64/photo.jpg",
      "userId": "02440317835448491099"
     },
     "user_tz": -120
    },
    "id": "I6OPqBVKwedj",
    "outputId": "eb0df56e-05c8-4413-c7cc-fd00ca8be3d9"
   },
   "outputs": [
    {
     "data": {
      "text/plain": [
       "2154701    2018\n",
       "5105337    2010\n",
       "2022809    2017\n",
       "Name: Year, dtype: int64"
      ]
     },
     "execution_count": 57,
     "metadata": {},
     "output_type": "execute_result"
    }
   ],
   "source": [
    "crimes['Year'] = crimes.TimeStamp.dt.year\n",
    "crimes['Year'].sample(3)"
   ]
  },
  {
   "cell_type": "code",
   "execution_count": 58,
   "metadata": {
    "colab": {
     "base_uri": "https://localhost:8080/",
     "height": 84
    },
    "colab_type": "code",
    "executionInfo": {
     "elapsed": 189868,
     "status": "ok",
     "timestamp": 1559151573063,
     "user": {
      "displayName": "Djordje",
      "photoUrl": "https://lh4.googleusercontent.com/-Qp4HD2lnvpw/AAAAAAAAAAI/AAAAAAAAAsc/rQVbrmh36g4/s64/photo.jpg",
      "userId": "02440317835448491099"
     },
     "user_tz": -120
    },
    "id": "-7Ycec77wnQ4",
    "outputId": "3dd4fe29-6dca-472a-cddb-489ac7b49ec3"
   },
   "outputs": [
    {
     "data": {
      "text/plain": [
       "4677657    11\n",
       "1805675     7\n",
       "4677783    11\n",
       "Name: Month, dtype: int64"
      ]
     },
     "execution_count": 58,
     "metadata": {},
     "output_type": "execute_result"
    }
   ],
   "source": [
    "crimes['Month'] = crimes.TimeStamp.dt.month\n",
    "crimes['Month'].sample(3)"
   ]
  },
  {
   "cell_type": "code",
   "execution_count": 59,
   "metadata": {},
   "outputs": [
    {
     "data": {
      "text/plain": [
       "3588588      Tuesday\n",
       "1068773    Wednesday\n",
       "761482     Wednesday\n",
       "Name: Day, dtype: object"
      ]
     },
     "execution_count": 59,
     "metadata": {},
     "output_type": "execute_result"
    }
   ],
   "source": [
    "crimes['Day'] = crimes['TimeStamp'].dt.weekday_name\n",
    "crimes['Day'].sample(3)"
   ]
  },
  {
   "cell_type": "code",
   "execution_count": 60,
   "metadata": {},
   "outputs": [],
   "source": [
    "days_to_int_dict = {\n",
    "        'Monday': 1,\n",
    "        'Tuesday': 2,\n",
    "        'Wednesday': 3,\n",
    "        'Thursday': 4,\n",
    "        'Friday': 5,\n",
    "        'Saturday': 6,\n",
    "        'Sunday': 7,\n",
    "}\n",
    "crimes['Day'] = crimes['Day'].map(days_to_int_dict)"
   ]
  },
  {
   "cell_type": "code",
   "execution_count": 61,
   "metadata": {
    "scrolled": true
   },
   "outputs": [
    {
     "data": {
      "text/plain": [
       "3160449    17\n",
       "5034928    15\n",
       "3423409    21\n",
       "Name: Hour, dtype: int64"
      ]
     },
     "execution_count": 61,
     "metadata": {},
     "output_type": "execute_result"
    }
   ],
   "source": [
    "crimes['Hour'] = crimes.TimeStamp.dt.hour\n",
    "crimes['Hour'].sample(3)"
   ]
  },
  {
   "cell_type": "code",
   "execution_count": 62,
   "metadata": {},
   "outputs": [],
   "source": [
    "crimes['DuringDay']  = crimes.Hour.apply(lambda x: 1 if (x > 7 and x < 20) else 0)"
   ]
  },
  {
   "cell_type": "code",
   "execution_count": 63,
   "metadata": {},
   "outputs": [
    {
     "name": "stdout",
     "output_type": "stream",
     "text": [
      "Done Outputing data_analyse.csv\n"
     ]
    }
   ],
   "source": [
    "crimes.to_csv('data_analyse.csv',index=False)\n",
    "print('Done Outputing data_analyse.csv')"
   ]
  },
  {
   "cell_type": "code",
   "execution_count": 64,
   "metadata": {},
   "outputs": [],
   "source": [
    "crimes.drop(['CMPLNT_NUM', 'DuringDay',  'TimeStamp', 'LAW_CAT_CD', 'PD_DESC', 'PREM_TYP_DESC', 'Date','SUSP_RACE', 'SUSP_SEX', 'VIC_RACE', 'VIC_SEX', 'JURIS_DESC', 'Latitude', 'Longitude'], inplace=True, axis=1)"
   ]
  },
  {
   "cell_type": "code",
   "execution_count": 65,
   "metadata": {
    "scrolled": false
   },
   "outputs": [
    {
     "data": {
      "text/html": [
       "<div>\n",
       "<style scoped>\n",
       "    .dataframe tbody tr th:only-of-type {\n",
       "        vertical-align: middle;\n",
       "    }\n",
       "\n",
       "    .dataframe tbody tr th {\n",
       "        vertical-align: top;\n",
       "    }\n",
       "\n",
       "    .dataframe thead th {\n",
       "        text-align: right;\n",
       "    }\n",
       "</style>\n",
       "<table border=\"1\" class=\"dataframe\">\n",
       "  <thead>\n",
       "    <tr style=\"text-align: right;\">\n",
       "      <th></th>\n",
       "      <th>OFNS_DESC</th>\n",
       "      <th>BORO_NM</th>\n",
       "      <th>X_COORD_CD</th>\n",
       "      <th>Y_COORD_CD</th>\n",
       "      <th>PATROL_BORO</th>\n",
       "      <th>Year</th>\n",
       "      <th>Month</th>\n",
       "      <th>Day</th>\n",
       "      <th>Hour</th>\n",
       "    </tr>\n",
       "  </thead>\n",
       "  <tbody>\n",
       "    <tr>\n",
       "      <th>4704836</th>\n",
       "      <td>CRIMINAL MISCHIEF &amp; RELATED OF</td>\n",
       "      <td>QUEENS</td>\n",
       "      <td>1040294.0</td>\n",
       "      <td>192850.0</td>\n",
       "      <td>PATROL BORO QUEENS SOUTH</td>\n",
       "      <td>2010</td>\n",
       "      <td>10</td>\n",
       "      <td>5</td>\n",
       "      <td>10</td>\n",
       "    </tr>\n",
       "    <tr>\n",
       "      <th>612975</th>\n",
       "      <td>GRAND LARCENY</td>\n",
       "      <td>QUEENS</td>\n",
       "      <td>1048176.0</td>\n",
       "      <td>215253.0</td>\n",
       "      <td>PATROL BORO QUEENS NORTH</td>\n",
       "      <td>2013</td>\n",
       "      <td>12</td>\n",
       "      <td>1</td>\n",
       "      <td>18</td>\n",
       "    </tr>\n",
       "    <tr>\n",
       "      <th>2067465</th>\n",
       "      <td>DANGEROUS DRUGS</td>\n",
       "      <td>BRONX</td>\n",
       "      <td>1010169.0</td>\n",
       "      <td>256970.0</td>\n",
       "      <td>PATROL BORO BRONX</td>\n",
       "      <td>2018</td>\n",
       "      <td>12</td>\n",
       "      <td>5</td>\n",
       "      <td>18</td>\n",
       "    </tr>\n",
       "  </tbody>\n",
       "</table>\n",
       "</div>"
      ],
      "text/plain": [
       "                              OFNS_DESC BORO_NM  X_COORD_CD  Y_COORD_CD  \\\n",
       "4704836  CRIMINAL MISCHIEF & RELATED OF  QUEENS   1040294.0    192850.0   \n",
       "612975                    GRAND LARCENY  QUEENS   1048176.0    215253.0   \n",
       "2067465                 DANGEROUS DRUGS   BRONX   1010169.0    256970.0   \n",
       "\n",
       "                      PATROL_BORO  Year  Month  Day  Hour  \n",
       "4704836  PATROL BORO QUEENS SOUTH  2010     10    5    10  \n",
       "612975   PATROL BORO QUEENS NORTH  2013     12    1    18  \n",
       "2067465         PATROL BORO BRONX  2018     12    5    18  "
      ]
     },
     "execution_count": 65,
     "metadata": {},
     "output_type": "execute_result"
    }
   ],
   "source": [
    "crimes.sample(3)"
   ]
  },
  {
   "cell_type": "code",
   "execution_count": 66,
   "metadata": {
    "colab": {
     "base_uri": "https://localhost:8080/",
     "height": 50
    },
    "colab_type": "code",
    "executionInfo": {
     "elapsed": 480460,
     "status": "ok",
     "timestamp": 1559151863750,
     "user": {
      "displayName": "Djordje",
      "photoUrl": "https://lh4.googleusercontent.com/-Qp4HD2lnvpw/AAAAAAAAAAI/AAAAAAAAAsc/rQVbrmh36g4/s64/photo.jpg",
      "userId": "02440317835448491099"
     },
     "user_tz": -120
    },
    "id": "RvMh9FU5rG0O",
    "outputId": "417fade5-e0f2-421a-ff3f-68b412321743",
    "scrolled": true
   },
   "outputs": [
    {
     "name": "stdout",
     "output_type": "stream",
     "text": [
      "Done Outputing data_clean.csv\n"
     ]
    }
   ],
   "source": [
    "crimes.to_csv('data_clean.csv',index=False)\n",
    "print('Done Outputing data_clean.csv')"
   ]
  }
 ],
 "metadata": {
  "colab": {
   "collapsed_sections": [],
   "name": "Preprocessing.ipynb",
   "provenance": [],
   "version": "0.3.2"
  },
  "kernelspec": {
   "display_name": "Python 3",
   "language": "python",
   "name": "python3"
  },
  "language_info": {
   "codemirror_mode": {
    "name": "ipython",
    "version": 3
   },
   "file_extension": ".py",
   "mimetype": "text/x-python",
   "name": "python",
   "nbconvert_exporter": "python",
   "pygments_lexer": "ipython3",
   "version": "3.7.3"
  }
 },
 "nbformat": 4,
 "nbformat_minor": 1
}
