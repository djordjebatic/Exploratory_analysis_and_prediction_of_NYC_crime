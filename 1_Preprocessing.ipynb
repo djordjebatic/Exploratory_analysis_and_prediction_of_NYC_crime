{
 "cells": [
  {
   "cell_type": "code",
   "execution_count": 1,
   "metadata": {
    "colab": {
     "base_uri": "https://localhost:8080/",
     "height": 518
    },
    "colab_type": "code",
    "executionInfo": {
     "elapsed": 144805,
     "status": "ok",
     "timestamp": 1559151527633,
     "user": {
      "displayName": "Djordje",
      "photoUrl": "https://lh4.googleusercontent.com/-Qp4HD2lnvpw/AAAAAAAAAAI/AAAAAAAAAsc/rQVbrmh36g4/s64/photo.jpg",
      "userId": "02440317835448491099"
     },
     "user_tz": -120
    },
    "id": "XYrLDJK1rTNq",
    "outputId": "7a982105-5729-4777-a91f-0b2b976f1f9a",
    "scrolled": false
   },
   "outputs": [
    {
     "name": "stderr",
     "output_type": "stream",
     "text": [
      "C:\\Users\\Lenovo\\Anaconda3\\lib\\site-packages\\IPython\\core\\interactiveshell.py:3049: DtypeWarning: Columns (18,20) have mixed types. Specify dtype option on import or set low_memory=False.\n",
      "  interactivity=interactivity, compiler=compiler, result=result)\n"
     ]
    },
    {
     "name": "stdout",
     "output_type": "stream",
     "text": [
      "Dataset Shape:  (6500870, 35)\n"
     ]
    },
    {
     "data": {
      "text/html": [
       "<div>\n",
       "<style scoped>\n",
       "    .dataframe tbody tr th:only-of-type {\n",
       "        vertical-align: middle;\n",
       "    }\n",
       "\n",
       "    .dataframe tbody tr th {\n",
       "        vertical-align: top;\n",
       "    }\n",
       "\n",
       "    .dataframe thead th {\n",
       "        text-align: right;\n",
       "    }\n",
       "</style>\n",
       "<table border=\"1\" class=\"dataframe\">\n",
       "  <thead>\n",
       "    <tr style=\"text-align: right;\">\n",
       "      <th></th>\n",
       "      <th>CMPLNT_NUM</th>\n",
       "      <th>CMPLNT_FR_DT</th>\n",
       "      <th>CMPLNT_FR_TM</th>\n",
       "      <th>CMPLNT_TO_DT</th>\n",
       "      <th>CMPLNT_TO_TM</th>\n",
       "      <th>ADDR_PCT_CD</th>\n",
       "      <th>RPT_DT</th>\n",
       "      <th>KY_CD</th>\n",
       "      <th>OFNS_DESC</th>\n",
       "      <th>PD_CD</th>\n",
       "      <th>...</th>\n",
       "      <th>SUSP_SEX</th>\n",
       "      <th>TRANSIT_DISTRICT</th>\n",
       "      <th>Latitude</th>\n",
       "      <th>Longitude</th>\n",
       "      <th>Lat_Lon</th>\n",
       "      <th>PATROL_BORO</th>\n",
       "      <th>STATION_NAME</th>\n",
       "      <th>VIC_AGE_GROUP</th>\n",
       "      <th>VIC_RACE</th>\n",
       "      <th>VIC_SEX</th>\n",
       "    </tr>\n",
       "  </thead>\n",
       "  <tbody>\n",
       "    <tr>\n",
       "      <th>0</th>\n",
       "      <td>238346510</td>\n",
       "      <td>04/05/2013</td>\n",
       "      <td>22:57:00</td>\n",
       "      <td>04/05/2013</td>\n",
       "      <td>23:06:00</td>\n",
       "      <td>77.0</td>\n",
       "      <td>04/06/2013</td>\n",
       "      <td>118</td>\n",
       "      <td>DANGEROUS WEAPONS</td>\n",
       "      <td>793.0</td>\n",
       "      <td>...</td>\n",
       "      <td>NaN</td>\n",
       "      <td>NaN</td>\n",
       "      <td>40.672009</td>\n",
       "      <td>-73.959886</td>\n",
       "      <td>(40.67200915, -73.959885679)</td>\n",
       "      <td>PATROL BORO BKLYN NORTH</td>\n",
       "      <td>NaN</td>\n",
       "      <td>45-64</td>\n",
       "      <td>BLACK</td>\n",
       "      <td>F</td>\n",
       "    </tr>\n",
       "    <tr>\n",
       "      <th>1</th>\n",
       "      <td>514112653</td>\n",
       "      <td>04/05/2013</td>\n",
       "      <td>22:55:00</td>\n",
       "      <td>04/06/2013</td>\n",
       "      <td>00:02:00</td>\n",
       "      <td>1.0</td>\n",
       "      <td>04/06/2013</td>\n",
       "      <td>361</td>\n",
       "      <td>OFF. AGNST PUB ORD SENSBLTY &amp;</td>\n",
       "      <td>639.0</td>\n",
       "      <td>...</td>\n",
       "      <td>NaN</td>\n",
       "      <td>NaN</td>\n",
       "      <td>40.726316</td>\n",
       "      <td>-74.001975</td>\n",
       "      <td>(40.726315852, -74.001974956)</td>\n",
       "      <td>PATROL BORO MAN SOUTH</td>\n",
       "      <td>NaN</td>\n",
       "      <td>65+</td>\n",
       "      <td>WHITE</td>\n",
       "      <td>F</td>\n",
       "    </tr>\n",
       "    <tr>\n",
       "      <th>2</th>\n",
       "      <td>865099785</td>\n",
       "      <td>04/05/2013</td>\n",
       "      <td>22:47:00</td>\n",
       "      <td>04/05/2013</td>\n",
       "      <td>23:09:00</td>\n",
       "      <td>44.0</td>\n",
       "      <td>04/06/2013</td>\n",
       "      <td>106</td>\n",
       "      <td>FELONY ASSAULT</td>\n",
       "      <td>105.0</td>\n",
       "      <td>...</td>\n",
       "      <td>NaN</td>\n",
       "      <td>NaN</td>\n",
       "      <td>40.831270</td>\n",
       "      <td>-73.914266</td>\n",
       "      <td>(40.831270161, -73.914265926)</td>\n",
       "      <td>PATROL BORO BRONX</td>\n",
       "      <td>NaN</td>\n",
       "      <td>NaN</td>\n",
       "      <td>UNKNOWN</td>\n",
       "      <td>F</td>\n",
       "    </tr>\n",
       "  </tbody>\n",
       "</table>\n",
       "<p>3 rows × 35 columns</p>\n",
       "</div>"
      ],
      "text/plain": [
       "   CMPLNT_NUM CMPLNT_FR_DT CMPLNT_FR_TM CMPLNT_TO_DT CMPLNT_TO_TM  \\\n",
       "0   238346510   04/05/2013     22:57:00   04/05/2013     23:06:00   \n",
       "1   514112653   04/05/2013     22:55:00   04/06/2013     00:02:00   \n",
       "2   865099785   04/05/2013     22:47:00   04/05/2013     23:09:00   \n",
       "\n",
       "   ADDR_PCT_CD      RPT_DT  KY_CD                      OFNS_DESC  PD_CD  ...  \\\n",
       "0         77.0  04/06/2013    118              DANGEROUS WEAPONS  793.0  ...   \n",
       "1          1.0  04/06/2013    361  OFF. AGNST PUB ORD SENSBLTY &  639.0  ...   \n",
       "2         44.0  04/06/2013    106                 FELONY ASSAULT  105.0  ...   \n",
       "\n",
       "  SUSP_SEX TRANSIT_DISTRICT   Latitude  Longitude  \\\n",
       "0      NaN              NaN  40.672009 -73.959886   \n",
       "1      NaN              NaN  40.726316 -74.001975   \n",
       "2      NaN              NaN  40.831270 -73.914266   \n",
       "\n",
       "                         Lat_Lon              PATROL_BORO STATION_NAME  \\\n",
       "0   (40.67200915, -73.959885679)  PATROL BORO BKLYN NORTH          NaN   \n",
       "1  (40.726315852, -74.001974956)    PATROL BORO MAN SOUTH          NaN   \n",
       "2  (40.831270161, -73.914265926)        PATROL BORO BRONX          NaN   \n",
       "\n",
       "   VIC_AGE_GROUP VIC_RACE VIC_SEX  \n",
       "0          45-64    BLACK       F  \n",
       "1            65+    WHITE       F  \n",
       "2            NaN  UNKNOWN       F  \n",
       "\n",
       "[3 rows x 35 columns]"
      ]
     },
     "execution_count": 1,
     "metadata": {},
     "output_type": "execute_result"
    }
   ],
   "source": [
    "import numpy as np \n",
    "import pandas as pd \n",
    "import matplotlib.pyplot as plt\n",
    "import seaborn as sns\n",
    "from sklearn.model_selection import train_test_split\n",
    "%matplotlib inline\n",
    "\n",
    "crimes = pd.read_csv('../NYPD_Complaint_Data_Historic.csv',error_bad_lines=False)\n",
    "print('Dataset Shape: ', crimes.shape)\n",
    "crimes.head(3)"
   ]
  },
  {
   "cell_type": "code",
   "execution_count": 2,
   "metadata": {
    "colab": {
     "base_uri": "https://localhost:8080/",
     "height": 622
    },
    "colab_type": "code",
    "executionInfo": {
     "elapsed": 153592,
     "status": "ok",
     "timestamp": 1559151536479,
     "user": {
      "displayName": "Djordje",
      "photoUrl": "https://lh4.googleusercontent.com/-Qp4HD2lnvpw/AAAAAAAAAAI/AAAAAAAAAsc/rQVbrmh36g4/s64/photo.jpg",
      "userId": "02440317835448491099"
     },
     "user_tz": -120
    },
    "id": "nAuOXm29u5vk",
    "outputId": "548f6229-ebed-4ccf-85f9-9bd78ada0988",
    "scrolled": false
   },
   "outputs": [
    {
     "data": {
      "text/plain": [
       "CMPLNT_NUM                 0\n",
       "CMPLNT_FR_DT             655\n",
       "CMPLNT_FR_TM              48\n",
       "CMPLNT_TO_DT         1607101\n",
       "CMPLNT_TO_TM         1602801\n",
       "ADDR_PCT_CD             2166\n",
       "RPT_DT                     0\n",
       "KY_CD                      0\n",
       "OFNS_DESC              18805\n",
       "PD_CD                   5496\n",
       "PD_DESC                 5496\n",
       "CRM_ATPT_CPTD_CD           7\n",
       "LAW_CAT_CD                 0\n",
       "BORO_NM                10518\n",
       "LOC_OF_OCCUR_DESC    1394809\n",
       "PREM_TYP_DESC          37703\n",
       "JURIS_DESC                 0\n",
       "JURISDICTION_CODE       5496\n",
       "PARKS_NM             6479911\n",
       "HADEVELOPT           6177206\n",
       "HOUSING_PSA          5998248\n",
       "X_COORD_CD             17339\n",
       "Y_COORD_CD             17339\n",
       "SUSP_AGE_GROUP       4590963\n",
       "SUSP_RACE            3222422\n",
       "SUSP_SEX             3355736\n",
       "TRANSIT_DISTRICT     6356760\n",
       "Latitude               17339\n",
       "Longitude              17339\n",
       "Lat_Lon                17339\n",
       "PATROL_BORO             5953\n",
       "STATION_NAME         6356760\n",
       "VIC_AGE_GROUP        1638441\n",
       "VIC_RACE                 305\n",
       "VIC_SEX                  304\n",
       "dtype: int64"
      ]
     },
     "execution_count": 2,
     "metadata": {},
     "output_type": "execute_result"
    }
   ],
   "source": [
    "crimes.isnull().sum()"
   ]
  },
  {
   "cell_type": "code",
   "execution_count": 3,
   "metadata": {
    "scrolled": true
   },
   "outputs": [
    {
     "data": {
      "text/html": [
       "<div>\n",
       "<style scoped>\n",
       "    .dataframe tbody tr th:only-of-type {\n",
       "        vertical-align: middle;\n",
       "    }\n",
       "\n",
       "    .dataframe tbody tr th {\n",
       "        vertical-align: top;\n",
       "    }\n",
       "\n",
       "    .dataframe thead th {\n",
       "        text-align: right;\n",
       "    }\n",
       "</style>\n",
       "<table border=\"1\" class=\"dataframe\">\n",
       "  <thead>\n",
       "    <tr style=\"text-align: right;\">\n",
       "      <th></th>\n",
       "      <th>CMPLNT_NUM</th>\n",
       "      <th>ADDR_PCT_CD</th>\n",
       "      <th>KY_CD</th>\n",
       "      <th>PD_CD</th>\n",
       "      <th>JURISDICTION_CODE</th>\n",
       "      <th>X_COORD_CD</th>\n",
       "      <th>Y_COORD_CD</th>\n",
       "      <th>TRANSIT_DISTRICT</th>\n",
       "      <th>Latitude</th>\n",
       "      <th>Longitude</th>\n",
       "    </tr>\n",
       "  </thead>\n",
       "  <tbody>\n",
       "    <tr>\n",
       "      <th>count</th>\n",
       "      <td>6.500870e+06</td>\n",
       "      <td>6.498704e+06</td>\n",
       "      <td>6.500870e+06</td>\n",
       "      <td>6.495374e+06</td>\n",
       "      <td>6.495374e+06</td>\n",
       "      <td>6.483531e+06</td>\n",
       "      <td>6.483531e+06</td>\n",
       "      <td>144110.000000</td>\n",
       "      <td>6.483531e+06</td>\n",
       "      <td>6.483531e+06</td>\n",
       "    </tr>\n",
       "    <tr>\n",
       "      <th>mean</th>\n",
       "      <td>5.500375e+08</td>\n",
       "      <td>6.334385e+01</td>\n",
       "      <td>2.951970e+02</td>\n",
       "      <td>4.158180e+02</td>\n",
       "      <td>7.149465e-01</td>\n",
       "      <td>1.004771e+06</td>\n",
       "      <td>2.069993e+05</td>\n",
       "      <td>13.634946</td>\n",
       "      <td>4.073480e+01</td>\n",
       "      <td>-7.392592e+01</td>\n",
       "    </tr>\n",
       "    <tr>\n",
       "      <th>std</th>\n",
       "      <td>2.597725e+08</td>\n",
       "      <td>3.446073e+01</td>\n",
       "      <td>1.494116e+02</td>\n",
       "      <td>2.181813e+02</td>\n",
       "      <td>6.629446e+00</td>\n",
       "      <td>2.178907e+04</td>\n",
       "      <td>3.164418e+04</td>\n",
       "      <td>12.485026</td>\n",
       "      <td>8.675600e-02</td>\n",
       "      <td>7.857901e-02</td>\n",
       "    </tr>\n",
       "    <tr>\n",
       "      <th>min</th>\n",
       "      <td>1.000001e+08</td>\n",
       "      <td>1.000000e+00</td>\n",
       "      <td>1.010000e+02</td>\n",
       "      <td>1.010000e+02</td>\n",
       "      <td>0.000000e+00</td>\n",
       "      <td>1.110000e+02</td>\n",
       "      <td>1.110000e+02</td>\n",
       "      <td>1.000000</td>\n",
       "      <td>4.011271e+01</td>\n",
       "      <td>-7.751921e+01</td>\n",
       "    </tr>\n",
       "    <tr>\n",
       "      <th>25%</th>\n",
       "      <td>3.251865e+08</td>\n",
       "      <td>4.000000e+01</td>\n",
       "      <td>1.170000e+02</td>\n",
       "      <td>2.540000e+02</td>\n",
       "      <td>0.000000e+00</td>\n",
       "      <td>9.916830e+05</td>\n",
       "      <td>1.842840e+05</td>\n",
       "      <td>3.000000</td>\n",
       "      <td>4.067243e+01</td>\n",
       "      <td>-7.397323e+01</td>\n",
       "    </tr>\n",
       "    <tr>\n",
       "      <th>50%</th>\n",
       "      <td>5.499805e+08</td>\n",
       "      <td>6.300000e+01</td>\n",
       "      <td>3.410000e+02</td>\n",
       "      <td>3.880000e+02</td>\n",
       "      <td>0.000000e+00</td>\n",
       "      <td>1.004369e+06</td>\n",
       "      <td>2.058520e+05</td>\n",
       "      <td>11.000000</td>\n",
       "      <td>4.073167e+01</td>\n",
       "      <td>-7.392733e+01</td>\n",
       "    </tr>\n",
       "    <tr>\n",
       "      <th>75%</th>\n",
       "      <td>7.749793e+08</td>\n",
       "      <td>9.400000e+01</td>\n",
       "      <td>3.510000e+02</td>\n",
       "      <td>6.370000e+02</td>\n",
       "      <td>0.000000e+00</td>\n",
       "      <td>1.016581e+06</td>\n",
       "      <td>2.351590e+05</td>\n",
       "      <td>30.000000</td>\n",
       "      <td>4.081212e+01</td>\n",
       "      <td>-7.388328e+01</td>\n",
       "    </tr>\n",
       "    <tr>\n",
       "      <th>max</th>\n",
       "      <td>9.999999e+08</td>\n",
       "      <td>1.230000e+02</td>\n",
       "      <td>8.810000e+02</td>\n",
       "      <td>9.750000e+02</td>\n",
       "      <td>9.700000e+01</td>\n",
       "      <td>1.067298e+06</td>\n",
       "      <td>7.250292e+06</td>\n",
       "      <td>34.000000</td>\n",
       "      <td>5.965727e+01</td>\n",
       "      <td>-7.368479e+01</td>\n",
       "    </tr>\n",
       "  </tbody>\n",
       "</table>\n",
       "</div>"
      ],
      "text/plain": [
       "         CMPLNT_NUM   ADDR_PCT_CD         KY_CD         PD_CD  \\\n",
       "count  6.500870e+06  6.498704e+06  6.500870e+06  6.495374e+06   \n",
       "mean   5.500375e+08  6.334385e+01  2.951970e+02  4.158180e+02   \n",
       "std    2.597725e+08  3.446073e+01  1.494116e+02  2.181813e+02   \n",
       "min    1.000001e+08  1.000000e+00  1.010000e+02  1.010000e+02   \n",
       "25%    3.251865e+08  4.000000e+01  1.170000e+02  2.540000e+02   \n",
       "50%    5.499805e+08  6.300000e+01  3.410000e+02  3.880000e+02   \n",
       "75%    7.749793e+08  9.400000e+01  3.510000e+02  6.370000e+02   \n",
       "max    9.999999e+08  1.230000e+02  8.810000e+02  9.750000e+02   \n",
       "\n",
       "       JURISDICTION_CODE    X_COORD_CD    Y_COORD_CD  TRANSIT_DISTRICT  \\\n",
       "count       6.495374e+06  6.483531e+06  6.483531e+06     144110.000000   \n",
       "mean        7.149465e-01  1.004771e+06  2.069993e+05         13.634946   \n",
       "std         6.629446e+00  2.178907e+04  3.164418e+04         12.485026   \n",
       "min         0.000000e+00  1.110000e+02  1.110000e+02          1.000000   \n",
       "25%         0.000000e+00  9.916830e+05  1.842840e+05          3.000000   \n",
       "50%         0.000000e+00  1.004369e+06  2.058520e+05         11.000000   \n",
       "75%         0.000000e+00  1.016581e+06  2.351590e+05         30.000000   \n",
       "max         9.700000e+01  1.067298e+06  7.250292e+06         34.000000   \n",
       "\n",
       "           Latitude     Longitude  \n",
       "count  6.483531e+06  6.483531e+06  \n",
       "mean   4.073480e+01 -7.392592e+01  \n",
       "std    8.675600e-02  7.857901e-02  \n",
       "min    4.011271e+01 -7.751921e+01  \n",
       "25%    4.067243e+01 -7.397323e+01  \n",
       "50%    4.073167e+01 -7.392733e+01  \n",
       "75%    4.081212e+01 -7.388328e+01  \n",
       "max    5.965727e+01 -7.368479e+01  "
      ]
     },
     "execution_count": 3,
     "metadata": {},
     "output_type": "execute_result"
    }
   ],
   "source": [
    "crimes.describe()"
   ]
  },
  {
   "cell_type": "markdown",
   "metadata": {},
   "source": [
    "### Data cleaning"
   ]
  },
  {
   "cell_type": "code",
   "execution_count": 4,
   "metadata": {
    "colab": {
     "base_uri": "https://localhost:8080/",
     "height": 467
    },
    "colab_type": "code",
    "executionInfo": {
     "elapsed": 154635,
     "status": "ok",
     "timestamp": 1559151537571,
     "user": {
      "displayName": "Djordje",
      "photoUrl": "https://lh4.googleusercontent.com/-Qp4HD2lnvpw/AAAAAAAAAAI/AAAAAAAAAsc/rQVbrmh36g4/s64/photo.jpg",
      "userId": "02440317835448491099"
     },
     "user_tz": -120
    },
    "id": "hKeoDC-uvlDH",
    "outputId": "d4c788b1-2cb1-4881-ddc6-bb1d68d1a568",
    "scrolled": false
   },
   "outputs": [
    {
     "data": {
      "text/html": [
       "<div>\n",
       "<style scoped>\n",
       "    .dataframe tbody tr th:only-of-type {\n",
       "        vertical-align: middle;\n",
       "    }\n",
       "\n",
       "    .dataframe tbody tr th {\n",
       "        vertical-align: top;\n",
       "    }\n",
       "\n",
       "    .dataframe thead th {\n",
       "        text-align: right;\n",
       "    }\n",
       "</style>\n",
       "<table border=\"1\" class=\"dataframe\">\n",
       "  <thead>\n",
       "    <tr style=\"text-align: right;\">\n",
       "      <th></th>\n",
       "      <th>CMPLNT_NUM</th>\n",
       "      <th>CMPLNT_FR_DT</th>\n",
       "      <th>CMPLNT_FR_TM</th>\n",
       "      <th>OFNS_DESC</th>\n",
       "      <th>PD_DESC</th>\n",
       "      <th>LAW_CAT_CD</th>\n",
       "      <th>BORO_NM</th>\n",
       "      <th>PREM_TYP_DESC</th>\n",
       "      <th>JURIS_DESC</th>\n",
       "      <th>X_COORD_CD</th>\n",
       "      <th>Y_COORD_CD</th>\n",
       "      <th>SUSP_RACE</th>\n",
       "      <th>SUSP_SEX</th>\n",
       "      <th>Latitude</th>\n",
       "      <th>Longitude</th>\n",
       "      <th>PATROL_BORO</th>\n",
       "      <th>VIC_RACE</th>\n",
       "      <th>VIC_SEX</th>\n",
       "    </tr>\n",
       "  </thead>\n",
       "  <tbody>\n",
       "    <tr>\n",
       "      <th>0</th>\n",
       "      <td>238346510</td>\n",
       "      <td>04/05/2013</td>\n",
       "      <td>22:57:00</td>\n",
       "      <td>DANGEROUS WEAPONS</td>\n",
       "      <td>WEAPONS POSSESSION 3</td>\n",
       "      <td>FELONY</td>\n",
       "      <td>BROOKLYN</td>\n",
       "      <td>RESIDENCE - APT. HOUSE</td>\n",
       "      <td>N.Y. POLICE DEPT</td>\n",
       "      <td>995378.0</td>\n",
       "      <td>184107.0</td>\n",
       "      <td>NaN</td>\n",
       "      <td>NaN</td>\n",
       "      <td>40.672009</td>\n",
       "      <td>-73.959886</td>\n",
       "      <td>PATROL BORO BKLYN NORTH</td>\n",
       "      <td>BLACK</td>\n",
       "      <td>F</td>\n",
       "    </tr>\n",
       "    <tr>\n",
       "      <th>1</th>\n",
       "      <td>514112653</td>\n",
       "      <td>04/05/2013</td>\n",
       "      <td>22:55:00</td>\n",
       "      <td>OFF. AGNST PUB ORD SENSBLTY &amp;</td>\n",
       "      <td>AGGRAVATED HARASSMENT 2</td>\n",
       "      <td>MISDEMEANOR</td>\n",
       "      <td>MANHATTAN</td>\n",
       "      <td>RESIDENCE - APT. HOUSE</td>\n",
       "      <td>N.Y. POLICE DEPT</td>\n",
       "      <td>983703.0</td>\n",
       "      <td>203890.0</td>\n",
       "      <td>NaN</td>\n",
       "      <td>NaN</td>\n",
       "      <td>40.726316</td>\n",
       "      <td>-74.001975</td>\n",
       "      <td>PATROL BORO MAN SOUTH</td>\n",
       "      <td>WHITE</td>\n",
       "      <td>F</td>\n",
       "    </tr>\n",
       "    <tr>\n",
       "      <th>2</th>\n",
       "      <td>865099785</td>\n",
       "      <td>04/05/2013</td>\n",
       "      <td>22:47:00</td>\n",
       "      <td>FELONY ASSAULT</td>\n",
       "      <td>STRANGULATION 1ST</td>\n",
       "      <td>FELONY</td>\n",
       "      <td>BRONX</td>\n",
       "      <td>RESIDENCE - APT. HOUSE</td>\n",
       "      <td>N.Y. POLICE DEPT</td>\n",
       "      <td>1007976.0</td>\n",
       "      <td>242140.0</td>\n",
       "      <td>NaN</td>\n",
       "      <td>NaN</td>\n",
       "      <td>40.831270</td>\n",
       "      <td>-73.914266</td>\n",
       "      <td>PATROL BORO BRONX</td>\n",
       "      <td>UNKNOWN</td>\n",
       "      <td>F</td>\n",
       "    </tr>\n",
       "  </tbody>\n",
       "</table>\n",
       "</div>"
      ],
      "text/plain": [
       "   CMPLNT_NUM CMPLNT_FR_DT CMPLNT_FR_TM                      OFNS_DESC  \\\n",
       "0   238346510   04/05/2013     22:57:00              DANGEROUS WEAPONS   \n",
       "1   514112653   04/05/2013     22:55:00  OFF. AGNST PUB ORD SENSBLTY &   \n",
       "2   865099785   04/05/2013     22:47:00                 FELONY ASSAULT   \n",
       "\n",
       "                   PD_DESC   LAW_CAT_CD    BORO_NM           PREM_TYP_DESC  \\\n",
       "0     WEAPONS POSSESSION 3       FELONY   BROOKLYN  RESIDENCE - APT. HOUSE   \n",
       "1  AGGRAVATED HARASSMENT 2  MISDEMEANOR  MANHATTAN  RESIDENCE - APT. HOUSE   \n",
       "2        STRANGULATION 1ST       FELONY      BRONX  RESIDENCE - APT. HOUSE   \n",
       "\n",
       "         JURIS_DESC  X_COORD_CD  Y_COORD_CD SUSP_RACE SUSP_SEX   Latitude  \\\n",
       "0  N.Y. POLICE DEPT    995378.0    184107.0       NaN      NaN  40.672009   \n",
       "1  N.Y. POLICE DEPT    983703.0    203890.0       NaN      NaN  40.726316   \n",
       "2  N.Y. POLICE DEPT   1007976.0    242140.0       NaN      NaN  40.831270   \n",
       "\n",
       "   Longitude              PATROL_BORO VIC_RACE VIC_SEX  \n",
       "0 -73.959886  PATROL BORO BKLYN NORTH    BLACK       F  \n",
       "1 -74.001975    PATROL BORO MAN SOUTH    WHITE       F  \n",
       "2 -73.914266        PATROL BORO BRONX  UNKNOWN       F  "
      ]
     },
     "execution_count": 4,
     "metadata": {},
     "output_type": "execute_result"
    }
   ],
   "source": [
    "#droping useless/sparse columns\n",
    "crimes.drop(['CMPLNT_TO_DT', 'KY_CD', 'SUSP_AGE_GROUP','VIC_AGE_GROUP', 'CRM_ATPT_CPTD_CD', 'CMPLNT_TO_TM', 'RPT_DT', 'PD_CD', 'ADDR_PCT_CD', 'JURISDICTION_CODE', 'LOC_OF_OCCUR_DESC', 'HADEVELOPT', 'TRANSIT_DISTRICT','PARKS_NM', 'HOUSING_PSA', 'Lat_Lon', 'STATION_NAME'], inplace=True, axis=1)\n",
    "crimes.head(3)"
   ]
  },
  {
   "cell_type": "code",
   "execution_count": 5,
   "metadata": {
    "colab": {},
    "colab_type": "code",
    "id": "um1dtYEHu6kH"
   },
   "outputs": [],
   "source": [
    "#removing null values\n",
    "crimes = crimes[pd.notnull(crimes['Latitude'])]\n",
    "crimes = crimes[pd.notnull(crimes['CMPLNT_FR_DT'])]\n",
    "crimes = crimes[pd.notnull(crimes['CMPLNT_FR_TM'])]\n",
    "crimes = crimes[pd.notnull(crimes['OFNS_DESC'])]\n",
    "crimes = crimes[pd.notnull(crimes['BORO_NM'])]\n",
    "crimes = crimes[pd.notnull(crimes['PREM_TYP_DESC'])]\n",
    "crimes = crimes[pd.notnull(crimes['PATROL_BORO'])]"
   ]
  },
  {
   "cell_type": "code",
   "execution_count": 6,
   "metadata": {},
   "outputs": [],
   "source": [
    "#defining bounding box for New York City\n",
    "crimes = crimes[(crimes['Latitude'] < 40.9) & (crimes['Latitude'] > 40.5)]\n",
    "crimes = crimes[(crimes['Longitude'] < -73.7) & (crimes['Longitude'] > -74.3)]"
   ]
  },
  {
   "cell_type": "code",
   "execution_count": 7,
   "metadata": {},
   "outputs": [],
   "source": [
    "#Creating a DateTime column\n",
    "crimes['TimeStamp'] = crimes.pop('CMPLNT_FR_DT') + ' ' + crimes.pop('CMPLNT_FR_TM')"
   ]
  },
  {
   "cell_type": "code",
   "execution_count": 8,
   "metadata": {},
   "outputs": [],
   "source": [
    "crimes.TimeStamp = pd.to_datetime(crimes.TimeStamp, format='%m/%d/%Y %H:%M:%S', errors='coerce')"
   ]
  },
  {
   "cell_type": "code",
   "execution_count": 9,
   "metadata": {},
   "outputs": [],
   "source": [
    "#Complaints before 2006 were badly recorded\n",
    "crimes = crimes[(crimes['TimeStamp'].dt.year > 2006)]"
   ]
  },
  {
   "cell_type": "code",
   "execution_count": 10,
   "metadata": {
    "scrolled": false
   },
   "outputs": [
    {
     "data": {
      "text/plain": [
       "KIDNAPPING AND RELATED OFFENSES              2\n",
       "OFFENSES AGAINST MARRIAGE UNCL               3\n",
       "UNDER THE INFLUENCE OF DRUGS                 3\n",
       "ABORTION                                     7\n",
       "FORTUNE TELLING                              9\n",
       "OTHER STATE LAWS (NON PENAL LAW)            10\n",
       "OTHER TRAFFIC INFRACTION                    14\n",
       "LOITERING/DEVIATE SEX                       14\n",
       "ADMINISTRATIVE CODES                        17\n",
       "LOITERING FOR DRUG PURPOSES                 19\n",
       "LOITERING                                   22\n",
       "KIDNAPPING                                  29\n",
       "NYS LAWS-UNCLASSIFIED VIOLATION             44\n",
       "DISRUPTION OF A RELIGIOUS SERV              46\n",
       "INTOXICATED/IMPAIRED DRIVING                56\n",
       "UNLAWFUL POSS. WEAP. ON SCHOOL              57\n",
       "NEW YORK CITY HEALTH CODE                   79\n",
       "ANTICIPATORY OFFENSES                       90\n",
       "HOMICIDE-NEGLIGENT-VEHICLE                  94\n",
       "HOMICIDE-NEGLIGENT,UNCLASSIFIE             124\n",
       "ESCAPE 3                                   171\n",
       "LOITERING/GAMBLING (CARDS, DIC             204\n",
       "ENDAN WELFARE INCOMP                       213\n",
       "OTHER STATE LAWS                           249\n",
       "CHILD ABANDONMENT/NON SUPPORT              374\n",
       "JOSTLING                                   386\n",
       "AGRICULTURE & MRKTS LAW-UNCLASSIFIED       485\n",
       "OFFENSES AGAINST PUBLIC SAFETY             895\n",
       "PETIT LARCENY OF MOTOR VEHICLE             905\n",
       "DISORDERLY CONDUCT                         974\n",
       "                                         ...  \n",
       "OTHER STATE LAWS (NON PENAL LA            5649\n",
       "ADMINISTRATIVE CODE                      13055\n",
       "OTHER OFFENSES RELATED TO THEF           13735\n",
       "ARSON                                    14271\n",
       "OFFENSES AGAINST THE PERSON              14806\n",
       "RAPE                                     15953\n",
       "UNAUTHORIZED USE OF A VEHICLE            17520\n",
       "OFFENSES INVOLVING FRAUD                 19159\n",
       "POSSESSION OF STOLEN PROPERTY            31432\n",
       "FRAUDS                                   37050\n",
       "FORGERY                                  58754\n",
       "THEFT-FRAUD                              61035\n",
       "SEX CRIMES                               66818\n",
       "CRIMINAL TRESPASS                        69642\n",
       "VEHICLE AND TRAFFIC LAWS                 72554\n",
       "INTOXICATED & IMPAIRED DRIVING           82161\n",
       "GRAND LARCENY OF MOTOR VEHICLE          102766\n",
       "OFFENSES AGAINST PUBLIC ADMINI          118092\n",
       "DANGEROUS WEAPONS                       138489\n",
       "MISCELLANEOUS PENAL LAW                 147884\n",
       "BURGLARY                                203299\n",
       "ROBBERY                                 215951\n",
       "FELONY ASSAULT                          226488\n",
       "OFF. AGNST PUB ORD SENSBLTY &           310065\n",
       "DANGEROUS DRUGS                         368330\n",
       "GRAND LARCENY                           504327\n",
       "CRIMINAL MISCHIEF & RELATED OF          593033\n",
       "ASSAULT 3 & RELATED OFFENSES            622469\n",
       "HARRASSMENT 2                           731864\n",
       "PETIT LARCENY                           982332\n",
       "Name: OFNS_DESC, Length: 69, dtype: int64"
      ]
     },
     "execution_count": 10,
     "metadata": {},
     "output_type": "execute_result"
    }
   ],
   "source": [
    "crimes['OFNS_DESC'].value_counts().sort_values(ascending=True)"
   ]
  },
  {
   "cell_type": "markdown",
   "metadata": {},
   "source": []
  },
  {
   "cell_type": "code",
   "execution_count": 11,
   "metadata": {},
   "outputs": [],
   "source": [
    "#Removing rare/undefined crimes\n",
    "crimes = crimes[crimes['OFNS_DESC'] != 'OTHER STATE LAWS (NON PENAL LAW)']\n",
    "crimes = crimes[crimes['OFNS_DESC'] != 'OFFENSES AGAINST MARRIAGE UNCL']\n",
    "crimes = crimes[crimes['OFNS_DESC'] != 'LOITERING/DEVIATE SEX']\n",
    "crimes = crimes[crimes['OFNS_DESC'] != 'FORTUNE TELLING']\n",
    "crimes = crimes[crimes['OFNS_DESC'] != 'ABORTION']\n",
    "crimes = crimes[crimes['OFNS_DESC'] != 'NYS LAWS-UNCLASSIFIED VIOLATION']\n",
    "crimes = crimes[crimes['OFNS_DESC'] != 'NEW YORK CITY HEALTH CODE']\n",
    "crimes = crimes[crimes['OFNS_DESC'] != 'OTHER STATE LAWS (NON PENAL LA']\n",
    "crimes = crimes[crimes['OFNS_DESC'] != 'OTHER STATE LAWS']\n",
    "#crimes = crimes[crimes['SUSP_RACE'] != 'UNKNOWN']\n",
    "#crimes = crimes[crimes['SUSP_SEX'] != 'U']"
   ]
  },
  {
   "cell_type": "code",
   "execution_count": 12,
   "metadata": {},
   "outputs": [],
   "source": [
    "crimes['OFNS_DESC'].replace('HOMICIDE-NEGLIGENT-VEHICLE','HOMICIDE-NEGLIGENT',inplace=True)\n",
    "crimes['OFNS_DESC'].replace('HOMICIDE-NEGLIGENT,UNCLASSIFIE','HOMICIDE-NEGLIGENT',inplace=True)\n",
    "\n",
    "crimes['OFNS_DESC'].replace('LOITERING/GAMBLING (CARDS, DIC','LOITERING',inplace=True)\n",
    "crimes['OFNS_DESC'].replace('LOITERING','LOITERING',inplace=True)\n",
    "\n",
    "crimes['OFNS_DESC'].replace('OTHER OFFENSES RELATED TO THEF','THEFT-FRAUD',inplace=True)\n",
    "crimes['OFNS_DESC'].replace('OFFENSES INVOLVING FRAUD','THEFT-FRAUD',inplace=True)\n",
    "crimes['OFNS_DESC'].replace('FRAUDS','THEFT-FRAUD',inplace=True)\n",
    "\n",
    "crimes['OFNS_DESC'].replace('INTOXICATED & IMPAIRED DRIVING', 'INTOXICATED/IMPAIRED DRIVING',inplace=True)\n",
    "\n",
    "crimes['OFNS_DESC'].replace('PETIT LARCENY OF MOTOR VEHICLE', 'LARCENY OF MOTOR VEHICLE',inplace=True)\n",
    "crimes['OFNS_DESC'].replace('GRAND LARCENY OF MOTOR VEHICLE', 'LARCENY OF MOTOR VEHICLE',inplace=True)\n",
    "crimes['OFNS_DESC'].replace(\"BURGLAR'S TOOLS\", 'BURGLARY',inplace=True)\n",
    "crimes['OFNS_DESC'].replace(\"FRAUDULENT ACCOSTING\", 'MISCELLANEOUS PENAL LAW',inplace=True)\n",
    "crimes['OFNS_DESC'].replace(\"OTHER TRAFFIC INFRACTION\", 'VEHICLE AND TRAFFIC LAWS',inplace=True)\n",
    "crimes['OFNS_DESC'].replace(\"THEFT OF SERVICES\", 'PETIT LARCENY',inplace=True)\n",
    "crimes['OFNS_DESC'].replace(\"ENDAN WELFARE INCOMP\", 'OFF. AGNST PUB ORD SENSBLTY &',inplace=True)\n",
    "crimes['OFNS_DESC'].replace(\"OFFENSES AGAINST PUBLIC SAFETY\", 'OFF. AGNST PUB ORD SENSBLTY &',inplace=True)\n",
    "crimes['OFNS_DESC'].replace(\"DISORDERLY CONDUCT\", 'OFF. AGNST PUB ORD SENSBLTY &',inplace=True)\n",
    "crimes['OFNS_DESC'].replace(\"JOSTLING\", 'OFFENSES AGAINST THE PERSON', inplace=True)\n",
    "crimes['OFNS_DESC'].replace(\"OFFENSES AGAINST THE PERSON\", 'OFF. AGNST PUB ORD SENSBLTY &',inplace=True)\n",
    "crimes['OFNS_DESC'].replace(\"DISORDERLY CONDUCT\", 'OFF. AGNST PUB ORD SENSBLTY &',inplace=True)\n",
    "crimes['OFNS_DESC'].replace(\"ADMINISTRATIVE CODES\", 'ADMINISTRATIVE CODE',inplace=True)\n",
    "\n",
    "crimes['PREM_TYP_DESC'].replace('RESIDENCE - APT. HOUSE','RESIDENCE',inplace=True)\n",
    "crimes['PREM_TYP_DESC'].replace('RESIDENCE - PUBLIC HOUSING','RESIDENCE',inplace=True)\n",
    "crimes['PREM_TYP_DESC'].replace('RESIDENCE-HOUSE','RESIDENCE',inplace=True)\n",
    "\n",
    "crimes['PREM_TYP_DESC'].replace('CANDY STORE','STORE',inplace=True)\n",
    "crimes['PREM_TYP_DESC'].replace('CHAIN STORE','STORE',inplace=True)\n",
    "crimes['PREM_TYP_DESC'].replace('DEPARTMENT STORE','STORE',inplace=True)\n",
    "crimes['PREM_TYP_DESC'].replace('DRUG STORE','STORE',inplace=True)\n",
    "crimes['PREM_TYP_DESC'].replace('RESIDENCE-HOUSE','STORE',inplace=True)\n",
    "crimes['PREM_TYP_DESC'].replace('LIQUOR STORE','STORE',inplace=True)\n",
    "crimes['PREM_TYP_DESC'].replace('STORE UNCLASSIFIED','STORE',inplace=True)\n",
    "crimes['PREM_TYP_DESC'].replace('TELECOMM. STORE','STORE',inplace=True)\n",
    "crimes['PREM_TYP_DESC'].replace('VARIETY STORE','STORE',inplace=True)\n",
    "crimes['PREM_TYP_DESC'].replace('VIDEO STORE','STORE',inplace=True)\n",
    "crimes['PREM_TYP_DESC'].replace('SMALL MERCHANT','STORE',inplace=True)\n",
    "crimes['PREM_TYP_DESC'].replace('SHOE','STORE',inplace=True)\n",
    "crimes['PREM_TYP_DESC'].replace('FOOD SUPERMARKET','STORE',inplace=True)\n",
    "crimes['PREM_TYP_DESC'].replace('GROCERY/BODEGA','STORE',inplace=True)\n",
    "crimes['PREM_TYP_DESC'].replace('JEWELRY','STORE',inplace=True)\n",
    "crimes['PREM_TYP_DESC'].replace('BOOK/CARD','STORE',inplace=True)\n",
    "crimes['PREM_TYP_DESC'].replace('CANDY STORE','STORE',inplace=True)\n",
    "crimes['PREM_TYP_DESC'].replace('CLOTHING/BOUTIQUE','STORE',inplace=True)\n",
    "\n",
    "crimes['PREM_TYP_DESC'].replace('BAR/NIGHT CLUB','RESTAURANT/BAR',inplace=True)\n",
    "crimes['PREM_TYP_DESC'].replace('RESTAURANT/DINER','RESTAURANT/BAR',inplace=True)\n",
    "crimes['PREM_TYP_DESC'].replace('FAST FOOD','RESTAURANT/BAR',inplace=True)\n",
    "\n",
    "crimes['PREM_TYP_DESC'].replace('PARKING LOT/GARAGE (PRIVATE)','PARKING_LOT',inplace=True)\n",
    "crimes['PREM_TYP_DESC'].replace('PARKING LOT/GARAGE (PUBLIC)','PARKING_LOT',inplace=True)\n",
    "\n",
    "crimes['PREM_TYP_DESC'].replace('PARKING LOT/GARAGE (PRIVATE)','SCHOOL',inplace=True)\n",
    "crimes['PREM_TYP_DESC'].replace('PARKING LOT/GARAGE (PUBLIC)','SCHOOL',inplace=True)\n",
    "\n",
    "crimes['PREM_TYP_DESC'].replace('TAXI (LIVERY LICENSED)','TRANSIT',inplace=True)\n",
    "crimes['PREM_TYP_DESC'].replace('TAXI (YELLOW LICENSED)','TRANSIT',inplace=True)\n",
    "crimes['PREM_TYP_DESC'].replace('TAXI/LIVERY (UNLICENSED)','TRANSIT',inplace=True)\n",
    "crimes['PREM_TYP_DESC'].replace('TRAMWAY','TRANSIT',inplace=True)\n",
    "crimes['PREM_TYP_DESC'].replace('TRANSIT - NYC SUBWAY','TRANSIT',inplace=True)\n",
    "crimes['PREM_TYP_DESC'].replace('TRANSIT FACILITY (OTHER)','TRANSIT',inplace=True)\n",
    "crimes['PREM_TYP_DESC'].replace('HIGHWAY/PARKWAY','TRANSIT',inplace=True)\n",
    "crimes['PREM_TYP_DESC'].replace('BUS (NYC TRANSIT)','TRANSIT',inplace=True)\n",
    "crimes['PREM_TYP_DESC'].replace('BUS (OTHER)','TRANSIT',inplace=True)\n",
    "\n",
    "crimes['PREM_TYP_DESC'].replace('MOSQUE','RELIGIOUS',inplace=True)\n",
    "crimes['PREM_TYP_DESC'].replace('CHURCH','RELIGIOUS',inplace=True)\n",
    "crimes['PREM_TYP_DESC'].replace('SYNAGOGUE','RELIGIOUS',inplace=True)\n",
    "crimes['PREM_TYP_DESC'].replace('OTHER HOUSE OF WORSHIP','RELIGIOUS',inplace=True)\n",
    "\n",
    "crimes['PREM_TYP_DESC'].replace('ABANDONED BUILDING','OTHER',inplace=True)\n"
   ]
  },
  {
   "cell_type": "code",
   "execution_count": 13,
   "metadata": {},
   "outputs": [
    {
     "data": {
      "text/plain": [
       "(5882463, 17)"
      ]
     },
     "execution_count": 13,
     "metadata": {},
     "output_type": "execute_result"
    }
   ],
   "source": [
    "crimes.shape"
   ]
  },
  {
   "cell_type": "code",
   "execution_count": 14,
   "metadata": {
    "scrolled": false
   },
   "outputs": [
    {
     "data": {
      "text/plain": [
       "(900017, 17)"
      ]
     },
     "execution_count": 14,
     "metadata": {},
     "output_type": "execute_result"
    }
   ],
   "source": [
    "crimes = crimes.sample(frac=0.153, axis=0)\n",
    "crimes.shape"
   ]
  },
  {
   "cell_type": "markdown",
   "metadata": {},
   "source": [
    "### Feature engeneering"
   ]
  },
  {
   "cell_type": "code",
   "execution_count": 15,
   "metadata": {},
   "outputs": [
    {
     "data": {
      "text/plain": [
       "4677300    2010-11-10\n",
       "2472244    2018-01-27\n",
       "5820713    2012-08-04\n",
       "Name: Date, dtype: object"
      ]
     },
     "execution_count": 15,
     "metadata": {},
     "output_type": "execute_result"
    }
   ],
   "source": [
    "crimes['Date'] = crimes.TimeStamp.dt.date\n",
    "crimes['Date'].sample(3)"
   ]
  },
  {
   "cell_type": "code",
   "execution_count": 16,
   "metadata": {
    "colab": {
     "base_uri": "https://localhost:8080/",
     "height": 84
    },
    "colab_type": "code",
    "executionInfo": {
     "elapsed": 189243,
     "status": "ok",
     "timestamp": 1559151572385,
     "user": {
      "displayName": "Djordje",
      "photoUrl": "https://lh4.googleusercontent.com/-Qp4HD2lnvpw/AAAAAAAAAAI/AAAAAAAAAsc/rQVbrmh36g4/s64/photo.jpg",
      "userId": "02440317835448491099"
     },
     "user_tz": -120
    },
    "id": "I6OPqBVKwedj",
    "outputId": "eb0df56e-05c8-4413-c7cc-fd00ca8be3d9"
   },
   "outputs": [
    {
     "data": {
      "text/plain": [
       "1993922    2017\n",
       "5146833    2011\n",
       "1220409    2016\n",
       "Name: Year, dtype: int64"
      ]
     },
     "execution_count": 16,
     "metadata": {},
     "output_type": "execute_result"
    }
   ],
   "source": [
    "crimes['Year'] = crimes.TimeStamp.dt.year\n",
    "crimes['Year'].sample(3)"
   ]
  },
  {
   "cell_type": "code",
   "execution_count": 17,
   "metadata": {
    "colab": {
     "base_uri": "https://localhost:8080/",
     "height": 84
    },
    "colab_type": "code",
    "executionInfo": {
     "elapsed": 189868,
     "status": "ok",
     "timestamp": 1559151573063,
     "user": {
      "displayName": "Djordje",
      "photoUrl": "https://lh4.googleusercontent.com/-Qp4HD2lnvpw/AAAAAAAAAAI/AAAAAAAAAsc/rQVbrmh36g4/s64/photo.jpg",
      "userId": "02440317835448491099"
     },
     "user_tz": -120
    },
    "id": "-7Ycec77wnQ4",
    "outputId": "3dd4fe29-6dca-472a-cddb-489ac7b49ec3"
   },
   "outputs": [
    {
     "data": {
      "text/plain": [
       "5018583     3\n",
       "3332276     6\n",
       "724928     10\n",
       "Name: Month, dtype: int64"
      ]
     },
     "execution_count": 17,
     "metadata": {},
     "output_type": "execute_result"
    }
   ],
   "source": [
    "crimes['Month'] = crimes.TimeStamp.dt.month\n",
    "crimes['Month'].sample(3)"
   ]
  },
  {
   "cell_type": "code",
   "execution_count": 18,
   "metadata": {},
   "outputs": [
    {
     "data": {
      "text/plain": [
       "4545115    20\n",
       "383820     22\n",
       "3604124    27\n",
       "Name: Day, dtype: int64"
      ]
     },
     "execution_count": 18,
     "metadata": {},
     "output_type": "execute_result"
    }
   ],
   "source": [
    "crimes['Day'] = crimes['TimeStamp'].dt.day\n",
    "crimes['Day'].sample(3)"
   ]
  },
  {
   "cell_type": "code",
   "execution_count": 19,
   "metadata": {},
   "outputs": [
    {
     "data": {
      "text/plain": [
       "2431382    Wednesday\n",
       "541881     Wednesday\n",
       "2393996     Saturday\n",
       "Name: Weekday, dtype: object"
      ]
     },
     "execution_count": 19,
     "metadata": {},
     "output_type": "execute_result"
    }
   ],
   "source": [
    "crimes['Weekday'] = crimes['TimeStamp'].dt.weekday_name\n",
    "crimes['Weekday'].sample(3)"
   ]
  },
  {
   "cell_type": "code",
   "execution_count": 20,
   "metadata": {},
   "outputs": [],
   "source": [
    "days_to_int_dict = {\n",
    "        'Monday': 0,\n",
    "        'Tuesday': 1,\n",
    "        'Wednesday': 2,\n",
    "        'Thursday': 3,\n",
    "        'Friday': 4,\n",
    "        'Saturday': 5,\n",
    "        'Sunday': 6,\n",
    "}\n",
    "crimes['Weekday'] = crimes['Weekday'].map(days_to_int_dict)"
   ]
  },
  {
   "cell_type": "code",
   "execution_count": 21,
   "metadata": {
    "scrolled": true
   },
   "outputs": [
    {
     "data": {
      "text/plain": [
       "1346493    12\n",
       "6308594     3\n",
       "1056145    20\n",
       "Name: Hour, dtype: int64"
      ]
     },
     "execution_count": 21,
     "metadata": {},
     "output_type": "execute_result"
    }
   ],
   "source": [
    "crimes['Hour'] = crimes.TimeStamp.dt.hour\n",
    "crimes['Hour'].sample(3)"
   ]
  },
  {
   "cell_type": "code",
   "execution_count": 22,
   "metadata": {},
   "outputs": [
    {
     "data": {
      "text/plain": [
       "1799489    30\n",
       "5586900    55\n",
       "4155194    23\n",
       "Name: Minute, dtype: int64"
      ]
     },
     "execution_count": 22,
     "metadata": {},
     "output_type": "execute_result"
    }
   ],
   "source": [
    "crimes['Minute'] = crimes.TimeStamp.dt.minute\n",
    "crimes['Minute'].sample(3)"
   ]
  },
  {
   "cell_type": "code",
   "execution_count": 23,
   "metadata": {},
   "outputs": [
    {
     "data": {
      "text/plain": [
       "4399301     885\n",
       "3340348     160\n",
       "4720371    1379\n",
       "Name: n_days, dtype: int64"
      ]
     },
     "execution_count": 23,
     "metadata": {},
     "output_type": "execute_result"
    }
   ],
   "source": [
    "crimes['n_days'] = (crimes['Date'] - crimes['Date'].min()).apply(lambda x: x.days)\n",
    "crimes['n_days'].sample(3)"
   ]
  },
  {
   "cell_type": "code",
   "execution_count": 24,
   "metadata": {},
   "outputs": [
    {
     "name": "stdout",
     "output_type": "stream",
     "text": [
      "Done Outputing data_analyse.csv\n"
     ]
    }
   ],
   "source": [
    "crimes.to_csv('data_analyse.csv',index=False)\n",
    "print('Done Outputing data_analyse.csv')"
   ]
  },
  {
   "cell_type": "code",
   "execution_count": 25,
   "metadata": {},
   "outputs": [],
   "source": [
    "crimes.drop(['CMPLNT_NUM', 'X_COORD_CD', 'Y_COORD_CD', 'LAW_CAT_CD', 'PD_DESC', 'TimeStamp', 'PREM_TYP_DESC', 'Date','SUSP_RACE', 'SUSP_SEX', 'VIC_RACE', 'VIC_SEX', 'JURIS_DESC'], inplace=True, axis=1)"
   ]
  },
  {
   "cell_type": "code",
   "execution_count": 26,
   "metadata": {
    "scrolled": false
   },
   "outputs": [
    {
     "data": {
      "text/html": [
       "<div>\n",
       "<style scoped>\n",
       "    .dataframe tbody tr th:only-of-type {\n",
       "        vertical-align: middle;\n",
       "    }\n",
       "\n",
       "    .dataframe tbody tr th {\n",
       "        vertical-align: top;\n",
       "    }\n",
       "\n",
       "    .dataframe thead th {\n",
       "        text-align: right;\n",
       "    }\n",
       "</style>\n",
       "<table border=\"1\" class=\"dataframe\">\n",
       "  <thead>\n",
       "    <tr style=\"text-align: right;\">\n",
       "      <th></th>\n",
       "      <th>OFNS_DESC</th>\n",
       "      <th>BORO_NM</th>\n",
       "      <th>Latitude</th>\n",
       "      <th>Longitude</th>\n",
       "      <th>PATROL_BORO</th>\n",
       "      <th>Year</th>\n",
       "      <th>Month</th>\n",
       "      <th>Day</th>\n",
       "      <th>Weekday</th>\n",
       "      <th>Hour</th>\n",
       "      <th>Minute</th>\n",
       "      <th>n_days</th>\n",
       "    </tr>\n",
       "  </thead>\n",
       "  <tbody>\n",
       "    <tr>\n",
       "      <th>2386232</th>\n",
       "      <td>HARRASSMENT 2</td>\n",
       "      <td>QUEENS</td>\n",
       "      <td>40.768088</td>\n",
       "      <td>-73.777891</td>\n",
       "      <td>PATROL BORO QUEENS NORTH</td>\n",
       "      <td>2018</td>\n",
       "      <td>4</td>\n",
       "      <td>7</td>\n",
       "      <td>5</td>\n",
       "      <td>9</td>\n",
       "      <td>0</td>\n",
       "      <td>4114</td>\n",
       "    </tr>\n",
       "    <tr>\n",
       "      <th>5404406</th>\n",
       "      <td>GRAND LARCENY</td>\n",
       "      <td>BRONX</td>\n",
       "      <td>40.828669</td>\n",
       "      <td>-73.878236</td>\n",
       "      <td>PATROL BORO BRONX</td>\n",
       "      <td>2011</td>\n",
       "      <td>6</td>\n",
       "      <td>10</td>\n",
       "      <td>4</td>\n",
       "      <td>21</td>\n",
       "      <td>45</td>\n",
       "      <td>1621</td>\n",
       "    </tr>\n",
       "    <tr>\n",
       "      <th>5348644</th>\n",
       "      <td>GRAND LARCENY</td>\n",
       "      <td>STATEN ISLAND</td>\n",
       "      <td>40.542567</td>\n",
       "      <td>-74.216739</td>\n",
       "      <td>PATROL BORO STATEN ISLAND</td>\n",
       "      <td>2011</td>\n",
       "      <td>7</td>\n",
       "      <td>19</td>\n",
       "      <td>1</td>\n",
       "      <td>1</td>\n",
       "      <td>0</td>\n",
       "      <td>1660</td>\n",
       "    </tr>\n",
       "  </tbody>\n",
       "</table>\n",
       "</div>"
      ],
      "text/plain": [
       "             OFNS_DESC        BORO_NM   Latitude  Longitude  \\\n",
       "2386232  HARRASSMENT 2         QUEENS  40.768088 -73.777891   \n",
       "5404406  GRAND LARCENY          BRONX  40.828669 -73.878236   \n",
       "5348644  GRAND LARCENY  STATEN ISLAND  40.542567 -74.216739   \n",
       "\n",
       "                       PATROL_BORO  Year  Month  Day  Weekday  Hour  Minute  \\\n",
       "2386232   PATROL BORO QUEENS NORTH  2018      4    7        5     9       0   \n",
       "5404406          PATROL BORO BRONX  2011      6   10        4    21      45   \n",
       "5348644  PATROL BORO STATEN ISLAND  2011      7   19        1     1       0   \n",
       "\n",
       "         n_days  \n",
       "2386232    4114  \n",
       "5404406    1621  \n",
       "5348644    1660  "
      ]
     },
     "execution_count": 26,
     "metadata": {},
     "output_type": "execute_result"
    }
   ],
   "source": [
    "crimes.sample(3)"
   ]
  },
  {
   "cell_type": "code",
   "execution_count": 28,
   "metadata": {
    "scrolled": false
   },
   "outputs": [
    {
     "data": {
      "text/plain": [
       "PETIT LARCENY                           151422\n",
       "HARRASSMENT 2                           111628\n",
       "ASSAULT 3 & RELATED OFFENSES             95518\n",
       "CRIMINAL MISCHIEF & RELATED OF           90830\n",
       "GRAND LARCENY                            77185\n",
       "DANGEROUS DRUGS                          56459\n",
       "OFF. AGNST PUB ORD SENSBLTY &            49926\n",
       "FELONY ASSAULT                           34411\n",
       "ROBBERY                                  32920\n",
       "BURGLARY                                 31759\n",
       "MISCELLANEOUS PENAL LAW                  22949\n",
       "DANGEROUS WEAPONS                        21206\n",
       "THEFT-FRAUD                              19964\n",
       "OFFENSES AGAINST PUBLIC ADMINI           18113\n",
       "LARCENY OF MOTOR VEHICLE                 15884\n",
       "INTOXICATED/IMPAIRED DRIVING             12632\n",
       "VEHICLE AND TRAFFIC LAWS                 10976\n",
       "CRIMINAL TRESPASS                        10648\n",
       "SEX CRIMES                               10120\n",
       "FORGERY                                   9157\n",
       "POSSESSION OF STOLEN PROPERTY             4771\n",
       "UNAUTHORIZED USE OF A VEHICLE             2622\n",
       "RAPE                                      2498\n",
       "ARSON                                     2116\n",
       "ADMINISTRATIVE CODE                       1995\n",
       "NYS LAWS-UNCLASSIFIED FELONY               780\n",
       "GAMBLING                                   373\n",
       "KIDNAPPING & RELATED OFFENSES              362\n",
       "OFFENSES RELATED TO CHILDREN               242\n",
       "PROSTITUTION & RELATED OFFENSES            162\n",
       "ALCOHOLIC BEVERAGE CONTROL LAW             151\n",
       "AGRICULTURE & MRKTS LAW-UNCLASSIFIED        69\n",
       "CHILD ABANDONMENT/NON SUPPORT               56\n",
       "LOITERING                                   31\n",
       "HOMICIDE-NEGLIGENT                          28\n",
       "ESCAPE 3                                    21\n",
       "ANTICIPATORY OFFENSES                       10\n",
       "DISRUPTION OF A RELIGIOUS SERV               9\n",
       "UNLAWFUL POSS. WEAP. ON SCHOOL               7\n",
       "KIDNAPPING                                   5\n",
       "UNDER THE INFLUENCE OF DRUGS                 1\n",
       "LOITERING FOR DRUG PURPOSES                  1\n",
       "Name: OFNS_DESC, dtype: int64"
      ]
     },
     "execution_count": 28,
     "metadata": {},
     "output_type": "execute_result"
    }
   ],
   "source": [
    "crimes['OFNS_DESC'].value_counts()"
   ]
  },
  {
   "cell_type": "code",
   "execution_count": 30,
   "metadata": {},
   "outputs": [],
   "source": [
    "#removing because there will be unrecognized values in model\n",
    "crimes = crimes[crimes['OFNS_DESC'] != 'LOITERING FOR DRUG PURPOSES']\n",
    "crimes = crimes[crimes['OFNS_DESC'] != 'UNDER THE INFLUENCE OF DRUGS']"
   ]
  },
  {
   "cell_type": "code",
   "execution_count": 31,
   "metadata": {},
   "outputs": [
    {
     "name": "stdout",
     "output_type": "stream",
     "text": [
      "Done Outputing data_clean.csv\n"
     ]
    }
   ],
   "source": [
    "crimes.to_csv('data_clean.csv',index=False)\n",
    "print('Done Outputing data_clean.csv')"
   ]
  },
  {
   "cell_type": "code",
   "execution_count": 32,
   "metadata": {},
   "outputs": [],
   "source": [
    "categories = crimes['OFNS_DESC'].unique()\n",
    "category_dict = {value:index for index,value in enumerate(categories)}\n",
    "y = crimes['OFNS_DESC'].map(category_dict)"
   ]
  },
  {
   "cell_type": "code",
   "execution_count": 33,
   "metadata": {},
   "outputs": [
    {
     "data": {
      "text/plain": [
       "<matplotlib.axes._subplots.AxesSubplot at 0x19b95a676d8>"
      ]
     },
     "execution_count": 33,
     "metadata": {},
     "output_type": "execute_result"
    },
    {
     "data": {
      "image/png": "[encoded data removed]",
      "text/plain": [
       "<Figure size 864x576 with 1 Axes>"
      ]
     },
     "metadata": {
      "needs_background": "light"
     },
     "output_type": "display_data"
    }
   ],
   "source": [
    "plt.figure(figsize=(12,8))\n",
    "sns.set_color_codes()\n",
    "sns.distplot(y,bins=20,kde=True,color='r')"
   ]
  },
  {
   "cell_type": "code",
   "execution_count": 36,
   "metadata": {},
   "outputs": [
    {
     "name": "stdout",
     "output_type": "stream",
     "text": [
      "[14 34 33 ...  8 36  5]\n"
     ]
    }
   ],
   "source": [
    "from sklearn import preprocessing\n",
    "\n",
    "category = preprocessing.LabelEncoder()\n",
    "category_crime = category.fit_transform(crimes.OFNS_DESC)\n",
    "print(category_crime)"
   ]
  },
  {
   "cell_type": "code",
   "execution_count": 37,
   "metadata": {},
   "outputs": [
    {
     "data": {
      "text/plain": [
       "array(['FELONY ASSAULT', 'ROBBERY', 'RAPE', ...,\n",
       "       'CRIMINAL MISCHIEF & RELATED OF', 'THEFT-FRAUD',\n",
       "       'ASSAULT 3 & RELATED OFFENSES'], dtype=object)"
      ]
     },
     "execution_count": 37,
     "metadata": {},
     "output_type": "execute_result"
    }
   ],
   "source": [
    "category.inverse_transform(category_crime)"
   ]
  },
  {
   "cell_type": "code",
   "execution_count": 39,
   "metadata": {},
   "outputs": [],
   "source": [
    "#feature normalization\n",
    "def normalize(data): \n",
    "    data = (data - data.min()) / (data.max() - data.min())\n",
    "    return data\n",
    "\n",
    "crimes['n_days'] = normalize(crimes.n_days)"
   ]
  },
  {
   "cell_type": "code",
   "execution_count": 46,
   "metadata": {},
   "outputs": [],
   "source": [
    "def prepare_data(df):\n",
    "    \"\"\"\n",
    "    Preprocessing Training/Testing Data \n",
    "    \"\"\"\n",
    "    feature_list=df.columns.tolist()  \n",
    "    cleanData=df[feature_list]\n",
    "    cleanData.index=range(len(df))\n",
    "    \n",
    "    print(\"Creating sin-cos Lat/Lon feature...\")\n",
    "    cleanData['LL_X'] = np.cos(cleanData['Latitude']) * np.cos(cleanData['Longitude'])\n",
    "    cleanData['LL_Y'] = np.cos(cleanData['Latitude']) * np.sin(cleanData['Longitude'])\n",
    "    cleanData['LL_Z'] = np.sin(cleanData['Latitude'])\n",
    "    '''ll_scaler = preprocessing.StandardScaler()\n",
    "    ll_scaler.fit(cleanData[[\"XLL\",\"YLL\", \"ZLL\"]])\n",
    "    cleanData[[\"XLL\",\"YLL\", \"ZLL\"]] = ll_scaler.transform(cleanData[[\"XLL\",\"YLL\", \"ZLL\"]])'''\n",
    "    \n",
    "    print(\"Creating ordinal representations of circular features (Month/Year/Weekday/Minute)\")\n",
    "    cleanData['Hour_X'] = np.sin(2*np.pi*cleanData['Hour']/23)\n",
    "    cleanData['Hour_Y'] = np.cos(2*np.pi*cleanData['Hour']/23)\n",
    "    cleanData['Month_X'] = np.sin(2*np.pi*cleanData['Month']/11)\n",
    "    cleanData['Month_Y'] = np.cos(2*np.pi*cleanData['Month']/11)\n",
    "    cleanData['Weekday_X'] = np.sin(2*np.pi*cleanData['Weekday']/6)\n",
    "    cleanData['Weekday_Y'] = np.cos(2*np.pi*cleanData['Weekday']/6)\n",
    "    cleanData['Minute_X'] = np.sin(2*np.pi*cleanData['Weekday']/59)\n",
    "    cleanData['Minute_Y'] = np.cos(2*np.pi*cleanData['Weekday']/59) \n",
    "    cleanData['Year'] = normalize(cleanData.Year)\n",
    "\n",
    "    category = preprocessing.LabelEncoder()\n",
    "    category_boro = category.fit_transform(cleanData.BORO_NM)\n",
    "    \n",
    "    cleanData['BORO_NM'] = category_boro\n",
    "    \n",
    "    print (\"Droping processed columns...\")\n",
    "    cleanData=cleanData.drop([\"Minute\", \"Latitude\", \"Longitude\",\"PATROL_BORO\", \"OFNS_DESC\", \"Hour\",\"Day\",\"Month\",\"Weekday\"],\\\n",
    "                                axis=1,inplace=False)\n",
    "    \n",
    "    print('Done!')\n",
    "    \n",
    "    return cleanData"
   ]
  },
  {
   "cell_type": "code",
   "execution_count": 47,
   "metadata": {},
   "outputs": [
    {
     "name": "stdout",
     "output_type": "stream",
     "text": [
      "Creating sin-cos Lat/Lon feature...\n",
      "Creating ordinal representations of circular features (Month/Year/Weekday/Minute)\n",
      "Droping processed columns...\n",
      "Done!\n"
     ]
    }
   ],
   "source": [
    "features = prepare_data(crimes)\n",
    "features['crime'] = category_crime"
   ]
  },
  {
   "cell_type": "code",
   "execution_count": 48,
   "metadata": {
    "scrolled": true
   },
   "outputs": [
    {
     "data": {
      "text/plain": [
       "['BORO_NM',\n",
       " 'Year',\n",
       " 'n_days',\n",
       " 'LL_X',\n",
       " 'LL_Y',\n",
       " 'LL_Z',\n",
       " 'Hour_X',\n",
       " 'Hour_Y',\n",
       " 'Month_X',\n",
       " 'Month_Y',\n",
       " 'Weekday_X',\n",
       " 'Weekday_Y',\n",
       " 'Minute_X',\n",
       " 'Minute_Y',\n",
       " 'crime']"
      ]
     },
     "execution_count": 48,
     "metadata": {},
     "output_type": "execute_result"
    }
   ],
   "source": [
    "collist=features.columns.tolist()\n",
    "collist"
   ]
  },
  {
   "cell_type": "code",
   "execution_count": 49,
   "metadata": {},
   "outputs": [
    {
     "data": {
      "text/html": [
       "<div>\n",
       "<style scoped>\n",
       "    .dataframe tbody tr th:only-of-type {\n",
       "        vertical-align: middle;\n",
       "    }\n",
       "\n",
       "    .dataframe tbody tr th {\n",
       "        vertical-align: top;\n",
       "    }\n",
       "\n",
       "    .dataframe thead th {\n",
       "        text-align: right;\n",
       "    }\n",
       "</style>\n",
       "<table border=\"1\" class=\"dataframe\">\n",
       "  <thead>\n",
       "    <tr style=\"text-align: right;\">\n",
       "      <th></th>\n",
       "      <th>BORO_NM</th>\n",
       "      <th>Year</th>\n",
       "      <th>n_days</th>\n",
       "      <th>LL_X</th>\n",
       "      <th>LL_Y</th>\n",
       "      <th>LL_Z</th>\n",
       "      <th>Hour_X</th>\n",
       "      <th>Hour_Y</th>\n",
       "      <th>Month_X</th>\n",
       "      <th>Month_Y</th>\n",
       "      <th>Weekday_X</th>\n",
       "      <th>Weekday_Y</th>\n",
       "      <th>Minute_X</th>\n",
       "      <th>Minute_Y</th>\n",
       "      <th>crime</th>\n",
       "    </tr>\n",
       "  </thead>\n",
       "  <tbody>\n",
       "    <tr>\n",
       "      <th>0</th>\n",
       "      <td>1</td>\n",
       "      <td>0.636364</td>\n",
       "      <td>0.617298</td>\n",
       "      <td>-0.127743</td>\n",
       "      <td>-0.957180</td>\n",
       "      <td>0.259786</td>\n",
       "      <td>0.730836</td>\n",
       "      <td>0.682553</td>\n",
       "      <td>2.817326e-01</td>\n",
       "      <td>-0.959493</td>\n",
       "      <td>1.224647e-16</td>\n",
       "      <td>-1.0</td>\n",
       "      <td>0.314077</td>\n",
       "      <td>0.949398</td>\n",
       "      <td>14</td>\n",
       "    </tr>\n",
       "    <tr>\n",
       "      <th>1</th>\n",
       "      <td>1</td>\n",
       "      <td>0.090909</td>\n",
       "      <td>0.085121</td>\n",
       "      <td>-0.105852</td>\n",
       "      <td>-0.981359</td>\n",
       "      <td>0.160408</td>\n",
       "      <td>0.942261</td>\n",
       "      <td>-0.334880</td>\n",
       "      <td>5.406408e-01</td>\n",
       "      <td>0.841254</td>\n",
       "      <td>8.660254e-01</td>\n",
       "      <td>-0.5</td>\n",
       "      <td>0.211383</td>\n",
       "      <td>0.977403</td>\n",
       "      <td>34</td>\n",
       "    </tr>\n",
       "    <tr>\n",
       "      <th>2</th>\n",
       "      <td>3</td>\n",
       "      <td>0.000000</td>\n",
       "      <td>0.002967</td>\n",
       "      <td>-0.042429</td>\n",
       "      <td>-0.994543</td>\n",
       "      <td>0.095307</td>\n",
       "      <td>-0.136167</td>\n",
       "      <td>-0.990686</td>\n",
       "      <td>5.406408e-01</td>\n",
       "      <td>0.841254</td>\n",
       "      <td>-2.449294e-16</td>\n",
       "      <td>1.0</td>\n",
       "      <td>0.596367</td>\n",
       "      <td>0.802712</td>\n",
       "      <td>33</td>\n",
       "    </tr>\n",
       "    <tr>\n",
       "      <th>3</th>\n",
       "      <td>2</td>\n",
       "      <td>0.636364</td>\n",
       "      <td>0.653583</td>\n",
       "      <td>-0.108235</td>\n",
       "      <td>-0.994115</td>\n",
       "      <td>-0.004443</td>\n",
       "      <td>-0.269797</td>\n",
       "      <td>0.962917</td>\n",
       "      <td>-1.133108e-15</td>\n",
       "      <td>1.000000</td>\n",
       "      <td>8.660254e-01</td>\n",
       "      <td>0.5</td>\n",
       "      <td>0.106293</td>\n",
       "      <td>0.994335</td>\n",
       "      <td>25</td>\n",
       "    </tr>\n",
       "    <tr>\n",
       "      <th>4</th>\n",
       "      <td>2</td>\n",
       "      <td>0.000000</td>\n",
       "      <td>0.057964</td>\n",
       "      <td>-0.159790</td>\n",
       "      <td>-0.979374</td>\n",
       "      <td>0.123670</td>\n",
       "      <td>-0.887885</td>\n",
       "      <td>0.460065</td>\n",
       "      <td>-9.096320e-01</td>\n",
       "      <td>0.415415</td>\n",
       "      <td>8.660254e-01</td>\n",
       "      <td>-0.5</td>\n",
       "      <td>0.211383</td>\n",
       "      <td>0.977403</td>\n",
       "      <td>30</td>\n",
       "    </tr>\n",
       "  </tbody>\n",
       "</table>\n",
       "</div>"
      ],
      "text/plain": [
       "   BORO_NM      Year    n_days      LL_X      LL_Y      LL_Z    Hour_X  \\\n",
       "0        1  0.636364  0.617298 -0.127743 -0.957180  0.259786  0.730836   \n",
       "1        1  0.090909  0.085121 -0.105852 -0.981359  0.160408  0.942261   \n",
       "2        3  0.000000  0.002967 -0.042429 -0.994543  0.095307 -0.136167   \n",
       "3        2  0.636364  0.653583 -0.108235 -0.994115 -0.004443 -0.269797   \n",
       "4        2  0.000000  0.057964 -0.159790 -0.979374  0.123670 -0.887885   \n",
       "\n",
       "     Hour_Y       Month_X   Month_Y     Weekday_X  Weekday_Y  Minute_X  \\\n",
       "0  0.682553  2.817326e-01 -0.959493  1.224647e-16       -1.0  0.314077   \n",
       "1 -0.334880  5.406408e-01  0.841254  8.660254e-01       -0.5  0.211383   \n",
       "2 -0.990686  5.406408e-01  0.841254 -2.449294e-16        1.0  0.596367   \n",
       "3  0.962917 -1.133108e-15  1.000000  8.660254e-01        0.5  0.106293   \n",
       "4  0.460065 -9.096320e-01  0.415415  8.660254e-01       -0.5  0.211383   \n",
       "\n",
       "   Minute_Y  crime  \n",
       "0  0.949398     14  \n",
       "1  0.977403     34  \n",
       "2  0.802712     33  \n",
       "3  0.994335     25  \n",
       "4  0.977403     30  "
      ]
     },
     "execution_count": 49,
     "metadata": {},
     "output_type": "execute_result"
    }
   ],
   "source": [
    "features.head()"
   ]
  },
  {
   "cell_type": "code",
   "execution_count": 51,
   "metadata": {
    "colab": {
     "base_uri": "https://localhost:8080/",
     "height": 50
    },
    "colab_type": "code",
    "executionInfo": {
     "elapsed": 480460,
     "status": "ok",
     "timestamp": 1559151863750,
     "user": {
      "displayName": "Djordje",
      "photoUrl": "https://lh4.googleusercontent.com/-Qp4HD2lnvpw/AAAAAAAAAAI/AAAAAAAAAsc/rQVbrmh36g4/s64/photo.jpg",
      "userId": "02440317835448491099"
     },
     "user_tz": -120
    },
    "id": "RvMh9FU5rG0O",
    "outputId": "417fade5-e0f2-421a-ff3f-68b412321743",
    "scrolled": true
   },
   "outputs": [
    {
     "name": "stdout",
     "output_type": "stream",
     "text": [
      "Done Outputing data_clean.csv\n"
     ]
    }
   ],
   "source": [
    "features.to_csv('data_features.csv',index=False)\n",
    "print('Done Outputing data_clean.csv')"
   ]
  }
 ],
 "metadata": {
  "colab": {
   "collapsed_sections": [],
   "name": "Preprocessing.ipynb",
   "provenance": [],
   "version": "0.3.2"
  },
  "kernelspec": {
   "display_name": "Python 3",
   "language": "python",
   "name": "python3"
  },
  "language_info": {
   "codemirror_mode": {
    "name": "ipython",
    "version": 3
   },
   "file_extension": ".py",
   "mimetype": "text/x-python",
   "name": "python",
   "nbconvert_exporter": "python",
   "pygments_lexer": "ipython3",
   "version": "3.7.3"
  }
 },
 "nbformat": 4,
 "nbformat_minor": 1
}
