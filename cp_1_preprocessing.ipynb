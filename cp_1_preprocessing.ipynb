{
 "cells": [
  {
   "cell_type": "code",
   "execution_count": 20,
   "metadata": {
    "colab": {
     "base_uri": "https://localhost:8080/",
     "height": 518
    },
    "colab_type": "code",
    "executionInfo": {
     "elapsed": 144805,
     "status": "ok",
     "timestamp": 1559151527633,
     "user": {
      "displayName": "Djordje",
      "photoUrl": "https://lh4.googleusercontent.com/-Qp4HD2lnvpw/AAAAAAAAAAI/AAAAAAAAAsc/rQVbrmh36g4/s64/photo.jpg",
      "userId": "02440317835448491099"
     },
     "user_tz": -120
    },
    "id": "XYrLDJK1rTNq",
    "outputId": "7a982105-5729-4777-a91f-0b2b976f1f9a",
    "scrolled": false
   },
   "outputs": [
    {
     "name": "stderr",
     "output_type": "stream",
     "text": [
      "C:\\Users\\Lenovo\\Anaconda3\\lib\\site-packages\\IPython\\core\\interactiveshell.py:3049: DtypeWarning: Columns (18,20) have mixed types. Specify dtype option on import or set low_memory=False.\n",
      "  interactivity=interactivity, compiler=compiler, result=result)\n"
     ]
    },
    {
     "name": "stdout",
     "output_type": "stream",
     "text": [
      "Dataset Shape:  (6500870, 35)\n"
     ]
    },
    {
     "data": {
      "text/html": [
       "<div>\n",
       "<style scoped>\n",
       "    .dataframe tbody tr th:only-of-type {\n",
       "        vertical-align: middle;\n",
       "    }\n",
       "\n",
       "    .dataframe tbody tr th {\n",
       "        vertical-align: top;\n",
       "    }\n",
       "\n",
       "    .dataframe thead th {\n",
       "        text-align: right;\n",
       "    }\n",
       "</style>\n",
       "<table border=\"1\" class=\"dataframe\">\n",
       "  <thead>\n",
       "    <tr style=\"text-align: right;\">\n",
       "      <th></th>\n",
       "      <th>CMPLNT_NUM</th>\n",
       "      <th>CMPLNT_FR_DT</th>\n",
       "      <th>CMPLNT_FR_TM</th>\n",
       "      <th>CMPLNT_TO_DT</th>\n",
       "      <th>CMPLNT_TO_TM</th>\n",
       "      <th>ADDR_PCT_CD</th>\n",
       "      <th>RPT_DT</th>\n",
       "      <th>KY_CD</th>\n",
       "      <th>OFNS_DESC</th>\n",
       "      <th>PD_CD</th>\n",
       "      <th>...</th>\n",
       "      <th>SUSP_SEX</th>\n",
       "      <th>TRANSIT_DISTRICT</th>\n",
       "      <th>Latitude</th>\n",
       "      <th>Longitude</th>\n",
       "      <th>Lat_Lon</th>\n",
       "      <th>PATROL_BORO</th>\n",
       "      <th>STATION_NAME</th>\n",
       "      <th>VIC_AGE_GROUP</th>\n",
       "      <th>VIC_RACE</th>\n",
       "      <th>VIC_SEX</th>\n",
       "    </tr>\n",
       "  </thead>\n",
       "  <tbody>\n",
       "    <tr>\n",
       "      <th>0</th>\n",
       "      <td>719713655</td>\n",
       "      <td>01/27/2009</td>\n",
       "      <td>03:00:00</td>\n",
       "      <td>01/27/2009</td>\n",
       "      <td>03:20:00</td>\n",
       "      <td>42.0</td>\n",
       "      <td>01/28/2009</td>\n",
       "      <td>578</td>\n",
       "      <td>HARRASSMENT 2</td>\n",
       "      <td>638.0</td>\n",
       "      <td>...</td>\n",
       "      <td>M</td>\n",
       "      <td>NaN</td>\n",
       "      <td>40.831389</td>\n",
       "      <td>-73.894818</td>\n",
       "      <td>(40.831388554, -73.894817505)</td>\n",
       "      <td>PATROL BORO BRONX</td>\n",
       "      <td>NaN</td>\n",
       "      <td>NaN</td>\n",
       "      <td>UNKNOWN</td>\n",
       "      <td>F</td>\n",
       "    </tr>\n",
       "    <tr>\n",
       "      <th>1</th>\n",
       "      <td>479761507</td>\n",
       "      <td>01/27/2009</td>\n",
       "      <td>01:00:00</td>\n",
       "      <td>01/28/2009</td>\n",
       "      <td>12:00:00</td>\n",
       "      <td>9.0</td>\n",
       "      <td>01/28/2009</td>\n",
       "      <td>351</td>\n",
       "      <td>CRIMINAL MISCHIEF &amp; RELATED OF</td>\n",
       "      <td>254.0</td>\n",
       "      <td>...</td>\n",
       "      <td>NaN</td>\n",
       "      <td>NaN</td>\n",
       "      <td>40.725792</td>\n",
       "      <td>-73.979155</td>\n",
       "      <td>(40.725792479, -73.979155299)</td>\n",
       "      <td>PATROL BORO MAN SOUTH</td>\n",
       "      <td>NaN</td>\n",
       "      <td>25-44</td>\n",
       "      <td>WHITE</td>\n",
       "      <td>M</td>\n",
       "    </tr>\n",
       "    <tr>\n",
       "      <th>2</th>\n",
       "      <td>119195270</td>\n",
       "      <td>01/27/2009</td>\n",
       "      <td>00:30:00</td>\n",
       "      <td>01/27/2009</td>\n",
       "      <td>00:35:00</td>\n",
       "      <td>105.0</td>\n",
       "      <td>01/28/2009</td>\n",
       "      <td>105</td>\n",
       "      <td>ROBBERY</td>\n",
       "      <td>397.0</td>\n",
       "      <td>...</td>\n",
       "      <td>M</td>\n",
       "      <td>NaN</td>\n",
       "      <td>40.655265</td>\n",
       "      <td>-73.740193</td>\n",
       "      <td>(40.655265027, -73.740193433)</td>\n",
       "      <td>PATROL BORO QUEENS SOUTH</td>\n",
       "      <td>NaN</td>\n",
       "      <td>18-24</td>\n",
       "      <td>BLACK</td>\n",
       "      <td>M</td>\n",
       "    </tr>\n",
       "  </tbody>\n",
       "</table>\n",
       "<p>3 rows × 35 columns</p>\n",
       "</div>"
      ],
      "text/plain": [
       "   CMPLNT_NUM CMPLNT_FR_DT CMPLNT_FR_TM CMPLNT_TO_DT CMPLNT_TO_TM  \\\n",
       "0   719713655   01/27/2009     03:00:00   01/27/2009     03:20:00   \n",
       "1   479761507   01/27/2009     01:00:00   01/28/2009     12:00:00   \n",
       "2   119195270   01/27/2009     00:30:00   01/27/2009     00:35:00   \n",
       "\n",
       "   ADDR_PCT_CD      RPT_DT  KY_CD                       OFNS_DESC  PD_CD  ...  \\\n",
       "0         42.0  01/28/2009    578                   HARRASSMENT 2  638.0  ...   \n",
       "1          9.0  01/28/2009    351  CRIMINAL MISCHIEF & RELATED OF  254.0  ...   \n",
       "2        105.0  01/28/2009    105                         ROBBERY  397.0  ...   \n",
       "\n",
       "  SUSP_SEX TRANSIT_DISTRICT   Latitude  Longitude  \\\n",
       "0        M              NaN  40.831389 -73.894818   \n",
       "1      NaN              NaN  40.725792 -73.979155   \n",
       "2        M              NaN  40.655265 -73.740193   \n",
       "\n",
       "                         Lat_Lon               PATROL_BORO STATION_NAME  \\\n",
       "0  (40.831388554, -73.894817505)         PATROL BORO BRONX          NaN   \n",
       "1  (40.725792479, -73.979155299)     PATROL BORO MAN SOUTH          NaN   \n",
       "2  (40.655265027, -73.740193433)  PATROL BORO QUEENS SOUTH          NaN   \n",
       "\n",
       "   VIC_AGE_GROUP VIC_RACE VIC_SEX  \n",
       "0            NaN  UNKNOWN       F  \n",
       "1          25-44    WHITE       M  \n",
       "2          18-24    BLACK       M  \n",
       "\n",
       "[3 rows x 35 columns]"
      ]
     },
     "execution_count": 20,
     "metadata": {},
     "output_type": "execute_result"
    }
   ],
   "source": [
    "import numpy as np \n",
    "import pandas as pd \n",
    "import matplotlib.pyplot as plt\n",
    "import seaborn as sns\n",
    "from sklearn.model_selection import train_test_split\n",
    "%matplotlib inline\n",
    "\n",
    "crimes = pd.read_csv('NYPD_Complaint_Data_Historic.csv',error_bad_lines=False)\n",
    "print('Dataset Shape: ', crimes.shape)\n",
    "crimes.head(3)"
   ]
  },
  {
   "cell_type": "markdown",
   "metadata": {},
   "source": [
    "# Data\n",
    "\n",
    "Crime rates in New York City spiked in the 1980s and early 1990s as the crack epidemic hit, but they have been dropping since 1991, and, as of 2017, they are among the lowest of major cities in the United States. During the 1990s, the New York City Police Department (NYPD) adopted CompStat, broken windows policing, and other strategies in a major effort to reduce crime. The city's dramatic drop in crime has been variously attributed to a number of factors, including the end of the crack epidemic, the legalization of abortion, and the decline of lead poisoning in children.\n",
    "\n",
    "Today, the city is known more for its fashion and tourism than its criminal past. But, with rising wealth inequality, housing shortages, and a number of tourists flocking the city, there is still no scarcity of crime in the Big Apple.\n",
    "\n",
    "This dataset provides nearly 40 years of crime reports from across all of NYC's neighborhoods. There is 6.5 million recorded complaints and 35 fields describing date, time, place of occurance crime and various other data including age, sex and race of suspects and victims. \n",
    "\n",
    "Detailed information about dataset can be downloaded [here](https://data.cityofnewyork.us/api/views/qgea-i56i/files/b21ec89f-4d7b-494e-b2e9-f69ae7f4c228?download=true&filename=NYPD_Complaint_Incident_Level_Data_Footnotes.pdf)."
   ]
  },
  {
   "cell_type": "code",
   "execution_count": 2,
   "metadata": {
    "colab": {
     "base_uri": "https://localhost:8080/",
     "height": 622
    },
    "colab_type": "code",
    "executionInfo": {
     "elapsed": 153592,
     "status": "ok",
     "timestamp": 1559151536479,
     "user": {
      "displayName": "Djordje",
      "photoUrl": "https://lh4.googleusercontent.com/-Qp4HD2lnvpw/AAAAAAAAAAI/AAAAAAAAAsc/rQVbrmh36g4/s64/photo.jpg",
      "userId": "02440317835448491099"
     },
     "user_tz": -120
    },
    "id": "nAuOXm29u5vk",
    "outputId": "548f6229-ebed-4ccf-85f9-9bd78ada0988",
    "scrolled": false
   },
   "outputs": [
    {
     "data": {
      "text/plain": [
       "CMPLNT_NUM                 0\n",
       "CMPLNT_FR_DT             655\n",
       "CMPLNT_FR_TM              48\n",
       "CMPLNT_TO_DT         1607101\n",
       "CMPLNT_TO_TM         1602801\n",
       "ADDR_PCT_CD             2166\n",
       "RPT_DT                     0\n",
       "KY_CD                      0\n",
       "OFNS_DESC              18805\n",
       "PD_CD                   5496\n",
       "PD_DESC                 5496\n",
       "CRM_ATPT_CPTD_CD           7\n",
       "LAW_CAT_CD                 0\n",
       "BORO_NM                10518\n",
       "LOC_OF_OCCUR_DESC    1394809\n",
       "PREM_TYP_DESC          37703\n",
       "JURIS_DESC                 0\n",
       "JURISDICTION_CODE       5496\n",
       "PARKS_NM             6479911\n",
       "HADEVELOPT           6177206\n",
       "HOUSING_PSA          5998248\n",
       "X_COORD_CD             17339\n",
       "Y_COORD_CD             17339\n",
       "SUSP_AGE_GROUP       4590963\n",
       "SUSP_RACE            3222422\n",
       "SUSP_SEX             3355736\n",
       "TRANSIT_DISTRICT     6356760\n",
       "Latitude               17339\n",
       "Longitude              17339\n",
       "Lat_Lon                17339\n",
       "PATROL_BORO             5953\n",
       "STATION_NAME         6356760\n",
       "VIC_AGE_GROUP        1638441\n",
       "VIC_RACE                 305\n",
       "VIC_SEX                  304\n",
       "dtype: int64"
      ]
     },
     "execution_count": 2,
     "metadata": {},
     "output_type": "execute_result"
    }
   ],
   "source": [
    "#counting number of null values in each column\n",
    "crimes.isnull().sum()"
   ]
  },
  {
   "cell_type": "code",
   "execution_count": 3,
   "metadata": {
    "scrolled": false
   },
   "outputs": [
    {
     "data": {
      "text/html": [
       "<div>\n",
       "<style scoped>\n",
       "    .dataframe tbody tr th:only-of-type {\n",
       "        vertical-align: middle;\n",
       "    }\n",
       "\n",
       "    .dataframe tbody tr th {\n",
       "        vertical-align: top;\n",
       "    }\n",
       "\n",
       "    .dataframe thead th {\n",
       "        text-align: right;\n",
       "    }\n",
       "</style>\n",
       "<table border=\"1\" class=\"dataframe\">\n",
       "  <thead>\n",
       "    <tr style=\"text-align: right;\">\n",
       "      <th></th>\n",
       "      <th>Latitude</th>\n",
       "      <th>Longitude</th>\n",
       "    </tr>\n",
       "  </thead>\n",
       "  <tbody>\n",
       "    <tr>\n",
       "      <th>count</th>\n",
       "      <td>6.483531e+06</td>\n",
       "      <td>6.483531e+06</td>\n",
       "    </tr>\n",
       "    <tr>\n",
       "      <th>mean</th>\n",
       "      <td>4.073480e+01</td>\n",
       "      <td>-7.392592e+01</td>\n",
       "    </tr>\n",
       "    <tr>\n",
       "      <th>std</th>\n",
       "      <td>8.675600e-02</td>\n",
       "      <td>7.857901e-02</td>\n",
       "    </tr>\n",
       "    <tr>\n",
       "      <th>min</th>\n",
       "      <td>4.011271e+01</td>\n",
       "      <td>-7.751921e+01</td>\n",
       "    </tr>\n",
       "    <tr>\n",
       "      <th>25%</th>\n",
       "      <td>4.067243e+01</td>\n",
       "      <td>-7.397323e+01</td>\n",
       "    </tr>\n",
       "    <tr>\n",
       "      <th>50%</th>\n",
       "      <td>4.073167e+01</td>\n",
       "      <td>-7.392733e+01</td>\n",
       "    </tr>\n",
       "    <tr>\n",
       "      <th>75%</th>\n",
       "      <td>4.081212e+01</td>\n",
       "      <td>-7.388328e+01</td>\n",
       "    </tr>\n",
       "    <tr>\n",
       "      <th>max</th>\n",
       "      <td>5.965727e+01</td>\n",
       "      <td>-7.368479e+01</td>\n",
       "    </tr>\n",
       "  </tbody>\n",
       "</table>\n",
       "</div>"
      ],
      "text/plain": [
       "           Latitude     Longitude\n",
       "count  6.483531e+06  6.483531e+06\n",
       "mean   4.073480e+01 -7.392592e+01\n",
       "std    8.675600e-02  7.857901e-02\n",
       "min    4.011271e+01 -7.751921e+01\n",
       "25%    4.067243e+01 -7.397323e+01\n",
       "50%    4.073167e+01 -7.392733e+01\n",
       "75%    4.081212e+01 -7.388328e+01\n",
       "max    5.965727e+01 -7.368479e+01"
      ]
     },
     "execution_count": 3,
     "metadata": {},
     "output_type": "execute_result"
    }
   ],
   "source": [
    "crimes[['Latitude', 'Longitude']].describe()"
   ]
  },
  {
   "cell_type": "markdown",
   "metadata": {},
   "source": [
    "### Data cleaning"
   ]
  },
  {
   "cell_type": "code",
   "execution_count": 4,
   "metadata": {
    "colab": {
     "base_uri": "https://localhost:8080/",
     "height": 467
    },
    "colab_type": "code",
    "executionInfo": {
     "elapsed": 154635,
     "status": "ok",
     "timestamp": 1559151537571,
     "user": {
      "displayName": "Djordje",
      "photoUrl": "https://lh4.googleusercontent.com/-Qp4HD2lnvpw/AAAAAAAAAAI/AAAAAAAAAsc/rQVbrmh36g4/s64/photo.jpg",
      "userId": "02440317835448491099"
     },
     "user_tz": -120
    },
    "id": "hKeoDC-uvlDH",
    "outputId": "d4c788b1-2cb1-4881-ddc6-bb1d68d1a568",
    "scrolled": false
   },
   "outputs": [
    {
     "data": {
      "text/html": [
       "<div>\n",
       "<style scoped>\n",
       "    .dataframe tbody tr th:only-of-type {\n",
       "        vertical-align: middle;\n",
       "    }\n",
       "\n",
       "    .dataframe tbody tr th {\n",
       "        vertical-align: top;\n",
       "    }\n",
       "\n",
       "    .dataframe thead th {\n",
       "        text-align: right;\n",
       "    }\n",
       "</style>\n",
       "<table border=\"1\" class=\"dataframe\">\n",
       "  <thead>\n",
       "    <tr style=\"text-align: right;\">\n",
       "      <th></th>\n",
       "      <th>CMPLNT_NUM</th>\n",
       "      <th>CMPLNT_FR_DT</th>\n",
       "      <th>CMPLNT_FR_TM</th>\n",
       "      <th>OFNS_DESC</th>\n",
       "      <th>PD_DESC</th>\n",
       "      <th>LAW_CAT_CD</th>\n",
       "      <th>BORO_NM</th>\n",
       "      <th>PREM_TYP_DESC</th>\n",
       "      <th>JURIS_DESC</th>\n",
       "      <th>X_COORD_CD</th>\n",
       "      <th>Y_COORD_CD</th>\n",
       "      <th>SUSP_RACE</th>\n",
       "      <th>SUSP_SEX</th>\n",
       "      <th>Latitude</th>\n",
       "      <th>Longitude</th>\n",
       "      <th>PATROL_BORO</th>\n",
       "      <th>VIC_RACE</th>\n",
       "      <th>VIC_SEX</th>\n",
       "    </tr>\n",
       "  </thead>\n",
       "  <tbody>\n",
       "    <tr>\n",
       "      <th>0</th>\n",
       "      <td>719713655</td>\n",
       "      <td>01/27/2009</td>\n",
       "      <td>03:00:00</td>\n",
       "      <td>HARRASSMENT 2</td>\n",
       "      <td>HARASSMENT,SUBD 3,4,5</td>\n",
       "      <td>VIOLATION</td>\n",
       "      <td>BRONX</td>\n",
       "      <td>RESIDENCE - APT. HOUSE</td>\n",
       "      <td>N.Y. POLICE DEPT</td>\n",
       "      <td>1013358.0</td>\n",
       "      <td>242189.0</td>\n",
       "      <td>BLACK</td>\n",
       "      <td>M</td>\n",
       "      <td>40.831389</td>\n",
       "      <td>-73.894818</td>\n",
       "      <td>PATROL BORO BRONX</td>\n",
       "      <td>UNKNOWN</td>\n",
       "      <td>F</td>\n",
       "    </tr>\n",
       "    <tr>\n",
       "      <th>1</th>\n",
       "      <td>479761507</td>\n",
       "      <td>01/27/2009</td>\n",
       "      <td>01:00:00</td>\n",
       "      <td>CRIMINAL MISCHIEF &amp; RELATED OF</td>\n",
       "      <td>MISCHIEF, CRIMINAL 4, OF MOTOR</td>\n",
       "      <td>MISDEMEANOR</td>\n",
       "      <td>MANHATTAN</td>\n",
       "      <td>STREET</td>\n",
       "      <td>N.Y. POLICE DEPT</td>\n",
       "      <td>990028.0</td>\n",
       "      <td>203700.0</td>\n",
       "      <td>NaN</td>\n",
       "      <td>NaN</td>\n",
       "      <td>40.725792</td>\n",
       "      <td>-73.979155</td>\n",
       "      <td>PATROL BORO MAN SOUTH</td>\n",
       "      <td>WHITE</td>\n",
       "      <td>M</td>\n",
       "    </tr>\n",
       "    <tr>\n",
       "      <th>2</th>\n",
       "      <td>119195270</td>\n",
       "      <td>01/27/2009</td>\n",
       "      <td>00:30:00</td>\n",
       "      <td>ROBBERY</td>\n",
       "      <td>ROBBERY,OPEN AREA UNCLASSIFIED</td>\n",
       "      <td>FELONY</td>\n",
       "      <td>QUEENS</td>\n",
       "      <td>STREET</td>\n",
       "      <td>N.Y. POLICE DEPT</td>\n",
       "      <td>1056338.0</td>\n",
       "      <td>178111.0</td>\n",
       "      <td>BLACK</td>\n",
       "      <td>M</td>\n",
       "      <td>40.655265</td>\n",
       "      <td>-73.740193</td>\n",
       "      <td>PATROL BORO QUEENS SOUTH</td>\n",
       "      <td>BLACK</td>\n",
       "      <td>M</td>\n",
       "    </tr>\n",
       "  </tbody>\n",
       "</table>\n",
       "</div>"
      ],
      "text/plain": [
       "   CMPLNT_NUM CMPLNT_FR_DT CMPLNT_FR_TM                       OFNS_DESC  \\\n",
       "0   719713655   01/27/2009     03:00:00                   HARRASSMENT 2   \n",
       "1   479761507   01/27/2009     01:00:00  CRIMINAL MISCHIEF & RELATED OF   \n",
       "2   119195270   01/27/2009     00:30:00                         ROBBERY   \n",
       "\n",
       "                          PD_DESC   LAW_CAT_CD    BORO_NM  \\\n",
       "0           HARASSMENT,SUBD 3,4,5    VIOLATION      BRONX   \n",
       "1  MISCHIEF, CRIMINAL 4, OF MOTOR  MISDEMEANOR  MANHATTAN   \n",
       "2  ROBBERY,OPEN AREA UNCLASSIFIED       FELONY     QUEENS   \n",
       "\n",
       "            PREM_TYP_DESC        JURIS_DESC  X_COORD_CD  Y_COORD_CD SUSP_RACE  \\\n",
       "0  RESIDENCE - APT. HOUSE  N.Y. POLICE DEPT   1013358.0    242189.0     BLACK   \n",
       "1                  STREET  N.Y. POLICE DEPT    990028.0    203700.0       NaN   \n",
       "2                  STREET  N.Y. POLICE DEPT   1056338.0    178111.0     BLACK   \n",
       "\n",
       "  SUSP_SEX   Latitude  Longitude               PATROL_BORO VIC_RACE VIC_SEX  \n",
       "0        M  40.831389 -73.894818         PATROL BORO BRONX  UNKNOWN       F  \n",
       "1      NaN  40.725792 -73.979155     PATROL BORO MAN SOUTH    WHITE       M  \n",
       "2        M  40.655265 -73.740193  PATROL BORO QUEENS SOUTH    BLACK       M  "
      ]
     },
     "execution_count": 4,
     "metadata": {},
     "output_type": "execute_result"
    }
   ],
   "source": [
    "#droping useless/sparse columns\n",
    "crimes.drop(['CMPLNT_TO_DT', 'KY_CD', 'SUSP_AGE_GROUP','VIC_AGE_GROUP', 'CRM_ATPT_CPTD_CD', 'CMPLNT_TO_TM', 'RPT_DT', 'PD_CD', 'ADDR_PCT_CD', 'JURISDICTION_CODE', 'LOC_OF_OCCUR_DESC', 'HADEVELOPT', 'TRANSIT_DISTRICT','PARKS_NM', 'HOUSING_PSA', 'Lat_Lon', 'STATION_NAME'], inplace=True, axis=1)\n",
    "crimes.head(3)"
   ]
  },
  {
   "cell_type": "code",
   "execution_count": 5,
   "metadata": {
    "colab": {},
    "colab_type": "code",
    "id": "um1dtYEHu6kH"
   },
   "outputs": [],
   "source": [
    "#removing null values\n",
    "crimes = crimes[pd.notnull(crimes['Latitude'])]\n",
    "crimes = crimes[pd.notnull(crimes['CMPLNT_FR_DT'])]\n",
    "crimes = crimes[pd.notnull(crimes['CMPLNT_FR_TM'])]\n",
    "crimes = crimes[pd.notnull(crimes['OFNS_DESC'])]\n",
    "crimes = crimes[pd.notnull(crimes['BORO_NM'])]\n",
    "crimes = crimes[pd.notnull(crimes['PREM_TYP_DESC'])]\n",
    "crimes = crimes[pd.notnull(crimes['PATROL_BORO'])]"
   ]
  },
  {
   "cell_type": "code",
   "execution_count": 6,
   "metadata": {},
   "outputs": [],
   "source": [
    "#defining bounding box for New York City\n",
    "crimes = crimes[(crimes['Latitude'] < 40.9) & (crimes['Latitude'] > 40.5)]\n",
    "crimes = crimes[(crimes['Longitude'] < -73.7) & (crimes['Longitude'] > -74.3)]"
   ]
  },
  {
   "cell_type": "code",
   "execution_count": 7,
   "metadata": {},
   "outputs": [],
   "source": [
    "#Creating a DateTime column\n",
    "crimes['TimeStamp'] = crimes.pop('CMPLNT_FR_DT') + ' ' + crimes.pop('CMPLNT_FR_TM')"
   ]
  },
  {
   "cell_type": "code",
   "execution_count": 8,
   "metadata": {},
   "outputs": [],
   "source": [
    "crimes.TimeStamp = pd.to_datetime(crimes.TimeStamp, format='%m/%d/%Y %H:%M:%S', errors='coerce')"
   ]
  },
  {
   "cell_type": "code",
   "execution_count": 9,
   "metadata": {},
   "outputs": [],
   "source": [
    "#Complaints before 2006 were badly recorded\n",
    "crimes = crimes[(crimes['TimeStamp'].dt.year > 2006)]"
   ]
  },
  {
   "cell_type": "code",
   "execution_count": 10,
   "metadata": {
    "scrolled": false
   },
   "outputs": [
    {
     "data": {
      "text/plain": [
       "KIDNAPPING AND RELATED OFFENSES              2\n",
       "UNDER THE INFLUENCE OF DRUGS                 3\n",
       "OFFENSES AGAINST MARRIAGE UNCL               3\n",
       "ABORTION                                     7\n",
       "FORTUNE TELLING                              9\n",
       "OTHER STATE LAWS (NON PENAL LAW)            10\n",
       "OTHER TRAFFIC INFRACTION                    14\n",
       "LOITERING/DEVIATE SEX                       14\n",
       "ADMINISTRATIVE CODES                        17\n",
       "LOITERING FOR DRUG PURPOSES                 19\n",
       "LOITERING                                   22\n",
       "KIDNAPPING                                  29\n",
       "NYS LAWS-UNCLASSIFIED VIOLATION             44\n",
       "DISRUPTION OF A RELIGIOUS SERV              46\n",
       "INTOXICATED/IMPAIRED DRIVING                56\n",
       "UNLAWFUL POSS. WEAP. ON SCHOOL              57\n",
       "NEW YORK CITY HEALTH CODE                   79\n",
       "ANTICIPATORY OFFENSES                       90\n",
       "HOMICIDE-NEGLIGENT-VEHICLE                  94\n",
       "HOMICIDE-NEGLIGENT,UNCLASSIFIE             124\n",
       "ESCAPE 3                                   171\n",
       "LOITERING/GAMBLING (CARDS, DIC             204\n",
       "ENDAN WELFARE INCOMP                       213\n",
       "OTHER STATE LAWS                           249\n",
       "CHILD ABANDONMENT/NON SUPPORT              374\n",
       "JOSTLING                                   386\n",
       "AGRICULTURE & MRKTS LAW-UNCLASSIFIED       485\n",
       "OFFENSES AGAINST PUBLIC SAFETY             895\n",
       "PETIT LARCENY OF MOTOR VEHICLE             905\n",
       "DISORDERLY CONDUCT                         974\n",
       "                                         ...  \n",
       "OTHER STATE LAWS (NON PENAL LA            5649\n",
       "ADMINISTRATIVE CODE                      13055\n",
       "OTHER OFFENSES RELATED TO THEF           13735\n",
       "ARSON                                    14271\n",
       "OFFENSES AGAINST THE PERSON              14806\n",
       "RAPE                                     15953\n",
       "UNAUTHORIZED USE OF A VEHICLE            17520\n",
       "OFFENSES INVOLVING FRAUD                 19159\n",
       "POSSESSION OF STOLEN PROPERTY            31432\n",
       "FRAUDS                                   37050\n",
       "FORGERY                                  58754\n",
       "THEFT-FRAUD                              61035\n",
       "SEX CRIMES                               66818\n",
       "CRIMINAL TRESPASS                        69642\n",
       "VEHICLE AND TRAFFIC LAWS                 72554\n",
       "INTOXICATED & IMPAIRED DRIVING           82161\n",
       "GRAND LARCENY OF MOTOR VEHICLE          102766\n",
       "OFFENSES AGAINST PUBLIC ADMINI          118092\n",
       "DANGEROUS WEAPONS                       138489\n",
       "MISCELLANEOUS PENAL LAW                 147884\n",
       "BURGLARY                                203299\n",
       "ROBBERY                                 215951\n",
       "FELONY ASSAULT                          226488\n",
       "OFF. AGNST PUB ORD SENSBLTY &           310065\n",
       "DANGEROUS DRUGS                         368330\n",
       "GRAND LARCENY                           504327\n",
       "CRIMINAL MISCHIEF & RELATED OF          593033\n",
       "ASSAULT 3 & RELATED OFFENSES            622469\n",
       "HARRASSMENT 2                           731864\n",
       "PETIT LARCENY                           982332\n",
       "Name: OFNS_DESC, Length: 69, dtype: int64"
      ]
     },
     "execution_count": 10,
     "metadata": {},
     "output_type": "execute_result"
    }
   ],
   "source": [
    "crimes['OFNS_DESC'].value_counts().sort_values(ascending=True)"
   ]
  },
  {
   "cell_type": "code",
   "execution_count": 18,
   "metadata": {},
   "outputs": [],
   "source": [
    "#Removing rare/undefined crimes\n",
    "crimes = crimes[crimes['OFNS_DESC'] != 'OTHER STATE LAWS (NON PENAL LAW)']\n",
    "crimes = crimes[crimes['OFNS_DESC'] != 'OFFENSES AGAINST MARRIAGE UNCL']\n",
    "crimes = crimes[crimes['OFNS_DESC'] != 'LOITERING/DEVIATE SEX']\n",
    "crimes = crimes[crimes['OFNS_DESC'] != 'FORTUNE TELLING']\n",
    "crimes = crimes[crimes['OFNS_DESC'] != 'ABORTION']\n",
    "crimes = crimes[crimes['OFNS_DESC'] != 'NYS LAWS-UNCLASSIFIED VIOLATION']\n",
    "crimes = crimes[crimes['OFNS_DESC'] != 'NEW YORK CITY HEALTH CODE']\n",
    "crimes = crimes[crimes['OFNS_DESC'] != 'OTHER STATE LAWS (NON PENAL LA']\n",
    "crimes = crimes[crimes['OFNS_DESC'] != 'OTHER STATE LAWS']\n",
    "crimes = crimes[crimes['OFNS_DESC'] != 'ADMINISTRATIVE CODE']\n",
    "crimes = crimes[crimes['OFNS_DESC'] != 'NYS LAWS-UNCLASSIFIED FELONY']\n",
    "crimes = crimes[crimes['OFNS_DESC'] != 'ESCAPE 3']\n",
    "#crimes = crimes[crimes['SUSP_RACE'] != 'UNKNOWN']\n",
    "#crimes = crimes[crimes['SUSP_SEX'] != 'U']"
   ]
  },
  {
   "cell_type": "code",
   "execution_count": 19,
   "metadata": {},
   "outputs": [],
   "source": [
    "#cleaning up crime descriptions\n",
    "crimes['OFNS_DESC'].replace('KIDNAPPING','KIDNAPPING & RELATED OFFENSES',inplace=True)\n",
    "crimes['OFNS_DESC'].replace('KIDNAPPING AND RELATED OFFENSES','KIDNAPPING & RELATED OFFENSES',inplace=True)\n",
    "\n",
    "crimes['OFNS_DESC'].replace('HOMICIDE-NEGLIGENT-VEHICLE','HOMICIDE-NEGLIGENT',inplace=True)\n",
    "crimes['OFNS_DESC'].replace('HOMICIDE-NEGLIGENT,UNCLASSIFIE','HOMICIDE-NEGLIGENT',inplace=True)\n",
    "\n",
    "crimes['OFNS_DESC'].replace('LOITERING/GAMBLING (CARDS, DIC','LOITERING',inplace=True)\n",
    "crimes['OFNS_DESC'].replace('LOITERING','LOITERING',inplace=True)\n",
    "\n",
    "crimes['OFNS_DESC'].replace('OTHER OFFENSES RELATED TO THEF','THEFT-FRAUD',inplace=True)\n",
    "crimes['OFNS_DESC'].replace('OFFENSES INVOLVING FRAUD','THEFT-FRAUD',inplace=True)\n",
    "crimes['OFNS_DESC'].replace('FRAUDS','THEFT-FRAUD',inplace=True)\n",
    "\n",
    "crimes['OFNS_DESC'].replace('INTOXICATED & IMPAIRED DRIVING', 'INTOXICATED/IMPAIRED DRIVING',inplace=True)\n",
    "\n",
    "crimes['OFNS_DESC'].replace('PETIT LARCENY OF MOTOR VEHICLE', 'LARCENY OF MOTOR VEHICLE',inplace=True)\n",
    "crimes['OFNS_DESC'].replace('GRAND LARCENY OF MOTOR VEHICLE', 'LARCENY OF MOTOR VEHICLE',inplace=True)\n",
    "crimes['OFNS_DESC'].replace(\"BURGLAR'S TOOLS\", 'BURGLARY',inplace=True)\n",
    "crimes['OFNS_DESC'].replace(\"FRAUDULENT ACCOSTING\", 'MISCELLANEOUS PENAL LAW',inplace=True)\n",
    "crimes['OFNS_DESC'].replace(\"OTHER TRAFFIC INFRACTION\", 'VEHICLE AND TRAFFIC LAWS',inplace=True)\n",
    "crimes['OFNS_DESC'].replace(\"THEFT OF SERVICES\", 'PETIT LARCENY',inplace=True)\n",
    "crimes['OFNS_DESC'].replace(\"ENDAN WELFARE INCOMP\", 'OFF. AGNST PUB ORD SENSBLTY &',inplace=True)\n",
    "crimes['OFNS_DESC'].replace(\"OFFENSES AGAINST PUBLIC SAFETY\", 'OFF. AGNST PUB ORD SENSBLTY &',inplace=True)\n",
    "crimes['OFNS_DESC'].replace(\"DISORDERLY CONDUCT\", 'OFF. AGNST PUB ORD SENSBLTY &',inplace=True)\n",
    "crimes['OFNS_DESC'].replace(\"JOSTLING\", 'OFFENSES AGAINST THE PERSON', inplace=True)\n",
    "crimes['OFNS_DESC'].replace(\"OFFENSES AGAINST THE PERSON\", 'OFF. AGNST PUB ORD SENSBLTY &',inplace=True)\n",
    "crimes['OFNS_DESC'].replace(\"DISORDERLY CONDUCT\", 'OFF. AGNST PUB ORD SENSBLTY &',inplace=True)\n",
    "crimes['OFNS_DESC'].replace(\"UNDER THE INFLUENCE OF DRUGS\", 'OFF. AGNST PUB ORD SENSBLTY &',inplace=True)\n",
    "\n",
    "crimes['OFNS_DESC'].replace(\"LOITERING FOR DRUG PURPOSES\", 'DANGEROUS DRUGS',inplace=True)\n",
    "\n",
    "#cleaning up place descriptions\n",
    "\n",
    "crimes['PREM_TYP_DESC'].replace('RESIDENCE - APT. HOUSE','RESIDENCE',inplace=True)\n",
    "crimes['PREM_TYP_DESC'].replace('RESIDENCE - PUBLIC HOUSING','RESIDENCE',inplace=True)\n",
    "crimes['PREM_TYP_DESC'].replace('RESIDENCE-HOUSE','RESIDENCE',inplace=True)\n",
    "\n",
    "crimes['PREM_TYP_DESC'].replace('CANDY STORE','STORE',inplace=True)\n",
    "crimes['PREM_TYP_DESC'].replace('CHAIN STORE','STORE',inplace=True)\n",
    "crimes['PREM_TYP_DESC'].replace('DEPARTMENT STORE','STORE',inplace=True)\n",
    "crimes['PREM_TYP_DESC'].replace('DRUG STORE','STORE',inplace=True)\n",
    "crimes['PREM_TYP_DESC'].replace('RESIDENCE-HOUSE','STORE',inplace=True)\n",
    "crimes['PREM_TYP_DESC'].replace('LIQUOR STORE','STORE',inplace=True)\n",
    "crimes['PREM_TYP_DESC'].replace('STORE UNCLASSIFIED','STORE',inplace=True)\n",
    "crimes['PREM_TYP_DESC'].replace('TELECOMM. STORE','STORE',inplace=True)\n",
    "crimes['PREM_TYP_DESC'].replace('VARIETY STORE','STORE',inplace=True)\n",
    "crimes['PREM_TYP_DESC'].replace('VIDEO STORE','STORE',inplace=True)\n",
    "crimes['PREM_TYP_DESC'].replace('SMALL MERCHANT','STORE',inplace=True)\n",
    "crimes['PREM_TYP_DESC'].replace('SHOE','STORE',inplace=True)\n",
    "crimes['PREM_TYP_DESC'].replace('FOOD SUPERMARKET','STORE',inplace=True)\n",
    "crimes['PREM_TYP_DESC'].replace('GROCERY/BODEGA','STORE',inplace=True)\n",
    "crimes['PREM_TYP_DESC'].replace('JEWELRY','STORE',inplace=True)\n",
    "crimes['PREM_TYP_DESC'].replace('BOOK/CARD','STORE',inplace=True)\n",
    "crimes['PREM_TYP_DESC'].replace('CANDY STORE','STORE',inplace=True)\n",
    "crimes['PREM_TYP_DESC'].replace('CLOTHING/BOUTIQUE','STORE',inplace=True)\n",
    "\n",
    "crimes['PREM_TYP_DESC'].replace('BAR/NIGHT CLUB','RESTAURANT/BAR',inplace=True)\n",
    "crimes['PREM_TYP_DESC'].replace('RESTAURANT/DINER','RESTAURANT/BAR',inplace=True)\n",
    "crimes['PREM_TYP_DESC'].replace('FAST FOOD','RESTAURANT/BAR',inplace=True)\n",
    "\n",
    "crimes['PREM_TYP_DESC'].replace('PARKING LOT/GARAGE (PRIVATE)','PARKING_LOT',inplace=True)\n",
    "crimes['PREM_TYP_DESC'].replace('PARKING LOT/GARAGE (PUBLIC)','PARKING_LOT',inplace=True)\n",
    "\n",
    "crimes['PREM_TYP_DESC'].replace('PARKING LOT/GARAGE (PRIVATE)','SCHOOL',inplace=True)\n",
    "crimes['PREM_TYP_DESC'].replace('PARKING LOT/GARAGE (PUBLIC)','SCHOOL',inplace=True)\n",
    "\n",
    "crimes['PREM_TYP_DESC'].replace('TAXI (LIVERY LICENSED)','TRANSIT',inplace=True)\n",
    "crimes['PREM_TYP_DESC'].replace('TAXI (YELLOW LICENSED)','TRANSIT',inplace=True)\n",
    "crimes['PREM_TYP_DESC'].replace('TAXI/LIVERY (UNLICENSED)','TRANSIT',inplace=True)\n",
    "crimes['PREM_TYP_DESC'].replace('TRAMWAY','TRANSIT',inplace=True)\n",
    "crimes['PREM_TYP_DESC'].replace('TRANSIT - NYC SUBWAY','TRANSIT',inplace=True)\n",
    "crimes['PREM_TYP_DESC'].replace('TRANSIT FACILITY (OTHER)','TRANSIT',inplace=True)\n",
    "crimes['PREM_TYP_DESC'].replace('HIGHWAY/PARKWAY','TRANSIT',inplace=True)\n",
    "crimes['PREM_TYP_DESC'].replace('BUS (NYC TRANSIT)','TRANSIT',inplace=True)\n",
    "crimes['PREM_TYP_DESC'].replace('BUS (OTHER)','TRANSIT',inplace=True)\n",
    "\n",
    "crimes['PREM_TYP_DESC'].replace('MOSQUE','RELIGIOUS',inplace=True)\n",
    "crimes['PREM_TYP_DESC'].replace('CHURCH','RELIGIOUS',inplace=True)\n",
    "crimes['PREM_TYP_DESC'].replace('SYNAGOGUE','RELIGIOUS',inplace=True)\n",
    "crimes['PREM_TYP_DESC'].replace('OTHER HOUSE OF WORSHIP','RELIGIOUS',inplace=True)\n",
    "\n",
    "crimes['PREM_TYP_DESC'].replace('ABANDONED BUILDING','OTHER',inplace=True)\n"
   ]
  },
  {
   "cell_type": "code",
   "execution_count": 20,
   "metadata": {},
   "outputs": [
    {
     "data": {
      "text/plain": [
       "DISRUPTION OF A RELIGIOUS SERV              46\n",
       "UNLAWFUL POSS. WEAP. ON SCHOOL              57\n",
       "ANTICIPATORY OFFENSES                       90\n",
       "HOMICIDE-NEGLIGENT                         218\n",
       "LOITERING                                  226\n",
       "CHILD ABANDONMENT/NON SUPPORT              374\n",
       "AGRICULTURE & MRKTS LAW-UNCLASSIFIED       485\n",
       "ALCOHOLIC BEVERAGE CONTROL LAW            1004\n",
       "PROSTITUTION & RELATED OFFENSES           1055\n",
       "OFFENSES RELATED TO CHILDREN              1573\n",
       "KIDNAPPING & RELATED OFFENSES             2377\n",
       "GAMBLING                                  2490\n",
       "ARSON                                    14271\n",
       "RAPE                                     15953\n",
       "UNAUTHORIZED USE OF A VEHICLE            17520\n",
       "POSSESSION OF STOLEN PROPERTY            31432\n",
       "FORGERY                                  58754\n",
       "SEX CRIMES                               66818\n",
       "CRIMINAL TRESPASS                        69642\n",
       "VEHICLE AND TRAFFIC LAWS                 72568\n",
       "INTOXICATED/IMPAIRED DRIVING             82217\n",
       "LARCENY OF MOTOR VEHICLE                103671\n",
       "OFFENSES AGAINST PUBLIC ADMINI          118092\n",
       "THEFT-FRAUD                             130979\n",
       "DANGEROUS WEAPONS                       138489\n",
       "MISCELLANEOUS PENAL LAW                 150824\n",
       "BURGLARY                                206439\n",
       "ROBBERY                                 215951\n",
       "FELONY ASSAULT                          226488\n",
       "OFF. AGNST PUB ORD SENSBLTY &           327342\n",
       "DANGEROUS DRUGS                         368349\n",
       "GRAND LARCENY                           504327\n",
       "CRIMINAL MISCHIEF & RELATED OF          593033\n",
       "ASSAULT 3 & RELATED OFFENSES            622469\n",
       "HARRASSMENT 2                           731864\n",
       "PETIT LARCENY                           986317\n",
       "Name: OFNS_DESC, dtype: int64"
      ]
     },
     "execution_count": 20,
     "metadata": {},
     "output_type": "execute_result"
    }
   ],
   "source": [
    "crimes['OFNS_DESC'].value_counts().sort_values(ascending=True)"
   ]
  },
  {
   "cell_type": "code",
   "execution_count": 23,
   "metadata": {},
   "outputs": [
    {
     "data": {
      "text/plain": [
       "36"
      ]
     },
     "execution_count": 23,
     "metadata": {},
     "output_type": "execute_result"
    }
   ],
   "source": [
    "len(crimes['OFNS_DESC'].unique())"
   ]
  },
  {
   "cell_type": "code",
   "execution_count": 24,
   "metadata": {},
   "outputs": [
    {
     "data": {
      "text/plain": [
       "(5863804, 17)"
      ]
     },
     "execution_count": 24,
     "metadata": {},
     "output_type": "execute_result"
    }
   ],
   "source": [
    "crimes.shape"
   ]
  },
  {
   "cell_type": "code",
   "execution_count": 25,
   "metadata": {
    "scrolled": false
   },
   "outputs": [
    {
     "data": {
      "text/plain": [
       "(897162, 17)"
      ]
     },
     "execution_count": 25,
     "metadata": {},
     "output_type": "execute_result"
    }
   ],
   "source": [
    "# selecting around 900 000 instances for exploration and prediction tasks\n",
    "crimes = crimes.sample(frac=0.153, axis=0)\n",
    "crimes.shape"
   ]
  },
  {
   "cell_type": "markdown",
   "metadata": {},
   "source": [
    "### Feature engeneering"
   ]
  },
  {
   "cell_type": "code",
   "execution_count": 26,
   "metadata": {},
   "outputs": [
    {
     "data": {
      "text/plain": [
       "2534638    2014-01-02\n",
       "4998197    2007-12-01\n",
       "2023716    2013-01-16\n",
       "Name: Date, dtype: object"
      ]
     },
     "execution_count": 26,
     "metadata": {},
     "output_type": "execute_result"
    }
   ],
   "source": [
    "crimes['Date'] = crimes.TimeStamp.dt.date\n",
    "crimes['Date'].sample(3)"
   ]
  },
  {
   "cell_type": "code",
   "execution_count": 27,
   "metadata": {
    "colab": {
     "base_uri": "https://localhost:8080/",
     "height": 84
    },
    "colab_type": "code",
    "executionInfo": {
     "elapsed": 189243,
     "status": "ok",
     "timestamp": 1559151572385,
     "user": {
      "displayName": "Djordje",
      "photoUrl": "https://lh4.googleusercontent.com/-Qp4HD2lnvpw/AAAAAAAAAAI/AAAAAAAAAsc/rQVbrmh36g4/s64/photo.jpg",
      "userId": "02440317835448491099"
     },
     "user_tz": -120
    },
    "id": "I6OPqBVKwedj",
    "outputId": "eb0df56e-05c8-4413-c7cc-fd00ca8be3d9"
   },
   "outputs": [
    {
     "data": {
      "text/plain": [
       "661932     2011\n",
       "4093038    2018\n",
       "3764895    2017\n",
       "Name: Year, dtype: int64"
      ]
     },
     "execution_count": 27,
     "metadata": {},
     "output_type": "execute_result"
    }
   ],
   "source": [
    "crimes['Year'] = crimes.TimeStamp.dt.year\n",
    "crimes['Year'].sample(3)"
   ]
  },
  {
   "cell_type": "code",
   "execution_count": 28,
   "metadata": {
    "colab": {
     "base_uri": "https://localhost:8080/",
     "height": 84
    },
    "colab_type": "code",
    "executionInfo": {
     "elapsed": 189868,
     "status": "ok",
     "timestamp": 1559151573063,
     "user": {
      "displayName": "Djordje",
      "photoUrl": "https://lh4.googleusercontent.com/-Qp4HD2lnvpw/AAAAAAAAAAI/AAAAAAAAAsc/rQVbrmh36g4/s64/photo.jpg",
      "userId": "02440317835448491099"
     },
     "user_tz": -120
    },
    "id": "-7Ycec77wnQ4",
    "outputId": "3dd4fe29-6dca-472a-cddb-489ac7b49ec3"
   },
   "outputs": [
    {
     "data": {
      "text/plain": [
       "5075681    10\n",
       "4315761     1\n",
       "1999564     2\n",
       "Name: Month, dtype: int64"
      ]
     },
     "execution_count": 28,
     "metadata": {},
     "output_type": "execute_result"
    }
   ],
   "source": [
    "crimes['Month'] = crimes.TimeStamp.dt.month\n",
    "crimes['Month'].sample(3)"
   ]
  },
  {
   "cell_type": "code",
   "execution_count": 29,
   "metadata": {},
   "outputs": [
    {
     "data": {
      "text/plain": [
       "3836978    15\n",
       "5650050    11\n",
       "5529794     3\n",
       "Name: Day, dtype: int64"
      ]
     },
     "execution_count": 29,
     "metadata": {},
     "output_type": "execute_result"
    }
   ],
   "source": [
    "crimes['Day'] = crimes['TimeStamp'].dt.day\n",
    "crimes['Day'].sample(3)"
   ]
  },
  {
   "cell_type": "code",
   "execution_count": 30,
   "metadata": {},
   "outputs": [
    {
     "data": {
      "text/plain": [
       "1098070      Sunday\n",
       "476129       Monday\n",
       "808823     Thursday\n",
       "Name: Weekday, dtype: object"
      ]
     },
     "execution_count": 30,
     "metadata": {},
     "output_type": "execute_result"
    }
   ],
   "source": [
    "crimes['Weekday'] = crimes['TimeStamp'].dt.weekday_name\n",
    "crimes['Weekday'].sample(3)"
   ]
  },
  {
   "cell_type": "code",
   "execution_count": 31,
   "metadata": {},
   "outputs": [],
   "source": [
    "days_to_int_dict = {\n",
    "        'Monday': 0,\n",
    "        'Tuesday': 1,\n",
    "        'Wednesday': 2,\n",
    "        'Thursday': 3,\n",
    "        'Friday': 4,\n",
    "        'Saturday': 5,\n",
    "        'Sunday': 6,\n",
    "}\n",
    "crimes['Weekday'] = crimes['Weekday'].map(days_to_int_dict)"
   ]
  },
  {
   "cell_type": "code",
   "execution_count": 32,
   "metadata": {
    "scrolled": true
   },
   "outputs": [
    {
     "data": {
      "text/plain": [
       "6430746    16\n",
       "6380922    20\n",
       "5902167    13\n",
       "Name: Hour, dtype: int64"
      ]
     },
     "execution_count": 32,
     "metadata": {},
     "output_type": "execute_result"
    }
   ],
   "source": [
    "crimes['Hour'] = crimes.TimeStamp.dt.hour\n",
    "crimes['Hour'].sample(3)"
   ]
  },
  {
   "cell_type": "code",
   "execution_count": 33,
   "metadata": {},
   "outputs": [
    {
     "data": {
      "text/plain": [
       "3531089     0\n",
       "420801      0\n",
       "2395981    13\n",
       "Name: Minute, dtype: int64"
      ]
     },
     "execution_count": 33,
     "metadata": {},
     "output_type": "execute_result"
    }
   ],
   "source": [
    "crimes['Minute'] = crimes.TimeStamp.dt.minute\n",
    "crimes['Minute'].sample(3)"
   ]
  },
  {
   "cell_type": "code",
   "execution_count": 34,
   "metadata": {},
   "outputs": [
    {
     "data": {
      "text/plain": [
       "477774     1147\n",
       "3735279    3834\n",
       "6202868     967\n",
       "Name: n_days, dtype: int64"
      ]
     },
     "execution_count": 34,
     "metadata": {},
     "output_type": "execute_result"
    }
   ],
   "source": [
    "crimes['n_days'] = (crimes['Date'] - crimes['Date'].min()).apply(lambda x: x.days)\n",
    "crimes['n_days'].sample(3)"
   ]
  },
  {
   "cell_type": "code",
   "execution_count": 35,
   "metadata": {},
   "outputs": [
    {
     "name": "stdout",
     "output_type": "stream",
     "text": [
      "Done Outputing data_analyse.csv\n"
     ]
    }
   ],
   "source": [
    "#saving data for analysis\n",
    "crimes.to_csv('data_analyse.csv',index=False)\n",
    "print('Done Outputing data_analyse.csv')"
   ]
  },
  {
   "cell_type": "markdown",
   "metadata": {},
   "source": [
    "## Preparing data for prediction"
   ]
  },
  {
   "cell_type": "code",
   "execution_count": 6,
   "metadata": {},
   "outputs": [],
   "source": [
    "crimes.drop(['CMPLNT_NUM', 'X_COORD_CD', 'Y_COORD_CD', 'LAW_CAT_CD', 'PD_DESC', 'TimeStamp', 'PREM_TYP_DESC', 'Date','SUSP_RACE', 'SUSP_SEX', 'VIC_RACE', 'VIC_SEX', 'JURIS_DESC'], inplace=True, axis=1)"
   ]
  },
  {
   "cell_type": "code",
   "execution_count": 7,
   "metadata": {
    "scrolled": false
   },
   "outputs": [
    {
     "data": {
      "text/html": [
       "<div>\n",
       "<style scoped>\n",
       "    .dataframe tbody tr th:only-of-type {\n",
       "        vertical-align: middle;\n",
       "    }\n",
       "\n",
       "    .dataframe tbody tr th {\n",
       "        vertical-align: top;\n",
       "    }\n",
       "\n",
       "    .dataframe thead th {\n",
       "        text-align: right;\n",
       "    }\n",
       "</style>\n",
       "<table border=\"1\" class=\"dataframe\">\n",
       "  <thead>\n",
       "    <tr style=\"text-align: right;\">\n",
       "      <th></th>\n",
       "      <th>OFNS_DESC</th>\n",
       "      <th>BORO_NM</th>\n",
       "      <th>Latitude</th>\n",
       "      <th>Longitude</th>\n",
       "      <th>PATROL_BORO</th>\n",
       "      <th>Year</th>\n",
       "      <th>Month</th>\n",
       "      <th>Day</th>\n",
       "      <th>Weekday</th>\n",
       "      <th>Hour</th>\n",
       "      <th>Minute</th>\n",
       "      <th>n_days</th>\n",
       "    </tr>\n",
       "  </thead>\n",
       "  <tbody>\n",
       "    <tr>\n",
       "      <th>357368</th>\n",
       "      <td>DANGEROUS DRUGS</td>\n",
       "      <td>BROOKLYN</td>\n",
       "      <td>40.678512</td>\n",
       "      <td>-73.914931</td>\n",
       "      <td>PATROL BORO BKLYN NORTH</td>\n",
       "      <td>2007</td>\n",
       "      <td>3</td>\n",
       "      <td>4</td>\n",
       "      <td>6</td>\n",
       "      <td>19</td>\n",
       "      <td>55</td>\n",
       "      <td>62</td>\n",
       "    </tr>\n",
       "    <tr>\n",
       "      <th>832539</th>\n",
       "      <td>VEHICLE AND TRAFFIC LAWS</td>\n",
       "      <td>BRONX</td>\n",
       "      <td>40.818010</td>\n",
       "      <td>-73.913192</td>\n",
       "      <td>PATROL BORO BRONX</td>\n",
       "      <td>2015</td>\n",
       "      <td>3</td>\n",
       "      <td>2</td>\n",
       "      <td>0</td>\n",
       "      <td>16</td>\n",
       "      <td>40</td>\n",
       "      <td>2982</td>\n",
       "    </tr>\n",
       "    <tr>\n",
       "      <th>782767</th>\n",
       "      <td>FELONY ASSAULT</td>\n",
       "      <td>MANHATTAN</td>\n",
       "      <td>40.719840</td>\n",
       "      <td>-73.987545</td>\n",
       "      <td>PATROL BORO MAN SOUTH</td>\n",
       "      <td>2010</td>\n",
       "      <td>5</td>\n",
       "      <td>7</td>\n",
       "      <td>4</td>\n",
       "      <td>4</td>\n",
       "      <td>25</td>\n",
       "      <td>1222</td>\n",
       "    </tr>\n",
       "  </tbody>\n",
       "</table>\n",
       "</div>"
      ],
      "text/plain": [
       "                       OFNS_DESC    BORO_NM   Latitude  Longitude  \\\n",
       "357368           DANGEROUS DRUGS   BROOKLYN  40.678512 -73.914931   \n",
       "832539  VEHICLE AND TRAFFIC LAWS      BRONX  40.818010 -73.913192   \n",
       "782767            FELONY ASSAULT  MANHATTAN  40.719840 -73.987545   \n",
       "\n",
       "                    PATROL_BORO  Year  Month  Day  Weekday  Hour  Minute  \\\n",
       "357368  PATROL BORO BKLYN NORTH  2007      3    4        6    19      55   \n",
       "832539        PATROL BORO BRONX  2015      3    2        0    16      40   \n",
       "782767    PATROL BORO MAN SOUTH  2010      5    7        4     4      25   \n",
       "\n",
       "        n_days  \n",
       "357368      62  \n",
       "832539    2982  \n",
       "782767    1222  "
      ]
     },
     "execution_count": 7,
     "metadata": {},
     "output_type": "execute_result"
    }
   ],
   "source": [
    "crimes.sample(3)"
   ]
  },
  {
   "cell_type": "code",
   "execution_count": 8,
   "metadata": {
    "scrolled": false
   },
   "outputs": [
    {
     "data": {
      "text/plain": [
       "PETIT LARCENY                           151059\n",
       "HARRASSMENT 2                           111481\n",
       "ASSAULT 3 & RELATED OFFENSES             95273\n",
       "CRIMINAL MISCHIEF & RELATED OF           90517\n",
       "GRAND LARCENY                            77012\n",
       "DANGEROUS DRUGS                          56300\n",
       "OFF. AGNST PUB ORD SENSBLTY &            50423\n",
       "FELONY ASSAULT                           35003\n",
       "ROBBERY                                  33033\n",
       "BURGLARY                                 31658\n",
       "MISCELLANEOUS PENAL LAW                  23159\n",
       "DANGEROUS WEAPONS                        21392\n",
       "THEFT-FRAUD                              19895\n",
       "OFFENSES AGAINST PUBLIC ADMINI           17945\n",
       "LARCENY OF MOTOR VEHICLE                 15734\n",
       "INTOXICATED/IMPAIRED DRIVING             12492\n",
       "VEHICLE AND TRAFFIC LAWS                 11091\n",
       "CRIMINAL TRESPASS                        10774\n",
       "SEX CRIMES                               10364\n",
       "FORGERY                                   9091\n",
       "POSSESSION OF STOLEN PROPERTY             4795\n",
       "UNAUTHORIZED USE OF A VEHICLE             2594\n",
       "RAPE                                      2444\n",
       "ARSON                                     2144\n",
       "KIDNAPPING & RELATED OFFENSES              379\n",
       "GAMBLING                                   346\n",
       "OFFENSES RELATED TO CHILDREN               228\n",
       "PROSTITUTION & RELATED OFFENSES            155\n",
       "ALCOHOLIC BEVERAGE CONTROL LAW             147\n",
       "AGRICULTURE & MRKTS LAW-UNCLASSIFIED        71\n",
       "CHILD ABANDONMENT/NON SUPPORT               51\n",
       "HOMICIDE-NEGLIGENT                          38\n",
       "LOITERING                                   36\n",
       "UNLAWFUL POSS. WEAP. ON SCHOOL              15\n",
       "ANTICIPATORY OFFENSES                       12\n",
       "DISRUPTION OF A RELIGIOUS SERV              11\n",
       "Name: OFNS_DESC, dtype: int64"
      ]
     },
     "execution_count": 8,
     "metadata": {},
     "output_type": "execute_result"
    }
   ],
   "source": [
    "crimes['OFNS_DESC'].value_counts()"
   ]
  },
  {
   "cell_type": "code",
   "execution_count": 31,
   "metadata": {},
   "outputs": [
    {
     "name": "stdout",
     "output_type": "stream",
     "text": [
      "Done Outputing data_clean.csv\n"
     ]
    }
   ],
   "source": [
    "#crimes.to_csv('data_clean.csv',index=False)\n",
    "#print('Done Outputing data_clean.csv')"
   ]
  },
  {
   "cell_type": "code",
   "execution_count": 9,
   "metadata": {},
   "outputs": [],
   "source": [
    "categories = crimes['OFNS_DESC'].unique()\n",
    "category_dict = {value:index for index,value in enumerate(categories)}\n",
    "y = crimes['OFNS_DESC'].map(category_dict)"
   ]
  },
  {
   "cell_type": "code",
   "execution_count": 10,
   "metadata": {},
   "outputs": [
    {
     "data": {
      "text/plain": [
       "<matplotlib.axes._subplots.AxesSubplot at 0x1c87d49d5c0>"
      ]
     },
     "execution_count": 10,
     "metadata": {},
     "output_type": "execute_result"
    },
    {
     "data": {
      "image/png": "[encoded data removed]",
      "text/plain": [
       "<Figure size 864x576 with 1 Axes>"
      ]
     },
     "metadata": {
      "needs_background": "light"
     },
     "output_type": "display_data"
    }
   ],
   "source": [
    "plt.figure(figsize=(12,8))\n",
    "sns.set_color_codes()\n",
    "sns.distplot(y,bins=20,color='r')"
   ]
  },
  {
   "cell_type": "code",
   "execution_count": 11,
   "metadata": {},
   "outputs": [
    {
     "name": "stdout",
     "output_type": "stream",
     "text": [
      "[10 16  7 ... 23  8 26]\n"
     ]
    }
   ],
   "source": [
    "from sklearn import preprocessing\n",
    "\n",
    "category = preprocessing.LabelEncoder()\n",
    "category_crime = category.fit_transform(crimes.OFNS_DESC)\n",
    "print(category_crime)"
   ]
  },
  {
   "cell_type": "code",
   "execution_count": 14,
   "metadata": {
    "scrolled": false
   },
   "outputs": [
    {
     "data": {
      "text/plain": [
       "array(['DANGEROUS WEAPONS', 'HARRASSMENT 2',\n",
       "       'CRIMINAL MISCHIEF & RELATED OF', ...,\n",
       "       'OFF. AGNST PUB ORD SENSBLTY &', 'CRIMINAL TRESPASS',\n",
       "       'PETIT LARCENY'], dtype=object)"
      ]
     },
     "execution_count": 14,
     "metadata": {},
     "output_type": "execute_result"
    }
   ],
   "source": [
    "category.inverse_transform(category_crime)"
   ]
  },
  {
   "cell_type": "code",
   "execution_count": 19,
   "metadata": {},
   "outputs": [
    {
     "data": {
      "text/plain": [
       "{'AGRICULTURE & MRKTS LAW-UNCLASSIFIED': 0,\n",
       " 'ALCOHOLIC BEVERAGE CONTROL LAW': 1,\n",
       " 'ANTICIPATORY OFFENSES': 2,\n",
       " 'ARSON': 3,\n",
       " 'ASSAULT 3 & RELATED OFFENSES': 4,\n",
       " 'BURGLARY': 5,\n",
       " 'CHILD ABANDONMENT/NON SUPPORT': 6,\n",
       " 'CRIMINAL MISCHIEF & RELATED OF': 7,\n",
       " 'CRIMINAL TRESPASS': 8,\n",
       " 'DANGEROUS DRUGS': 9,\n",
       " 'DANGEROUS WEAPONS': 10,\n",
       " 'DISRUPTION OF A RELIGIOUS SERV': 11,\n",
       " 'FELONY ASSAULT': 12,\n",
       " 'FORGERY': 13,\n",
       " 'GAMBLING': 14,\n",
       " 'GRAND LARCENY': 15,\n",
       " 'HARRASSMENT 2': 16,\n",
       " 'HOMICIDE-NEGLIGENT': 17,\n",
       " 'INTOXICATED/IMPAIRED DRIVING': 18,\n",
       " 'KIDNAPPING & RELATED OFFENSES': 19,\n",
       " 'LARCENY OF MOTOR VEHICLE': 20,\n",
       " 'LOITERING': 21,\n",
       " 'MISCELLANEOUS PENAL LAW': 22,\n",
       " 'OFF. AGNST PUB ORD SENSBLTY &': 23,\n",
       " 'OFFENSES AGAINST PUBLIC ADMINI': 24,\n",
       " 'OFFENSES RELATED TO CHILDREN': 25,\n",
       " 'PETIT LARCENY': 26,\n",
       " 'POSSESSION OF STOLEN PROPERTY': 27,\n",
       " 'PROSTITUTION & RELATED OFFENSES': 28,\n",
       " 'RAPE': 29,\n",
       " 'ROBBERY': 30,\n",
       " 'SEX CRIMES': 31,\n",
       " 'THEFT-FRAUD': 32,\n",
       " 'UNAUTHORIZED USE OF A VEHICLE': 33,\n",
       " 'UNLAWFUL POSS. WEAP. ON SCHOOL': 34,\n",
       " 'VEHICLE AND TRAFFIC LAWS': 35}"
      ]
     },
     "execution_count": 19,
     "metadata": {},
     "output_type": "execute_result"
    }
   ],
   "source": [
    "integer_mapping = {l: i for i, l in enumerate(category.classes_)}\n",
    "integer_mapping"
   ]
  },
  {
   "cell_type": "code",
   "execution_count": 44,
   "metadata": {},
   "outputs": [],
   "source": [
    "#feature normalization\n",
    "def normalize(data): \n",
    "    data = (data - data.min()) / (data.max() - data.min())\n",
    "    return data\n",
    "\n",
    "crimes['n_days'] = normalize(crimes.n_days)"
   ]
  },
  {
   "cell_type": "code",
   "execution_count": 45,
   "metadata": {},
   "outputs": [],
   "source": [
    "def prepare_data(df):\n",
    "    \"\"\"\n",
    "    Preprocessing Training/Testing Data \n",
    "    \"\"\"\n",
    "    feature_list=df.columns.tolist()  \n",
    "    cleanData=df[feature_list]\n",
    "    cleanData.index=range(len(df))\n",
    "    \n",
    "    print(\"Creating sin-cos Lat/Lon feature...\")\n",
    "    cleanData['LL_X'] = np.cos(cleanData['Latitude']) * np.cos(cleanData['Longitude'])\n",
    "    cleanData['LL_Y'] = np.cos(cleanData['Latitude']) * np.sin(cleanData['Longitude'])\n",
    "    cleanData['LL_Z'] = np.sin(cleanData['Latitude'])\n",
    "    '''ll_scaler = preprocessing.StandardScaler()\n",
    "    ll_scaler.fit(cleanData[[\"XLL\",\"YLL\", \"ZLL\"]])\n",
    "    cleanData[[\"XLL\",\"YLL\", \"ZLL\"]] = ll_scaler.transform(cleanData[[\"XLL\",\"YLL\", \"ZLL\"]])'''\n",
    "    \n",
    "    print(\"Creating ordinal representations of circular features (Month/Year/Weekday/Minute)\")\n",
    "    cleanData['Hour_X'] = np.sin(2*np.pi*cleanData['Hour']/23)\n",
    "    cleanData['Hour_Y'] = np.cos(2*np.pi*cleanData['Hour']/23)\n",
    "    cleanData['Month_X'] = np.sin(2*np.pi*cleanData['Month']/11)\n",
    "    cleanData['Month_Y'] = np.cos(2*np.pi*cleanData['Month']/11)\n",
    "    cleanData['Weekday_X'] = np.sin(2*np.pi*cleanData['Weekday']/6)\n",
    "    cleanData['Weekday_Y'] = np.cos(2*np.pi*cleanData['Weekday']/6)\n",
    "    cleanData['Minute_X'] = np.sin(2*np.pi*cleanData['Weekday']/59)\n",
    "    cleanData['Minute_Y'] = np.cos(2*np.pi*cleanData['Weekday']/59) \n",
    "    cleanData['Year'] = normalize(cleanData.Year)\n",
    "\n",
    "    category = preprocessing.LabelEncoder()\n",
    "    category_boro = category.fit_transform(cleanData.BORO_NM)\n",
    "    \n",
    "    cleanData['BORO_NM'] = category_boro\n",
    "    \n",
    "    print (\"Droping processed columns...\")\n",
    "    cleanData=cleanData.drop([\"Minute\", \"Latitude\", \"Longitude\",\"PATROL_BORO\", \"OFNS_DESC\", \"Hour\",\"Day\",\"Month\",\"Weekday\"],\\\n",
    "                                axis=1,inplace=False)\n",
    "    \n",
    "    print('Done!')\n",
    "    \n",
    "    return cleanData"
   ]
  },
  {
   "cell_type": "code",
   "execution_count": 46,
   "metadata": {},
   "outputs": [
    {
     "name": "stdout",
     "output_type": "stream",
     "text": [
      "Creating sin-cos Lat/Lon feature...\n",
      "Creating ordinal representations of circular features (Month/Year/Weekday/Minute)\n",
      "Droping processed columns...\n",
      "Done!\n"
     ]
    }
   ],
   "source": [
    "features = prepare_data(crimes)\n",
    "features['crime'] = category_crime"
   ]
  },
  {
   "cell_type": "code",
   "execution_count": 47,
   "metadata": {
    "scrolled": true
   },
   "outputs": [
    {
     "data": {
      "text/plain": [
       "['BORO_NM',\n",
       " 'Year',\n",
       " 'n_days',\n",
       " 'LL_X',\n",
       " 'LL_Y',\n",
       " 'LL_Z',\n",
       " 'Hour_X',\n",
       " 'Hour_Y',\n",
       " 'Month_X',\n",
       " 'Month_Y',\n",
       " 'Weekday_X',\n",
       " 'Weekday_Y',\n",
       " 'Minute_X',\n",
       " 'Minute_Y',\n",
       " 'crime']"
      ]
     },
     "execution_count": 47,
     "metadata": {},
     "output_type": "execute_result"
    }
   ],
   "source": [
    "collist=features.columns.tolist()\n",
    "collist"
   ]
  },
  {
   "cell_type": "code",
   "execution_count": 48,
   "metadata": {},
   "outputs": [
    {
     "data": {
      "text/html": [
       "<div>\n",
       "<style scoped>\n",
       "    .dataframe tbody tr th:only-of-type {\n",
       "        vertical-align: middle;\n",
       "    }\n",
       "\n",
       "    .dataframe tbody tr th {\n",
       "        vertical-align: top;\n",
       "    }\n",
       "\n",
       "    .dataframe thead th {\n",
       "        text-align: right;\n",
       "    }\n",
       "</style>\n",
       "<table border=\"1\" class=\"dataframe\">\n",
       "  <thead>\n",
       "    <tr style=\"text-align: right;\">\n",
       "      <th></th>\n",
       "      <th>BORO_NM</th>\n",
       "      <th>Year</th>\n",
       "      <th>n_days</th>\n",
       "      <th>LL_X</th>\n",
       "      <th>LL_Y</th>\n",
       "      <th>LL_Z</th>\n",
       "      <th>Hour_X</th>\n",
       "      <th>Hour_Y</th>\n",
       "      <th>Month_X</th>\n",
       "      <th>Month_Y</th>\n",
       "      <th>Weekday_X</th>\n",
       "      <th>Weekday_Y</th>\n",
       "      <th>Minute_X</th>\n",
       "      <th>Minute_Y</th>\n",
       "      <th>crime</th>\n",
       "    </tr>\n",
       "  </thead>\n",
       "  <tbody>\n",
       "    <tr>\n",
       "      <th>0</th>\n",
       "      <td>2</td>\n",
       "      <td>1.000000</td>\n",
       "      <td>0.997946</td>\n",
       "      <td>-0.114243</td>\n",
       "      <td>-0.992967</td>\n",
       "      <td>0.031071</td>\n",
       "      <td>-0.269797</td>\n",
       "      <td>0.962917</td>\n",
       "      <td>0.540641</td>\n",
       "      <td>0.841254</td>\n",
       "      <td>-8.660254e-01</td>\n",
       "      <td>0.5</td>\n",
       "      <td>0.507666</td>\n",
       "      <td>0.861554</td>\n",
       "      <td>10</td>\n",
       "    </tr>\n",
       "    <tr>\n",
       "      <th>1</th>\n",
       "      <td>3</td>\n",
       "      <td>0.181818</td>\n",
       "      <td>0.180968</td>\n",
       "      <td>-0.017943</td>\n",
       "      <td>-0.993626</td>\n",
       "      <td>0.111291</td>\n",
       "      <td>-0.631088</td>\n",
       "      <td>-0.775711</td>\n",
       "      <td>0.989821</td>\n",
       "      <td>-0.142315</td>\n",
       "      <td>8.660254e-01</td>\n",
       "      <td>-0.5</td>\n",
       "      <td>0.211383</td>\n",
       "      <td>0.977403</td>\n",
       "      <td>16</td>\n",
       "    </tr>\n",
       "    <tr>\n",
       "      <th>2</th>\n",
       "      <td>0</td>\n",
       "      <td>0.454545</td>\n",
       "      <td>0.460749</td>\n",
       "      <td>-0.013314</td>\n",
       "      <td>-0.998910</td>\n",
       "      <td>-0.044733</td>\n",
       "      <td>0.942261</td>\n",
       "      <td>-0.334880</td>\n",
       "      <td>-0.755750</td>\n",
       "      <td>-0.654861</td>\n",
       "      <td>1.224647e-16</td>\n",
       "      <td>-1.0</td>\n",
       "      <td>0.314077</td>\n",
       "      <td>0.949398</td>\n",
       "      <td>7</td>\n",
       "    </tr>\n",
       "    <tr>\n",
       "      <th>3</th>\n",
       "      <td>2</td>\n",
       "      <td>0.454545</td>\n",
       "      <td>0.483113</td>\n",
       "      <td>-0.116816</td>\n",
       "      <td>-0.992079</td>\n",
       "      <td>0.046187</td>\n",
       "      <td>-0.997669</td>\n",
       "      <td>-0.068242</td>\n",
       "      <td>-0.540641</td>\n",
       "      <td>0.841254</td>\n",
       "      <td>1.224647e-16</td>\n",
       "      <td>-1.0</td>\n",
       "      <td>0.314077</td>\n",
       "      <td>0.949398</td>\n",
       "      <td>8</td>\n",
       "    </tr>\n",
       "    <tr>\n",
       "      <th>4</th>\n",
       "      <td>4</td>\n",
       "      <td>0.000000</td>\n",
       "      <td>0.007987</td>\n",
       "      <td>-0.388155</td>\n",
       "      <td>-0.863137</td>\n",
       "      <td>0.323002</td>\n",
       "      <td>-0.979084</td>\n",
       "      <td>0.203456</td>\n",
       "      <td>0.909632</td>\n",
       "      <td>0.415415</td>\n",
       "      <td>0.000000e+00</td>\n",
       "      <td>1.0</td>\n",
       "      <td>0.000000</td>\n",
       "      <td>1.000000</td>\n",
       "      <td>26</td>\n",
       "    </tr>\n",
       "  </tbody>\n",
       "</table>\n",
       "</div>"
      ],
      "text/plain": [
       "   BORO_NM      Year    n_days      LL_X      LL_Y      LL_Z    Hour_X  \\\n",
       "0        2  1.000000  0.997946 -0.114243 -0.992967  0.031071 -0.269797   \n",
       "1        3  0.181818  0.180968 -0.017943 -0.993626  0.111291 -0.631088   \n",
       "2        0  0.454545  0.460749 -0.013314 -0.998910 -0.044733  0.942261   \n",
       "3        2  0.454545  0.483113 -0.116816 -0.992079  0.046187 -0.997669   \n",
       "4        4  0.000000  0.007987 -0.388155 -0.863137  0.323002 -0.979084   \n",
       "\n",
       "     Hour_Y   Month_X   Month_Y     Weekday_X  Weekday_Y  Minute_X  Minute_Y  \\\n",
       "0  0.962917  0.540641  0.841254 -8.660254e-01        0.5  0.507666  0.861554   \n",
       "1 -0.775711  0.989821 -0.142315  8.660254e-01       -0.5  0.211383  0.977403   \n",
       "2 -0.334880 -0.755750 -0.654861  1.224647e-16       -1.0  0.314077  0.949398   \n",
       "3 -0.068242 -0.540641  0.841254  1.224647e-16       -1.0  0.314077  0.949398   \n",
       "4  0.203456  0.909632  0.415415  0.000000e+00        1.0  0.000000  1.000000   \n",
       "\n",
       "   crime  \n",
       "0     10  \n",
       "1     16  \n",
       "2      7  \n",
       "3      8  \n",
       "4     26  "
      ]
     },
     "execution_count": 48,
     "metadata": {},
     "output_type": "execute_result"
    }
   ],
   "source": [
    "features.head()"
   ]
  },
  {
   "cell_type": "code",
   "execution_count": 49,
   "metadata": {
    "colab": {
     "base_uri": "https://localhost:8080/",
     "height": 50
    },
    "colab_type": "code",
    "executionInfo": {
     "elapsed": 480460,
     "status": "ok",
     "timestamp": 1559151863750,
     "user": {
      "displayName": "Djordje",
      "photoUrl": "https://lh4.googleusercontent.com/-Qp4HD2lnvpw/AAAAAAAAAAI/AAAAAAAAAsc/rQVbrmh36g4/s64/photo.jpg",
      "userId": "02440317835448491099"
     },
     "user_tz": -120
    },
    "id": "RvMh9FU5rG0O",
    "outputId": "417fade5-e0f2-421a-ff3f-68b412321743",
    "scrolled": true
   },
   "outputs": [
    {
     "name": "stdout",
     "output_type": "stream",
     "text": [
      "Done Outputing data_clean.csv\n"
     ]
    }
   ],
   "source": [
    "features.to_csv('data_features.csv',index=False)\n",
    "print('Done Outputing data_clean.csv')"
   ]
  }
 ],
 "metadata": {
  "colab": {
   "collapsed_sections": [],
   "name": "Preprocessing.ipynb",
   "provenance": [],
   "version": "0.3.2"
  },
  "kernelspec": {
   "display_name": "Python 3",
   "language": "python",
   "name": "python3"
  },
  "language_info": {
   "codemirror_mode": {
    "name": "ipython",
    "version": 3
   },
   "file_extension": ".py",
   "mimetype": "text/x-python",
   "name": "python",
   "nbconvert_exporter": "python",
   "pygments_lexer": "ipython3",
   "version": "3.7.3"
  }
 },
 "nbformat": 4,
 "nbformat_minor": 1
}
