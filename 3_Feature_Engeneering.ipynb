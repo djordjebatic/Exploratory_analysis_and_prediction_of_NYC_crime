{
 "cells": [
  {
   "cell_type": "code",
   "execution_count": 43,
   "metadata": {
    "scrolled": true
   },
   "outputs": [
    {
     "name": "stdout",
     "output_type": "stream",
     "text": [
      "Dataset Shape:  (999975, 9)\n"
     ]
    },
    {
     "data": {
      "text/html": [
       "<div>\n",
       "<style scoped>\n",
       "    .dataframe tbody tr th:only-of-type {\n",
       "        vertical-align: middle;\n",
       "    }\n",
       "\n",
       "    .dataframe tbody tr th {\n",
       "        vertical-align: top;\n",
       "    }\n",
       "\n",
       "    .dataframe thead th {\n",
       "        text-align: right;\n",
       "    }\n",
       "</style>\n",
       "<table border=\"1\" class=\"dataframe\">\n",
       "  <thead>\n",
       "    <tr style=\"text-align: right;\">\n",
       "      <th></th>\n",
       "      <th>OFNS_DESC</th>\n",
       "      <th>BORO_NM</th>\n",
       "      <th>X_COORD_CD</th>\n",
       "      <th>Y_COORD_CD</th>\n",
       "      <th>PATROL_BORO</th>\n",
       "      <th>Year</th>\n",
       "      <th>Month</th>\n",
       "      <th>Day</th>\n",
       "      <th>Hour</th>\n",
       "    </tr>\n",
       "  </thead>\n",
       "  <tbody>\n",
       "    <tr>\n",
       "      <th>0</th>\n",
       "      <td>INTOXICATED/IMPAIRED DRIVING</td>\n",
       "      <td>QUEENS</td>\n",
       "      <td>1052307.0</td>\n",
       "      <td>160090.0</td>\n",
       "      <td>PATROL BORO QUEENS SOUTH</td>\n",
       "      <td>2017</td>\n",
       "      <td>12</td>\n",
       "      <td>6</td>\n",
       "      <td>23</td>\n",
       "    </tr>\n",
       "    <tr>\n",
       "      <th>1</th>\n",
       "      <td>HARRASSMENT 2</td>\n",
       "      <td>STATEN ISLAND</td>\n",
       "      <td>935268.0</td>\n",
       "      <td>134865.0</td>\n",
       "      <td>PATROL BORO STATEN ISLAND</td>\n",
       "      <td>2016</td>\n",
       "      <td>3</td>\n",
       "      <td>3</td>\n",
       "      <td>10</td>\n",
       "    </tr>\n",
       "    <tr>\n",
       "      <th>2</th>\n",
       "      <td>GRAND LARCENY</td>\n",
       "      <td>BROOKLYN</td>\n",
       "      <td>999684.0</td>\n",
       "      <td>199470.0</td>\n",
       "      <td>PATROL BORO BKLYN NORTH</td>\n",
       "      <td>2012</td>\n",
       "      <td>12</td>\n",
       "      <td>4</td>\n",
       "      <td>20</td>\n",
       "    </tr>\n",
       "  </tbody>\n",
       "</table>\n",
       "</div>"
      ],
      "text/plain": [
       "                      OFNS_DESC        BORO_NM  X_COORD_CD  Y_COORD_CD  \\\n",
       "0  INTOXICATED/IMPAIRED DRIVING         QUEENS   1052307.0    160090.0   \n",
       "1                 HARRASSMENT 2  STATEN ISLAND    935268.0    134865.0   \n",
       "2                 GRAND LARCENY       BROOKLYN    999684.0    199470.0   \n",
       "\n",
       "                 PATROL_BORO  Year  Month  Day  Hour  \n",
       "0   PATROL BORO QUEENS SOUTH  2017     12    6    23  \n",
       "1  PATROL BORO STATEN ISLAND  2016      3    3    10  \n",
       "2    PATROL BORO BKLYN NORTH  2012     12    4    20  "
      ]
     },
     "execution_count": 43,
     "metadata": {},
     "output_type": "execute_result"
    }
   ],
   "source": [
    "import numpy as np \n",
    "import pandas as pd \n",
    "import matplotlib.pyplot as plt\n",
    "import seaborn as sns\n",
    "%matplotlib inline\n",
    "\n",
    "from sklearn import preprocessing\n",
    "\n",
    "data = pd.read_csv('data_clean.csv',error_bad_lines=False)\n",
    "print('Dataset Shape: ', data.shape)\n",
    "data.head(3)"
   ]
  },
  {
   "cell_type": "code",
   "execution_count": 45,
   "metadata": {
    "scrolled": false
   },
   "outputs": [
    {
     "data": {
      "text/plain": [
       "PETIT LARCENY                           167293\n",
       "HARRASSMENT 2                           124734\n",
       "ASSAULT 3 & RELATED OFFENSES            105873\n",
       "CRIMINAL MISCHIEF & RELATED OF          100949\n",
       "GRAND LARCENY                            85686\n",
       "DANGEROUS DRUGS                          62778\n",
       "OFF. AGNST PUB ORD SENSBLTY &            55585\n",
       "FELONY ASSAULT                           38631\n",
       "ROBBERY                                  36841\n",
       "BURGLARY                                 34971\n",
       "MISCELLANEOUS PENAL LAW                  25581\n",
       "DANGEROUS WEAPONS                        23266\n",
       "THEFT-FRAUD                              22432\n",
       "OFFENSES AGAINST PUBLIC ADMINI           20006\n",
       "LARCENY OF MOTOR VEHICLE                 17624\n",
       "INTOXICATED/IMPAIRED DRIVING             14069\n",
       "VEHICLE AND TRAFFIC LAWS                 12121\n",
       "CRIMINAL TRESPASS                        11883\n",
       "SEX CRIMES                               11380\n",
       "FORGERY                                   9958\n",
       "POSSESSION OF STOLEN PROPERTY             5297\n",
       "UNAUTHORIZED USE OF A VEHICLE             2986\n",
       "RAPE                                      2705\n",
       "ARSON                                     2473\n",
       "ADMINISTRATIVE CODE                       2224\n",
       "NYS LAWS-UNCLASSIFIED FELONY               879\n",
       "GAMBLING                                   424\n",
       "KIDNAPPING & RELATED OFFENSES              396\n",
       "OFFENSES RELATED TO CHILDREN               287\n",
       "ALCOHOLIC BEVERAGE CONTROL LAW             175\n",
       "PROSTITUTION & RELATED OFFENSES            163\n",
       "AGRICULTURE & MRKTS LAW-UNCLASSIFIED        87\n",
       "CHILD ABANDONMENT/NON SUPPORT               70\n",
       "HOMICIDE-NEGLIGENT                          45\n",
       "LOITERING                                   38\n",
       "ESCAPE 3                                    30\n",
       "ANTICIPATORY OFFENSES                       11\n",
       "UNLAWFUL POSS. WEAP. ON SCHOOL              10\n",
       "KIDNAPPING                                   7\n",
       "DISRUPTION OF A RELIGIOUS SERV               6\n",
       "LOITERING FOR DRUG PURPOSES                  1\n",
       "Name: OFNS_DESC, dtype: int64"
      ]
     },
     "execution_count": 45,
     "metadata": {},
     "output_type": "execute_result"
    }
   ],
   "source": [
    "data['OFNS_DESC'].value_counts()"
   ]
  },
  {
   "cell_type": "code",
   "execution_count": 46,
   "metadata": {},
   "outputs": [],
   "source": [
    "data = data[data['OFNS_DESC'] != 'LOITERING FOR DRUG PURPOSES']"
   ]
  },
  {
   "cell_type": "code",
   "execution_count": 47,
   "metadata": {
    "scrolled": false
   },
   "outputs": [],
   "source": [
    "categories = data['OFNS_DESC'].unique()\n",
    "category_dict = {value:index for index,value in enumerate(categories)}\n",
    "y = data['OFNS_DESC'].map(category_dict)"
   ]
  },
  {
   "cell_type": "code",
   "execution_count": 48,
   "metadata": {
    "scrolled": false
   },
   "outputs": [
    {
     "data": {
      "text/plain": [
       "<matplotlib.axes._subplots.AxesSubplot at 0x21e739abb38>"
      ]
     },
     "execution_count": 48,
     "metadata": {},
     "output_type": "execute_result"
    },
    {
     "data": {
      "image/png": "[encoded data removed]",
      "text/plain": [
       "<Figure size 864x576 with 1 Axes>"
      ]
     },
     "metadata": {
      "needs_background": "light"
     },
     "output_type": "display_data"
    }
   ],
   "source": [
    "plt.figure(figsize=(12,8))\n",
    "sns.set_color_codes()\n",
    "sns.distplot(y,bins=20,kde=True,color='r')"
   ]
  },
  {
   "cell_type": "code",
   "execution_count": 49,
   "metadata": {
    "scrolled": true
   },
   "outputs": [
    {
     "name": "stdout",
     "output_type": "stream",
     "text": [
      "[20 18 17 ... 17  8 20]\n"
     ]
    }
   ],
   "source": [
    "category = preprocessing.LabelEncoder()\n",
    "category_crime = category.fit_transform(data.OFNS_DESC)\n",
    "print(category_crime)"
   ]
  },
  {
   "cell_type": "code",
   "execution_count": 50,
   "metadata": {},
   "outputs": [
    {
     "data": {
      "text/plain": [
       "array(['INTOXICATED/IMPAIRED DRIVING', 'HARRASSMENT 2', 'GRAND LARCENY',\n",
       "       ..., 'GRAND LARCENY', 'CRIMINAL MISCHIEF & RELATED OF',\n",
       "       'INTOXICATED/IMPAIRED DRIVING'], dtype=object)"
      ]
     },
     "execution_count": 50,
     "metadata": {},
     "output_type": "execute_result"
    }
   ],
   "source": [
    "category.inverse_transform(category_crime)"
   ]
  },
  {
   "cell_type": "code",
   "execution_count": 51,
   "metadata": {
    "scrolled": false
   },
   "outputs": [
    {
     "data": {
      "text/plain": [
       "array(['ADMINISTRATIVE CODE', 'AGRICULTURE & MRKTS LAW-UNCLASSIFIED',\n",
       "       'ALCOHOLIC BEVERAGE CONTROL LAW', 'ANTICIPATORY OFFENSES', 'ARSON',\n",
       "       'ASSAULT 3 & RELATED OFFENSES', 'BURGLARY',\n",
       "       'CHILD ABANDONMENT/NON SUPPORT', 'CRIMINAL MISCHIEF & RELATED OF',\n",
       "       'CRIMINAL TRESPASS', 'DANGEROUS DRUGS', 'DANGEROUS WEAPONS',\n",
       "       'DISRUPTION OF A RELIGIOUS SERV', 'ESCAPE 3', 'FELONY ASSAULT',\n",
       "       'FORGERY', 'GAMBLING', 'GRAND LARCENY', 'HARRASSMENT 2',\n",
       "       'HOMICIDE-NEGLIGENT', 'INTOXICATED/IMPAIRED DRIVING', 'KIDNAPPING',\n",
       "       'KIDNAPPING & RELATED OFFENSES', 'LARCENY OF MOTOR VEHICLE',\n",
       "       'LOITERING', 'MISCELLANEOUS PENAL LAW',\n",
       "       'NYS LAWS-UNCLASSIFIED FELONY', 'OFF. AGNST PUB ORD SENSBLTY &',\n",
       "       'OFFENSES AGAINST PUBLIC ADMINI', 'OFFENSES RELATED TO CHILDREN',\n",
       "       'PETIT LARCENY', 'POSSESSION OF STOLEN PROPERTY',\n",
       "       'PROSTITUTION & RELATED OFFENSES', 'RAPE', 'ROBBERY', 'SEX CRIMES',\n",
       "       'THEFT-FRAUD', 'UNAUTHORIZED USE OF A VEHICLE',\n",
       "       'UNLAWFUL POSS. WEAP. ON SCHOOL', 'VEHICLE AND TRAFFIC LAWS'],\n",
       "      dtype=object)"
      ]
     },
     "execution_count": 51,
     "metadata": {},
     "output_type": "execute_result"
    }
   ],
   "source": [
    "category.classes_"
   ]
  },
  {
   "cell_type": "code",
   "execution_count": 52,
   "metadata": {},
   "outputs": [],
   "source": [
    "#feature normalization\n",
    "def normalize(data): \n",
    "    data = (data - data.min()) / (data.max() - data.min())\n",
    "    return data\n",
    "\n",
    "data['X_COORD_CD'] = normalize(data.X_COORD_CD)\n",
    "data['Y_COORD_CD'] = normalize(data.Y_COORD_CD)"
   ]
  },
  {
   "cell_type": "code",
   "execution_count": 53,
   "metadata": {},
   "outputs": [],
   "source": [
    "#getting season : summer, fall, winter, spring from months column\n",
    "def get_season(x):\n",
    "    summer=0\n",
    "    fall=0\n",
    "    winter=0\n",
    "    spring=0\n",
    "    if (x in [5, 6, 7]):\n",
    "        summer=1\n",
    "    if (x in [8, 9, 10]):\n",
    "        fall=1\n",
    "    if (x in [11, 0, 1]):\n",
    "        winter=1\n",
    "    if (x in [2, 3, 4]):\n",
    "        spring=1\n",
    "    return summer, fall, winter, spring"
   ]
  },
  {
   "cell_type": "code",
   "execution_count": 54,
   "metadata": {},
   "outputs": [],
   "source": [
    "def prepare_data(df):\n",
    "    \"\"\"\n",
    "    Preprocessing Training/Testing Data \n",
    "    \"\"\"\n",
    "    feature_list=df.columns.tolist()  \n",
    "    cleanData=df[feature_list]\n",
    "    cleanData.index=range(len(df))\n",
    "        \n",
    "    print (\"Creating season features...\")\n",
    "    cleanData[\"Summer\"], cleanData[\"Fall\"], cleanData[\"Winter\"], cleanData[\"Spring\"]=zip(*cleanData[\"Month\"].apply(get_season))\n",
    "    \n",
    "    print(\"Creating X/Y feature...\")\n",
    "    xy_scaler = preprocessing.StandardScaler()\n",
    "    xy_scaler.fit(cleanData[[\"X_COORD_CD\",\"Y_COORD_CD\"]])\n",
    "    cleanData[[\"X_COORD_CD\",\"Y_COORD_CD\"]] = xy_scaler.transform(cleanData[[\"X_COORD_CD\",\"Y_COORD_CD\"]])\n",
    "    #set outliers to 0\n",
    "    cleanData[\"X_COORD_CD\"]=cleanData[\"Y_COORD_CD\"].apply(lambda x: 0 if abs(x)>5 else x)\n",
    "    cleanData[\"X_COORD_CD\"]=cleanData[\"Y_COORD_CD\"].apply(lambda y: 0 if abs(y)>5 else y)  \n",
    "    \n",
    "    print (\"Creating dummy variables...\")\n",
    "    #ADDR = pd.get_dummies(cleanData['PREM_TYP_DESC'],prefix='ADDR')\n",
    "    PD = pd.get_dummies(cleanData['PATROL_BORO'], prefix='PD')\n",
    "    Boro = pd.get_dummies(cleanData['BORO_NM'], prefix='BORO')\n",
    "    Hour = pd.get_dummies(cleanData['Hour'],prefix='HOUR')\n",
    "    Day = pd.get_dummies(cleanData['Day'],prefix='DAY')\n",
    "    Month = pd.get_dummies(cleanData['Month'],prefix='MONTH')\n",
    "    Year = pd.get_dummies(cleanData['Year'],prefix='YEAR')\n",
    "    #VicRace = pd.get_dummies(cleanData['SUSP_RACE'],prefix='SUSP_RACE')\n",
    "    #VicSex = pd.get_dummies(cleanData['SUSP_SEX'],prefix='SUSP_SEX')\n",
    "    #PREM_TYP_DESC = pd.get_dummies(cleanData['PREM_TYP_DESC'],prefix='PREM_TYP_DESC')\n",
    "\n",
    "\n",
    "    \n",
    "    feature_list=cleanData.columns.tolist()\n",
    "    \n",
    "    print (\"Joining features...\")\n",
    "    features = pd.concat([cleanData[feature_list],PD, Boro, Hour,Day,Month,Year],axis=1)\n",
    "    \n",
    "    print (\"Droping processed columns...\")\n",
    "    cleanFeatures=features.drop([\"OFNS_DESC\",\"BORO_NM\", \"PATROL_BORO\", \"Hour\",\"Day\",\"Month\",\"Year\",\"Month\"],\\\n",
    "                                axis=1,inplace=False)\n",
    "    \n",
    "    print('Done!')\n",
    "    \n",
    "    return cleanFeatures"
   ]
  },
  {
   "cell_type": "code",
   "execution_count": 55,
   "metadata": {
    "scrolled": false
   },
   "outputs": [
    {
     "name": "stdout",
     "output_type": "stream",
     "text": [
      "Creating season features...\n",
      "Creating X/Y feature...\n",
      "Creating dummy variables...\n",
      "Joining features...\n",
      "Droping processed columns...\n",
      "Done!\n"
     ]
    }
   ],
   "source": [
    "features = prepare_data(data)\n",
    "features['crime'] = category_crime"
   ]
  },
  {
   "cell_type": "code",
   "execution_count": 56,
   "metadata": {
    "scrolled": false
   },
   "outputs": [
    {
     "data": {
      "text/html": [
       "<div>\n",
       "<style scoped>\n",
       "    .dataframe tbody tr th:only-of-type {\n",
       "        vertical-align: middle;\n",
       "    }\n",
       "\n",
       "    .dataframe tbody tr th {\n",
       "        vertical-align: top;\n",
       "    }\n",
       "\n",
       "    .dataframe thead th {\n",
       "        text-align: right;\n",
       "    }\n",
       "</style>\n",
       "<table border=\"1\" class=\"dataframe\">\n",
       "  <thead>\n",
       "    <tr style=\"text-align: right;\">\n",
       "      <th></th>\n",
       "      <th>X_COORD_CD</th>\n",
       "      <th>Y_COORD_CD</th>\n",
       "      <th>Summer</th>\n",
       "      <th>Fall</th>\n",
       "      <th>Winter</th>\n",
       "      <th>Spring</th>\n",
       "      <th>PD_PATROL BORO BKLYN NORTH</th>\n",
       "      <th>PD_PATROL BORO BKLYN SOUTH</th>\n",
       "      <th>PD_PATROL BORO BRONX</th>\n",
       "      <th>PD_PATROL BORO MAN NORTH</th>\n",
       "      <th>...</th>\n",
       "      <th>YEAR_2010</th>\n",
       "      <th>YEAR_2011</th>\n",
       "      <th>YEAR_2012</th>\n",
       "      <th>YEAR_2013</th>\n",
       "      <th>YEAR_2014</th>\n",
       "      <th>YEAR_2015</th>\n",
       "      <th>YEAR_2016</th>\n",
       "      <th>YEAR_2017</th>\n",
       "      <th>YEAR_2018</th>\n",
       "      <th>crime</th>\n",
       "    </tr>\n",
       "  </thead>\n",
       "  <tbody>\n",
       "    <tr>\n",
       "      <th>0</th>\n",
       "      <td>-1.427437</td>\n",
       "      <td>-1.427437</td>\n",
       "      <td>0</td>\n",
       "      <td>0</td>\n",
       "      <td>0</td>\n",
       "      <td>0</td>\n",
       "      <td>0</td>\n",
       "      <td>0</td>\n",
       "      <td>0</td>\n",
       "      <td>0</td>\n",
       "      <td>...</td>\n",
       "      <td>0</td>\n",
       "      <td>0</td>\n",
       "      <td>0</td>\n",
       "      <td>0</td>\n",
       "      <td>0</td>\n",
       "      <td>0</td>\n",
       "      <td>0</td>\n",
       "      <td>1</td>\n",
       "      <td>0</td>\n",
       "      <td>20</td>\n",
       "    </tr>\n",
       "    <tr>\n",
       "      <th>1</th>\n",
       "      <td>-2.194504</td>\n",
       "      <td>-2.194504</td>\n",
       "      <td>0</td>\n",
       "      <td>0</td>\n",
       "      <td>0</td>\n",
       "      <td>1</td>\n",
       "      <td>0</td>\n",
       "      <td>0</td>\n",
       "      <td>0</td>\n",
       "      <td>0</td>\n",
       "      <td>...</td>\n",
       "      <td>0</td>\n",
       "      <td>0</td>\n",
       "      <td>0</td>\n",
       "      <td>0</td>\n",
       "      <td>0</td>\n",
       "      <td>0</td>\n",
       "      <td>1</td>\n",
       "      <td>0</td>\n",
       "      <td>0</td>\n",
       "      <td>18</td>\n",
       "    </tr>\n",
       "    <tr>\n",
       "      <th>2</th>\n",
       "      <td>-0.229931</td>\n",
       "      <td>-0.229931</td>\n",
       "      <td>0</td>\n",
       "      <td>0</td>\n",
       "      <td>0</td>\n",
       "      <td>0</td>\n",
       "      <td>1</td>\n",
       "      <td>0</td>\n",
       "      <td>0</td>\n",
       "      <td>0</td>\n",
       "      <td>...</td>\n",
       "      <td>0</td>\n",
       "      <td>0</td>\n",
       "      <td>1</td>\n",
       "      <td>0</td>\n",
       "      <td>0</td>\n",
       "      <td>0</td>\n",
       "      <td>0</td>\n",
       "      <td>0</td>\n",
       "      <td>0</td>\n",
       "      <td>17</td>\n",
       "    </tr>\n",
       "    <tr>\n",
       "      <th>3</th>\n",
       "      <td>0.604401</td>\n",
       "      <td>0.604401</td>\n",
       "      <td>0</td>\n",
       "      <td>0</td>\n",
       "      <td>0</td>\n",
       "      <td>1</td>\n",
       "      <td>0</td>\n",
       "      <td>0</td>\n",
       "      <td>0</td>\n",
       "      <td>1</td>\n",
       "      <td>...</td>\n",
       "      <td>0</td>\n",
       "      <td>1</td>\n",
       "      <td>0</td>\n",
       "      <td>0</td>\n",
       "      <td>0</td>\n",
       "      <td>0</td>\n",
       "      <td>0</td>\n",
       "      <td>0</td>\n",
       "      <td>0</td>\n",
       "      <td>10</td>\n",
       "    </tr>\n",
       "    <tr>\n",
       "      <th>4</th>\n",
       "      <td>0.730476</td>\n",
       "      <td>0.730476</td>\n",
       "      <td>0</td>\n",
       "      <td>0</td>\n",
       "      <td>1</td>\n",
       "      <td>0</td>\n",
       "      <td>0</td>\n",
       "      <td>0</td>\n",
       "      <td>0</td>\n",
       "      <td>1</td>\n",
       "      <td>...</td>\n",
       "      <td>0</td>\n",
       "      <td>0</td>\n",
       "      <td>0</td>\n",
       "      <td>0</td>\n",
       "      <td>0</td>\n",
       "      <td>0</td>\n",
       "      <td>0</td>\n",
       "      <td>0</td>\n",
       "      <td>1</td>\n",
       "      <td>5</td>\n",
       "    </tr>\n",
       "  </tbody>\n",
       "</table>\n",
       "<p>5 rows × 75 columns</p>\n",
       "</div>"
      ],
      "text/plain": [
       "   X_COORD_CD  Y_COORD_CD  Summer  Fall  Winter  Spring  \\\n",
       "0   -1.427437   -1.427437       0     0       0       0   \n",
       "1   -2.194504   -2.194504       0     0       0       1   \n",
       "2   -0.229931   -0.229931       0     0       0       0   \n",
       "3    0.604401    0.604401       0     0       0       1   \n",
       "4    0.730476    0.730476       0     0       1       0   \n",
       "\n",
       "   PD_PATROL BORO BKLYN NORTH  PD_PATROL BORO BKLYN SOUTH  \\\n",
       "0                           0                           0   \n",
       "1                           0                           0   \n",
       "2                           1                           0   \n",
       "3                           0                           0   \n",
       "4                           0                           0   \n",
       "\n",
       "   PD_PATROL BORO BRONX  PD_PATROL BORO MAN NORTH  ...  YEAR_2010  YEAR_2011  \\\n",
       "0                     0                         0  ...          0          0   \n",
       "1                     0                         0  ...          0          0   \n",
       "2                     0                         0  ...          0          0   \n",
       "3                     0                         1  ...          0          1   \n",
       "4                     0                         1  ...          0          0   \n",
       "\n",
       "   YEAR_2012  YEAR_2013  YEAR_2014  YEAR_2015  YEAR_2016  YEAR_2017  \\\n",
       "0          0          0          0          0          0          1   \n",
       "1          0          0          0          0          1          0   \n",
       "2          1          0          0          0          0          0   \n",
       "3          0          0          0          0          0          0   \n",
       "4          0          0          0          0          0          0   \n",
       "\n",
       "   YEAR_2018  crime  \n",
       "0          0     20  \n",
       "1          0     18  \n",
       "2          0     17  \n",
       "3          0     10  \n",
       "4          1      5  \n",
       "\n",
       "[5 rows x 75 columns]"
      ]
     },
     "execution_count": 56,
     "metadata": {},
     "output_type": "execute_result"
    }
   ],
   "source": [
    "features.head()"
   ]
  },
  {
   "cell_type": "code",
   "execution_count": 57,
   "metadata": {
    "scrolled": false
   },
   "outputs": [
    {
     "data": {
      "text/plain": [
       "['X_COORD_CD',\n",
       " 'Y_COORD_CD',\n",
       " 'Summer',\n",
       " 'Fall',\n",
       " 'Winter',\n",
       " 'Spring',\n",
       " 'PD_PATROL BORO BKLYN NORTH',\n",
       " 'PD_PATROL BORO BKLYN SOUTH',\n",
       " 'PD_PATROL BORO BRONX',\n",
       " 'PD_PATROL BORO MAN NORTH',\n",
       " 'PD_PATROL BORO MAN SOUTH',\n",
       " 'PD_PATROL BORO QUEENS NORTH',\n",
       " 'PD_PATROL BORO QUEENS SOUTH',\n",
       " 'PD_PATROL BORO STATEN ISLAND',\n",
       " 'BORO_BRONX',\n",
       " 'BORO_BROOKLYN',\n",
       " 'BORO_MANHATTAN',\n",
       " 'BORO_QUEENS',\n",
       " 'BORO_STATEN ISLAND',\n",
       " 'HOUR_0',\n",
       " 'HOUR_1',\n",
       " 'HOUR_2',\n",
       " 'HOUR_3',\n",
       " 'HOUR_4',\n",
       " 'HOUR_5',\n",
       " 'HOUR_6',\n",
       " 'HOUR_7',\n",
       " 'HOUR_8',\n",
       " 'HOUR_9',\n",
       " 'HOUR_10',\n",
       " 'HOUR_11',\n",
       " 'HOUR_12',\n",
       " 'HOUR_13',\n",
       " 'HOUR_14',\n",
       " 'HOUR_15',\n",
       " 'HOUR_16',\n",
       " 'HOUR_17',\n",
       " 'HOUR_18',\n",
       " 'HOUR_19',\n",
       " 'HOUR_20',\n",
       " 'HOUR_21',\n",
       " 'HOUR_22',\n",
       " 'HOUR_23',\n",
       " 'DAY_1',\n",
       " 'DAY_2',\n",
       " 'DAY_3',\n",
       " 'DAY_4',\n",
       " 'DAY_5',\n",
       " 'DAY_6',\n",
       " 'DAY_7',\n",
       " 'MONTH_1',\n",
       " 'MONTH_2',\n",
       " 'MONTH_3',\n",
       " 'MONTH_4',\n",
       " 'MONTH_5',\n",
       " 'MONTH_6',\n",
       " 'MONTH_7',\n",
       " 'MONTH_8',\n",
       " 'MONTH_9',\n",
       " 'MONTH_10',\n",
       " 'MONTH_11',\n",
       " 'MONTH_12',\n",
       " 'YEAR_2007',\n",
       " 'YEAR_2008',\n",
       " 'YEAR_2009',\n",
       " 'YEAR_2010',\n",
       " 'YEAR_2011',\n",
       " 'YEAR_2012',\n",
       " 'YEAR_2013',\n",
       " 'YEAR_2014',\n",
       " 'YEAR_2015',\n",
       " 'YEAR_2016',\n",
       " 'YEAR_2017',\n",
       " 'YEAR_2018',\n",
       " 'crime']"
      ]
     },
     "execution_count": 57,
     "metadata": {},
     "output_type": "execute_result"
    }
   ],
   "source": [
    "collist=features.columns.tolist()\n",
    "collist"
   ]
  },
  {
   "cell_type": "code",
   "execution_count": 58,
   "metadata": {},
   "outputs": [
    {
     "name": "stdout",
     "output_type": "stream",
     "text": [
      "Done Outputing data_feature.csv\n"
     ]
    }
   ],
   "source": [
    "features.to_csv('data_feature.csv',index=False)\n",
    "print('Done Outputing data_feature.csv')"
   ]
  }
 ],
 "metadata": {
  "kernelspec": {
   "display_name": "Python 3",
   "language": "python",
   "name": "python3"
  },
  "language_info": {
   "codemirror_mode": {
    "name": "ipython",
    "version": 3
   },
   "file_extension": ".py",
   "mimetype": "text/x-python",
   "name": "python",
   "nbconvert_exporter": "python",
   "pygments_lexer": "ipython3",
   "version": "3.7.3"
  }
 },
 "nbformat": 4,
 "nbformat_minor": 2
}
