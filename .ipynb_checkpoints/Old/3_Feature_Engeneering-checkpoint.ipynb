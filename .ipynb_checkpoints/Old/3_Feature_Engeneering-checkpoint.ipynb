{
 "cells": [
  {
   "cell_type": "code",
   "execution_count": 1,
   "metadata": {
    "scrolled": true
   },
   "outputs": [
    {
     "name": "stdout",
     "output_type": "stream",
     "text": [
      "Dataset Shape:  (900017, 13)\n"
     ]
    },
    {
     "data": {
      "text/html": [
       "<div>\n",
       "<style scoped>\n",
       "    .dataframe tbody tr th:only-of-type {\n",
       "        vertical-align: middle;\n",
       "    }\n",
       "\n",
       "    .dataframe tbody tr th {\n",
       "        vertical-align: top;\n",
       "    }\n",
       "\n",
       "    .dataframe thead th {\n",
       "        text-align: right;\n",
       "    }\n",
       "</style>\n",
       "<table border=\"1\" class=\"dataframe\">\n",
       "  <thead>\n",
       "    <tr style=\"text-align: right;\">\n",
       "      <th></th>\n",
       "      <th>OFNS_DESC</th>\n",
       "      <th>BORO_NM</th>\n",
       "      <th>X_COORD_CD</th>\n",
       "      <th>Y_COORD_CD</th>\n",
       "      <th>Latitude</th>\n",
       "      <th>Longitude</th>\n",
       "      <th>PATROL_BORO</th>\n",
       "      <th>TimeStamp</th>\n",
       "      <th>Year</th>\n",
       "      <th>Month</th>\n",
       "      <th>Day</th>\n",
       "      <th>Weekday</th>\n",
       "      <th>Hour</th>\n",
       "    </tr>\n",
       "  </thead>\n",
       "  <tbody>\n",
       "    <tr>\n",
       "      <th>0</th>\n",
       "      <td>OFFENSES AGAINST PUBLIC ADMINI</td>\n",
       "      <td>QUEENS</td>\n",
       "      <td>1021405.0</td>\n",
       "      <td>191684.0</td>\n",
       "      <td>40.692735</td>\n",
       "      <td>-73.866018</td>\n",
       "      <td>PATROL BORO QUEENS SOUTH</td>\n",
       "      <td>2011-05-29 23:35:00</td>\n",
       "      <td>2011</td>\n",
       "      <td>5</td>\n",
       "      <td>29</td>\n",
       "      <td>7</td>\n",
       "      <td>23</td>\n",
       "    </tr>\n",
       "    <tr>\n",
       "      <th>1</th>\n",
       "      <td>PETIT LARCENY</td>\n",
       "      <td>STATEN ISLAND</td>\n",
       "      <td>938676.0</td>\n",
       "      <td>153149.0</td>\n",
       "      <td>40.586926</td>\n",
       "      <td>-74.164084</td>\n",
       "      <td>PATROL BORO STATEN ISLAND</td>\n",
       "      <td>2014-05-22 17:25:00</td>\n",
       "      <td>2014</td>\n",
       "      <td>5</td>\n",
       "      <td>22</td>\n",
       "      <td>4</td>\n",
       "      <td>17</td>\n",
       "    </tr>\n",
       "    <tr>\n",
       "      <th>2</th>\n",
       "      <td>PETIT LARCENY</td>\n",
       "      <td>BROOKLYN</td>\n",
       "      <td>999471.0</td>\n",
       "      <td>187078.0</td>\n",
       "      <td>40.680158</td>\n",
       "      <td>-73.945124</td>\n",
       "      <td>PATROL BORO BKLYN NORTH</td>\n",
       "      <td>2007-11-13 07:55:00</td>\n",
       "      <td>2007</td>\n",
       "      <td>11</td>\n",
       "      <td>13</td>\n",
       "      <td>2</td>\n",
       "      <td>7</td>\n",
       "    </tr>\n",
       "  </tbody>\n",
       "</table>\n",
       "</div>"
      ],
      "text/plain": [
       "                        OFNS_DESC        BORO_NM  X_COORD_CD  Y_COORD_CD  \\\n",
       "0  OFFENSES AGAINST PUBLIC ADMINI         QUEENS   1021405.0    191684.0   \n",
       "1                   PETIT LARCENY  STATEN ISLAND    938676.0    153149.0   \n",
       "2                   PETIT LARCENY       BROOKLYN    999471.0    187078.0   \n",
       "\n",
       "    Latitude  Longitude                PATROL_BORO            TimeStamp  Year  \\\n",
       "0  40.692735 -73.866018   PATROL BORO QUEENS SOUTH  2011-05-29 23:35:00  2011   \n",
       "1  40.586926 -74.164084  PATROL BORO STATEN ISLAND  2014-05-22 17:25:00  2014   \n",
       "2  40.680158 -73.945124    PATROL BORO BKLYN NORTH  2007-11-13 07:55:00  2007   \n",
       "\n",
       "   Month  Day  Weekday  Hour  \n",
       "0      5   29        7    23  \n",
       "1      5   22        4    17  \n",
       "2     11   13        2     7  "
      ]
     },
     "execution_count": 1,
     "metadata": {},
     "output_type": "execute_result"
    }
   ],
   "source": [
    "import numpy as np \n",
    "import pandas as pd \n",
    "import matplotlib.pyplot as plt\n",
    "import seaborn as sns\n",
    "%matplotlib inline\n",
    "from sklearn import preprocessing\n",
    "\n",
    "data = pd.read_csv('data_clean.csv',error_bad_lines=False)\n",
    "print('Dataset Shape: ', data.shape)\n",
    "data.head(3)"
   ]
  },
  {
   "cell_type": "code",
   "execution_count": 2,
   "metadata": {
    "scrolled": false
   },
   "outputs": [
    {
     "data": {
      "text/plain": [
       "PETIT LARCENY                           150917\n",
       "HARRASSMENT 2                           111966\n",
       "ASSAULT 3 & RELATED OFFENSES             95082\n",
       "CRIMINAL MISCHIEF & RELATED OF           90425\n",
       "GRAND LARCENY                            77293\n",
       "DANGEROUS DRUGS                          56256\n",
       "OFF. AGNST PUB ORD SENSBLTY &            50390\n",
       "FELONY ASSAULT                           34548\n",
       "ROBBERY                                  33105\n",
       "BURGLARY                                 31762\n",
       "MISCELLANEOUS PENAL LAW                  22990\n",
       "DANGEROUS WEAPONS                        21133\n",
       "THEFT-FRAUD                              19988\n",
       "OFFENSES AGAINST PUBLIC ADMINI           18197\n",
       "LARCENY OF MOTOR VEHICLE                 15811\n",
       "INTOXICATED/IMPAIRED DRIVING             12554\n",
       "VEHICLE AND TRAFFIC LAWS                 11187\n",
       "CRIMINAL TRESPASS                        10772\n",
       "SEX CRIMES                               10132\n",
       "FORGERY                                   8985\n",
       "POSSESSION OF STOLEN PROPERTY             4821\n",
       "UNAUTHORIZED USE OF A VEHICLE             2660\n",
       "RAPE                                      2386\n",
       "ARSON                                     2203\n",
       "ADMINISTRATIVE CODE                       2062\n",
       "NYS LAWS-UNCLASSIFIED FELONY               838\n",
       "GAMBLING                                   382\n",
       "KIDNAPPING & RELATED OFFENSES              356\n",
       "OFFENSES RELATED TO CHILDREN               255\n",
       "ALCOHOLIC BEVERAGE CONTROL LAW             163\n",
       "PROSTITUTION & RELATED OFFENSES            131\n",
       "AGRICULTURE & MRKTS LAW-UNCLASSIFIED        74\n",
       "CHILD ABANDONMENT/NON SUPPORT               59\n",
       "LOITERING                                   38\n",
       "ESCAPE 3                                    32\n",
       "HOMICIDE-NEGLIGENT                          28\n",
       "ANTICIPATORY OFFENSES                       13\n",
       "DISRUPTION OF A RELIGIOUS SERV               8\n",
       "UNLAWFUL POSS. WEAP. ON SCHOOL               7\n",
       "KIDNAPPING                                   6\n",
       "LOITERING FOR DRUG PURPOSES                  2\n",
       "Name: OFNS_DESC, dtype: int64"
      ]
     },
     "execution_count": 2,
     "metadata": {},
     "output_type": "execute_result"
    }
   ],
   "source": [
    "data['OFNS_DESC'].value_counts()"
   ]
  },
  {
   "cell_type": "code",
   "execution_count": 3,
   "metadata": {},
   "outputs": [],
   "source": [
    "data = data[data['OFNS_DESC'] != 'LOITERING FOR DRUG PURPOSES']"
   ]
  },
  {
   "cell_type": "code",
   "execution_count": 4,
   "metadata": {
    "scrolled": false
   },
   "outputs": [],
   "source": [
    "categories = data['OFNS_DESC'].unique()\n",
    "category_dict = {value:index for index,value in enumerate(categories)}\n",
    "y = data['OFNS_DESC'].map(category_dict)"
   ]
  },
  {
   "cell_type": "code",
   "execution_count": 5,
   "metadata": {
    "scrolled": false
   },
   "outputs": [
    {
     "data": {
      "text/plain": [
       "<matplotlib.axes._subplots.AxesSubplot at 0x1d1261df748>"
      ]
     },
     "execution_count": 5,
     "metadata": {},
     "output_type": "execute_result"
    },
    {
     "data": {
      "image/png": "[encoded data removed]",
      "text/plain": [
       "<Figure size 864x576 with 1 Axes>"
      ]
     },
     "metadata": {
      "needs_background": "light"
     },
     "output_type": "display_data"
    }
   ],
   "source": [
    "plt.figure(figsize=(12,8))\n",
    "sns.set_color_codes()\n",
    "sns.distplot(y,bins=20,kde=True,color='r')"
   ]
  },
  {
   "cell_type": "code",
   "execution_count": 6,
   "metadata": {
    "scrolled": true
   },
   "outputs": [
    {
     "name": "stdout",
     "output_type": "stream",
     "text": [
      "[28 30 30 ...  5 18 10]\n"
     ]
    }
   ],
   "source": [
    "category = preprocessing.LabelEncoder()\n",
    "category_crime = category.fit_transform(data.OFNS_DESC)\n",
    "print(category_crime)"
   ]
  },
  {
   "cell_type": "code",
   "execution_count": 7,
   "metadata": {},
   "outputs": [
    {
     "data": {
      "text/plain": [
       "array(['OFFENSES AGAINST PUBLIC ADMINI', 'PETIT LARCENY', 'PETIT LARCENY',\n",
       "       ..., 'ASSAULT 3 & RELATED OFFENSES', 'HARRASSMENT 2',\n",
       "       'DANGEROUS DRUGS'], dtype=object)"
      ]
     },
     "execution_count": 7,
     "metadata": {},
     "output_type": "execute_result"
    }
   ],
   "source": [
    "category.inverse_transform(category_crime)"
   ]
  },
  {
   "cell_type": "code",
   "execution_count": 8,
   "metadata": {
    "scrolled": false
   },
   "outputs": [
    {
     "data": {
      "text/plain": [
       "array(['ADMINISTRATIVE CODE', 'AGRICULTURE & MRKTS LAW-UNCLASSIFIED',\n",
       "       'ALCOHOLIC BEVERAGE CONTROL LAW', 'ANTICIPATORY OFFENSES', 'ARSON',\n",
       "       'ASSAULT 3 & RELATED OFFENSES', 'BURGLARY',\n",
       "       'CHILD ABANDONMENT/NON SUPPORT', 'CRIMINAL MISCHIEF & RELATED OF',\n",
       "       'CRIMINAL TRESPASS', 'DANGEROUS DRUGS', 'DANGEROUS WEAPONS',\n",
       "       'DISRUPTION OF A RELIGIOUS SERV', 'ESCAPE 3', 'FELONY ASSAULT',\n",
       "       'FORGERY', 'GAMBLING', 'GRAND LARCENY', 'HARRASSMENT 2',\n",
       "       'HOMICIDE-NEGLIGENT', 'INTOXICATED/IMPAIRED DRIVING', 'KIDNAPPING',\n",
       "       'KIDNAPPING & RELATED OFFENSES', 'LARCENY OF MOTOR VEHICLE',\n",
       "       'LOITERING', 'MISCELLANEOUS PENAL LAW',\n",
       "       'NYS LAWS-UNCLASSIFIED FELONY', 'OFF. AGNST PUB ORD SENSBLTY &',\n",
       "       'OFFENSES AGAINST PUBLIC ADMINI', 'OFFENSES RELATED TO CHILDREN',\n",
       "       'PETIT LARCENY', 'POSSESSION OF STOLEN PROPERTY',\n",
       "       'PROSTITUTION & RELATED OFFENSES', 'RAPE', 'ROBBERY', 'SEX CRIMES',\n",
       "       'THEFT-FRAUD', 'UNAUTHORIZED USE OF A VEHICLE',\n",
       "       'UNLAWFUL POSS. WEAP. ON SCHOOL', 'VEHICLE AND TRAFFIC LAWS'],\n",
       "      dtype=object)"
      ]
     },
     "execution_count": 8,
     "metadata": {},
     "output_type": "execute_result"
    }
   ],
   "source": [
    "category.classes_"
   ]
  },
  {
   "cell_type": "code",
   "execution_count": 9,
   "metadata": {},
   "outputs": [],
   "source": [
    "#feature normalization\n",
    "def normalize(data): \n",
    "    data = (data - data.min()) / (data.max() - data.min())\n",
    "    return data\n",
    "\n",
    "data['X_COORD_CD'] = normalize(data.X_COORD_CD)\n",
    "data['Y_COORD_CD'] = normalize(data.Y_COORD_CD)"
   ]
  },
  {
   "cell_type": "code",
   "execution_count": 10,
   "metadata": {},
   "outputs": [],
   "source": [
    "import math\n",
    "def get_season(x):\n",
    "    summer=0\n",
    "    fall=0\n",
    "    winter=0\n",
    "    spring=0\n",
    "    if (x in [5, 6, 7]):\n",
    "        summer=1\n",
    "    if (x in [8, 9, 10]):\n",
    "        fall=1\n",
    "    if (x in [11, 0, 1]):\n",
    "        winter=1\n",
    "    if (x in [2, 3, 4]):\n",
    "        spring=1\n",
    "    return summer, fall, winter, spring\n",
    "\n",
    "def prepare_data(df):\n",
    "    \"\"\"\n",
    "    Preprocessing Training/Testing Data \n",
    "    \"\"\"\n",
    "    feature_list=df.columns.tolist()  \n",
    "    cleanData=df[feature_list]\n",
    "    cleanData.index=range(len(df))\n",
    "        \n",
    "    print (\"Creating season features...\")\n",
    "    cleanData[\"Summer\"], cleanData[\"Fall\"], cleanData[\"Winter\"], cleanData[\"Spring\"]=zip(*cleanData[\"Month\"].apply(get_season))\n",
    "    \n",
    "    print(\"Creating scaled X/Y feature...\")\n",
    "    xy_scaler = preprocessing.StandardScaler()\n",
    "    xy_scaler.fit(cleanData[[\"X_COORD_CD\",\"Y_COORD_CD\"]])\n",
    "    cleanData[[\"X_COORD_CD\",\"Y_COORD_CD\"]] = xy_scaler.transform(cleanData[[\"X_COORD_CD\",\"Y_COORD_CD\"]])\n",
    "    \n",
    "    print(\"Creating sin-cos Lat/Lon feature...\")\n",
    "    cleanData['XLL'] = np.multiply(np.cos(cleanData['Latitude']), np.cos(cleanData['Longitude']))\n",
    "    cleanData['YLL'] = np.multiply(np.cos(cleanData['Latitude']), np.sin(cleanData['Longitude']))\n",
    "    cleanData['ZLL'] = np.sin(cleanData['Latitude'])\n",
    "    cleanData['XLL'] = normalize(cleanData.XLL)\n",
    "    cleanData['YLL'] = normalize(cleanData.YLL)\n",
    "    cleanData['ZLL'] = normalize(cleanData.ZLL)\n",
    "    ll_scaler = preprocessing.StandardScaler()\n",
    "    ll_scaler.fit(cleanData[[\"XLL\",\"YLL\", \"ZLL\"]])\n",
    "    cleanData[[\"XLL\",\"YLL\", \"ZLL\"]] = ll_scaler.transform(cleanData[[\"XLL\",\"YLL\", \"ZLL\"]])\n",
    "    \n",
    "    print (\"Creating dummy variables...\")\n",
    "    #ADDR = pd.get_dummies(cleanData['PREM_TYP_DESC'],prefix='ADDR')\n",
    "    PD = pd.get_dummies(cleanData['PATROL_BORO'], prefix='PD')\n",
    "    Boro = pd.get_dummies(cleanData['BORO_NM'], prefix='BORO')\n",
    "    Hour = pd.get_dummies(cleanData['Hour'],prefix='HOUR')\n",
    "    Day = pd.get_dummies(cleanData['Day'],prefix='DAY')\n",
    "    Weekday = pd.get_dummies(cleanData['Weekday'],prefix='WEEKDAY')\n",
    "    Month = pd.get_dummies(cleanData['Month'],prefix='MONTH')\n",
    "    Year = pd.get_dummies(cleanData['Year'],prefix='YEAR')\n",
    "    #VicRace = pd.get_dummies(cleanData['SUSP_RACE'],prefix='SUSP_RACE')\n",
    "    #VicSex = pd.get_dummies(cleanData['SUSP_SEX'],prefix='SUSP_SEX')\n",
    "    #PREM_TYP_DESC = pd.get_dummies(cleanData['PREM_TYP_DESC'],prefix='PREM_TYP_DESC')\n",
    "\n",
    "\n",
    "    \n",
    "    feature_list=cleanData.columns.tolist()\n",
    "    \n",
    "    print (\"Joining features...\")\n",
    "    features = pd.concat([cleanData[feature_list],PD, Boro, Year, Month, Day, Weekday, Hour],axis=1)\n",
    "    \n",
    "    print (\"Droping processed columns...\")\n",
    "    cleanFeatures=features.drop([\"OFNS_DESC\",\"BORO_NM\", \"Latitude\", \"Longitude\", \"TimeStamp\", \"PATROL_BORO\", \"Hour\",\"Day\",\"Month\",\"Year\",\"Weekday\"],\\\n",
    "                                axis=1,inplace=False)\n",
    "    \n",
    "    print('Done!')\n",
    "    \n",
    "    return cleanFeatures"
   ]
  },
  {
   "cell_type": "code",
   "execution_count": 11,
   "metadata": {
    "scrolled": false
   },
   "outputs": [
    {
     "name": "stdout",
     "output_type": "stream",
     "text": [
      "Creating season features...\n",
      "Creating scaled X/Y feature...\n",
      "Creating sin-cos Lat/Lon feature...\n",
      "Creating dummy variables...\n",
      "Joining features...\n",
      "Droping processed columns...\n",
      "Done!\n"
     ]
    }
   ],
   "source": [
    "features = prepare_data(data)\n",
    "features['crime'] = category_crime"
   ]
  },
  {
   "cell_type": "code",
   "execution_count": 12,
   "metadata": {
    "scrolled": false
   },
   "outputs": [
    {
     "data": {
      "text/html": [
       "<div>\n",
       "<style scoped>\n",
       "    .dataframe tbody tr th:only-of-type {\n",
       "        vertical-align: middle;\n",
       "    }\n",
       "\n",
       "    .dataframe tbody tr th {\n",
       "        vertical-align: top;\n",
       "    }\n",
       "\n",
       "    .dataframe thead th {\n",
       "        text-align: right;\n",
       "    }\n",
       "</style>\n",
       "<table border=\"1\" class=\"dataframe\">\n",
       "  <thead>\n",
       "    <tr style=\"text-align: right;\">\n",
       "      <th></th>\n",
       "      <th>X_COORD_CD</th>\n",
       "      <th>Y_COORD_CD</th>\n",
       "      <th>Summer</th>\n",
       "      <th>Fall</th>\n",
       "      <th>Winter</th>\n",
       "      <th>Spring</th>\n",
       "      <th>XLL</th>\n",
       "      <th>YLL</th>\n",
       "      <th>ZLL</th>\n",
       "      <th>PD_PATROL BORO BKLYN NORTH</th>\n",
       "      <th>...</th>\n",
       "      <th>HOUR_15</th>\n",
       "      <th>HOUR_16</th>\n",
       "      <th>HOUR_17</th>\n",
       "      <th>HOUR_18</th>\n",
       "      <th>HOUR_19</th>\n",
       "      <th>HOUR_20</th>\n",
       "      <th>HOUR_21</th>\n",
       "      <th>HOUR_22</th>\n",
       "      <th>HOUR_23</th>\n",
       "      <th>crime</th>\n",
       "    </tr>\n",
       "  </thead>\n",
       "  <tbody>\n",
       "    <tr>\n",
       "      <th>0</th>\n",
       "      <td>0.769530</td>\n",
       "      <td>-0.500036</td>\n",
       "      <td>1</td>\n",
       "      <td>0</td>\n",
       "      <td>0</td>\n",
       "      <td>0</td>\n",
       "      <td>0.778162</td>\n",
       "      <td>-0.299267</td>\n",
       "      <td>0.504869</td>\n",
       "      <td>0</td>\n",
       "      <td>...</td>\n",
       "      <td>0</td>\n",
       "      <td>0</td>\n",
       "      <td>0</td>\n",
       "      <td>0</td>\n",
       "      <td>0</td>\n",
       "      <td>0</td>\n",
       "      <td>0</td>\n",
       "      <td>0</td>\n",
       "      <td>1</td>\n",
       "      <td>28</td>\n",
       "    </tr>\n",
       "    <tr>\n",
       "      <th>1</th>\n",
       "      <td>-3.070120</td>\n",
       "      <td>-1.768402</td>\n",
       "      <td>1</td>\n",
       "      <td>0</td>\n",
       "      <td>0</td>\n",
       "      <td>0</td>\n",
       "      <td>-2.967190</td>\n",
       "      <td>4.062054</td>\n",
       "      <td>1.757846</td>\n",
       "      <td>0</td>\n",
       "      <td>...</td>\n",
       "      <td>0</td>\n",
       "      <td>0</td>\n",
       "      <td>1</td>\n",
       "      <td>0</td>\n",
       "      <td>0</td>\n",
       "      <td>0</td>\n",
       "      <td>0</td>\n",
       "      <td>0</td>\n",
       "      <td>0</td>\n",
       "      <td>30</td>\n",
       "    </tr>\n",
       "    <tr>\n",
       "      <th>2</th>\n",
       "      <td>-0.248479</td>\n",
       "      <td>-0.651641</td>\n",
       "      <td>0</td>\n",
       "      <td>0</td>\n",
       "      <td>1</td>\n",
       "      <td>0</td>\n",
       "      <td>-0.256029</td>\n",
       "      <td>0.169271</td>\n",
       "      <td>0.655130</td>\n",
       "      <td>1</td>\n",
       "      <td>...</td>\n",
       "      <td>0</td>\n",
       "      <td>0</td>\n",
       "      <td>0</td>\n",
       "      <td>0</td>\n",
       "      <td>0</td>\n",
       "      <td>0</td>\n",
       "      <td>0</td>\n",
       "      <td>0</td>\n",
       "      <td>0</td>\n",
       "      <td>30</td>\n",
       "    </tr>\n",
       "    <tr>\n",
       "      <th>3</th>\n",
       "      <td>-0.917514</td>\n",
       "      <td>0.030120</td>\n",
       "      <td>0</td>\n",
       "      <td>0</td>\n",
       "      <td>1</td>\n",
       "      <td>0</td>\n",
       "      <td>-0.948073</td>\n",
       "      <td>0.167080</td>\n",
       "      <td>-0.026315</td>\n",
       "      <td>0</td>\n",
       "      <td>...</td>\n",
       "      <td>0</td>\n",
       "      <td>0</td>\n",
       "      <td>0</td>\n",
       "      <td>0</td>\n",
       "      <td>0</td>\n",
       "      <td>0</td>\n",
       "      <td>0</td>\n",
       "      <td>0</td>\n",
       "      <td>0</td>\n",
       "      <td>14</td>\n",
       "    </tr>\n",
       "    <tr>\n",
       "      <th>4</th>\n",
       "      <td>1.090008</td>\n",
       "      <td>1.925279</td>\n",
       "      <td>0</td>\n",
       "      <td>1</td>\n",
       "      <td>0</td>\n",
       "      <td>0</td>\n",
       "      <td>1.110302</td>\n",
       "      <td>-0.889273</td>\n",
       "      <td>-1.933139</td>\n",
       "      <td>0</td>\n",
       "      <td>...</td>\n",
       "      <td>0</td>\n",
       "      <td>0</td>\n",
       "      <td>0</td>\n",
       "      <td>0</td>\n",
       "      <td>0</td>\n",
       "      <td>0</td>\n",
       "      <td>0</td>\n",
       "      <td>0</td>\n",
       "      <td>0</td>\n",
       "      <td>34</td>\n",
       "    </tr>\n",
       "  </tbody>\n",
       "</table>\n",
       "<p>5 rows × 109 columns</p>\n",
       "</div>"
      ],
      "text/plain": [
       "   X_COORD_CD  Y_COORD_CD  Summer  Fall  Winter  Spring       XLL       YLL  \\\n",
       "0    0.769530   -0.500036       1     0       0       0  0.778162 -0.299267   \n",
       "1   -3.070120   -1.768402       1     0       0       0 -2.967190  4.062054   \n",
       "2   -0.248479   -0.651641       0     0       1       0 -0.256029  0.169271   \n",
       "3   -0.917514    0.030120       0     0       1       0 -0.948073  0.167080   \n",
       "4    1.090008    1.925279       0     1       0       0  1.110302 -0.889273   \n",
       "\n",
       "        ZLL  PD_PATROL BORO BKLYN NORTH  ...  HOUR_15  HOUR_16  HOUR_17  \\\n",
       "0  0.504869                           0  ...        0        0        0   \n",
       "1  1.757846                           0  ...        0        0        1   \n",
       "2  0.655130                           1  ...        0        0        0   \n",
       "3 -0.026315                           0  ...        0        0        0   \n",
       "4 -1.933139                           0  ...        0        0        0   \n",
       "\n",
       "   HOUR_18  HOUR_19  HOUR_20  HOUR_21  HOUR_22  HOUR_23  crime  \n",
       "0        0        0        0        0        0        1     28  \n",
       "1        0        0        0        0        0        0     30  \n",
       "2        0        0        0        0        0        0     30  \n",
       "3        0        0        0        0        0        0     14  \n",
       "4        0        0        0        0        0        0     34  \n",
       "\n",
       "[5 rows x 109 columns]"
      ]
     },
     "execution_count": 12,
     "metadata": {},
     "output_type": "execute_result"
    }
   ],
   "source": [
    "features.head()"
   ]
  },
  {
   "cell_type": "code",
   "execution_count": 13,
   "metadata": {
    "scrolled": false
   },
   "outputs": [
    {
     "data": {
      "text/plain": [
       "['X_COORD_CD',\n",
       " 'Y_COORD_CD',\n",
       " 'Summer',\n",
       " 'Fall',\n",
       " 'Winter',\n",
       " 'Spring',\n",
       " 'XLL',\n",
       " 'YLL',\n",
       " 'ZLL',\n",
       " 'PD_PATROL BORO BKLYN NORTH',\n",
       " 'PD_PATROL BORO BKLYN SOUTH',\n",
       " 'PD_PATROL BORO BRONX',\n",
       " 'PD_PATROL BORO MAN NORTH',\n",
       " 'PD_PATROL BORO MAN SOUTH',\n",
       " 'PD_PATROL BORO QUEENS NORTH',\n",
       " 'PD_PATROL BORO QUEENS SOUTH',\n",
       " 'PD_PATROL BORO STATEN ISLAND',\n",
       " 'BORO_BRONX',\n",
       " 'BORO_BROOKLYN',\n",
       " 'BORO_MANHATTAN',\n",
       " 'BORO_QUEENS',\n",
       " 'BORO_STATEN ISLAND',\n",
       " 'YEAR_2007',\n",
       " 'YEAR_2008',\n",
       " 'YEAR_2009',\n",
       " 'YEAR_2010',\n",
       " 'YEAR_2011',\n",
       " 'YEAR_2012',\n",
       " 'YEAR_2013',\n",
       " 'YEAR_2014',\n",
       " 'YEAR_2015',\n",
       " 'YEAR_2016',\n",
       " 'YEAR_2017',\n",
       " 'YEAR_2018',\n",
       " 'MONTH_1',\n",
       " 'MONTH_2',\n",
       " 'MONTH_3',\n",
       " 'MONTH_4',\n",
       " 'MONTH_5',\n",
       " 'MONTH_6',\n",
       " 'MONTH_7',\n",
       " 'MONTH_8',\n",
       " 'MONTH_9',\n",
       " 'MONTH_10',\n",
       " 'MONTH_11',\n",
       " 'MONTH_12',\n",
       " 'DAY_1',\n",
       " 'DAY_2',\n",
       " 'DAY_3',\n",
       " 'DAY_4',\n",
       " 'DAY_5',\n",
       " 'DAY_6',\n",
       " 'DAY_7',\n",
       " 'DAY_8',\n",
       " 'DAY_9',\n",
       " 'DAY_10',\n",
       " 'DAY_11',\n",
       " 'DAY_12',\n",
       " 'DAY_13',\n",
       " 'DAY_14',\n",
       " 'DAY_15',\n",
       " 'DAY_16',\n",
       " 'DAY_17',\n",
       " 'DAY_18',\n",
       " 'DAY_19',\n",
       " 'DAY_20',\n",
       " 'DAY_21',\n",
       " 'DAY_22',\n",
       " 'DAY_23',\n",
       " 'DAY_24',\n",
       " 'DAY_25',\n",
       " 'DAY_26',\n",
       " 'DAY_27',\n",
       " 'DAY_28',\n",
       " 'DAY_29',\n",
       " 'DAY_30',\n",
       " 'DAY_31',\n",
       " 'WEEKDAY_1',\n",
       " 'WEEKDAY_2',\n",
       " 'WEEKDAY_3',\n",
       " 'WEEKDAY_4',\n",
       " 'WEEKDAY_5',\n",
       " 'WEEKDAY_6',\n",
       " 'WEEKDAY_7',\n",
       " 'HOUR_0',\n",
       " 'HOUR_1',\n",
       " 'HOUR_2',\n",
       " 'HOUR_3',\n",
       " 'HOUR_4',\n",
       " 'HOUR_5',\n",
       " 'HOUR_6',\n",
       " 'HOUR_7',\n",
       " 'HOUR_8',\n",
       " 'HOUR_9',\n",
       " 'HOUR_10',\n",
       " 'HOUR_11',\n",
       " 'HOUR_12',\n",
       " 'HOUR_13',\n",
       " 'HOUR_14',\n",
       " 'HOUR_15',\n",
       " 'HOUR_16',\n",
       " 'HOUR_17',\n",
       " 'HOUR_18',\n",
       " 'HOUR_19',\n",
       " 'HOUR_20',\n",
       " 'HOUR_21',\n",
       " 'HOUR_22',\n",
       " 'HOUR_23',\n",
       " 'crime']"
      ]
     },
     "execution_count": 13,
     "metadata": {},
     "output_type": "execute_result"
    }
   ],
   "source": [
    "collist=features.columns.tolist()\n",
    "collist"
   ]
  },
  {
   "cell_type": "code",
   "execution_count": 14,
   "metadata": {},
   "outputs": [
    {
     "name": "stdout",
     "output_type": "stream",
     "text": [
      "Done Outputing data_feature.csv\n"
     ]
    }
   ],
   "source": [
    "features.to_csv('data_feature.csv',index=False)\n",
    "print('Done Outputing data_feature.csv')"
   ]
  }
 ],
 "metadata": {
  "kernelspec": {
   "display_name": "Python 3",
   "language": "python",
   "name": "python3"
  },
  "language_info": {
   "codemirror_mode": {
    "name": "ipython",
    "version": 3
   },
   "file_extension": ".py",
   "mimetype": "text/x-python",
   "name": "python",
   "nbconvert_exporter": "python",
   "pygments_lexer": "ipython3",
   "version": "3.7.3"
  }
 },
 "nbformat": 4,
 "nbformat_minor": 2
}
