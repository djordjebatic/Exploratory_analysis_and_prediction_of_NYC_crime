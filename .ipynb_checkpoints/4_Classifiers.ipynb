{
 "cells": [
  {
   "cell_type": "code",
   "execution_count": 1,
   "metadata": {},
   "outputs": [],
   "source": [
    "import numpy as np \n",
    "import pandas as pd\n",
    "import matplotlib.pyplot as plt\n",
    "%matplotlib inline\n",
    "\n",
    "from sklearn.model_selection import train_test_split\n",
    "from sklearn import preprocessing\n",
    "from sklearn.model_selection import cross_val_score\n",
    "from sklearn.metrics import accuracy_score,classification_report\n",
    "from sklearn.metrics import log_loss #evaluation metric\n",
    "\n",
    "from sklearn.tree import ExtraTreeClassifier\n",
    "from sklearn.ensemble import RandomForestClassifier\n",
    "\n",
    "features = pd.read_csv('data_feature.csv',error_bad_lines=False)"
   ]
  },
  {
   "cell_type": "markdown",
   "metadata": {},
   "source": [
    "## Algorithms used\n",
    "\n",
    "#### 1) Random Forest Classifier\n",
    "    An ensemble learning method for classification, regression and other tasks that operates by constructing a multitude of decision trees at training time and outputting the class that is the mode of the classes of the individual trees. Random decision forests correct for decision trees' habit of overfitting to their training set.\n",
    "#### 2) Extra Tree Classifier\n",
    "    An extremely randomized tree classifier. Extra-trees differ from classic decision trees in the way they are built. When looking for the best split to separate the samples of a node into two groups, random splits are drawn for each of the max_features randomly selected features and the best split among those is chosen. When max_features is set 1, this amounts to building a totally random decision tree.\n",
    "#### 3) Bernoulli Naïve Bayes\n",
    "    In machine learning, Naïve Bayes classifiers are a family of simple \"probabilistic classifiers\" based on applying Bayes' theorem with strong (naive) independence assumptions between the features. The Bernoulli Naïve Bayes classifier assumes that all features are binary such that they take only two values (e.g. a nominal categorical feature that has been one-hot encoded).\n",
    "#### 4) LightGBM\n",
    "    A fast, distributed, high performance gradient boosting (GBT, GBDT, GBRT, GBM or MART) framework based on decision tree algorithms, used for ranking, classification and many other machine learning tasks. Project of Microsoft.\n",
    "#### 5) CatBoost\n",
    "    CatBoost is an algorithm for gradient boosting on decision trees. It is developed by Yandex, and is for search, recommendation systems, personal assistance, self-driving cars, weather prediction..."
   ]
  },
  {
   "cell_type": "markdown",
   "metadata": {},
   "source": [
    "## Evaluation Metric\n",
    "Models are evaluated using the multi-class logarithmic loss. Each incident has been labeled with one true class. For each incident, you must submit a set of predicted probabilities (one for every class). The formula is:\n",
    "\n",
    "\\begin{equation*}\n",
    "logloss = −\\frac{1}{N}\\sum_{i=1}^N \\sum_{j=1}^M y_{ij} log(p_{ij})\n",
    "\\end{equation*}\n",
    "\n",
    "where N is the number of cases in the test set, M is the number of class labels, log is the natural logarithm, $y_{ij}$ is 1 if observation i is in class j and 0 otherwise, and $p_{ij}$ is the predicted probability that observation i belongs to class j."
   ]
  },
  {
   "cell_type": "markdown",
   "metadata": {},
   "source": [
    "**There are two main advantages of dimensionality reduction with PCA.**\n",
    "\n",
    "1) The training time of the algorithms reduces significantly with less number of features.\n",
    "\n",
    "2) It is not always possible to analyze data in high dimensions. For instance if there are 100 features in a dataset. Total number of scatter plots required to visualize the data would be 100(100-1)2 = 4950. Practically it is not possible to analyze data this way."
   ]
  },
  {
   "cell_type": "code",
   "execution_count": 2,
   "metadata": {},
   "outputs": [
    {
     "name": "stdout",
     "output_type": "stream",
     "text": [
      "[8.94553721e-01 3.29344542e-02 1.45105950e-02 3.43481948e-03\n",
      " 3.11002631e-03 3.10599867e-03 2.88338604e-03 2.28050805e-03\n",
      " 1.40601103e-03 1.35479796e-03 1.29494203e-03 1.28536551e-03\n",
      " 1.27126114e-03 1.26905789e-03 1.20809077e-03 1.16270223e-03\n",
      " 1.14022111e-03 8.35624647e-04 7.82392854e-04 7.74799472e-04\n",
      " 7.70427465e-04 7.66219742e-04 7.62516726e-04 7.49489135e-04\n",
      " 7.45636162e-04]\n"
     ]
    },
    {
     "data": {
      "image/png": "[encoded data removed]",
      "text/plain": [
       "<Figure size 432x288 with 1 Axes>"
      ]
     },
     "metadata": {
      "needs_background": "light"
     },
     "output_type": "display_data"
    }
   ],
   "source": [
    "from sklearn.decomposition import PCA\n",
    "new_PCA=PCA(n_components=25)\n",
    "new_PCA.fit(features)\n",
    "plt.plot(new_PCA.explained_variance_ratio_)\n",
    "plt.yscale('log')\n",
    "plt.title(\"PCA explained variance ratio of features\")\n",
    "print (new_PCA.explained_variance_ratio_)"
   ]
  },
  {
   "cell_type": "code",
   "execution_count": 3,
   "metadata": {
    "scrolled": true
   },
   "outputs": [
    {
     "data": {
      "text/plain": [
       "Text(0.5, 1.0, 'cumsum of PCA explained ratio')"
      ]
     },
     "execution_count": 3,
     "metadata": {},
     "output_type": "execute_result"
    },
    {
     "data": {
      "image/png": "[encoded data removed]",
      "text/plain": [
       "<Figure size 432x288 with 1 Axes>"
      ]
     },
     "metadata": {
      "needs_background": "light"
     },
     "output_type": "display_data"
    }
   ],
   "source": [
    "plt.plot(new_PCA.explained_variance_ratio_.cumsum())\n",
    "plt.title(\"cumsum of PCA explained ratio\")"
   ]
  },
  {
   "cell_type": "code",
   "execution_count": 4,
   "metadata": {
    "scrolled": true
   },
   "outputs": [
    {
     "data": {
      "text/html": [
       "<div>\n",
       "<style scoped>\n",
       "    .dataframe tbody tr th:only-of-type {\n",
       "        vertical-align: middle;\n",
       "    }\n",
       "\n",
       "    .dataframe tbody tr th {\n",
       "        vertical-align: top;\n",
       "    }\n",
       "\n",
       "    .dataframe thead th {\n",
       "        text-align: right;\n",
       "    }\n",
       "</style>\n",
       "<table border=\"1\" class=\"dataframe\">\n",
       "  <thead>\n",
       "    <tr style=\"text-align: right;\">\n",
       "      <th></th>\n",
       "      <th>X_COORD_CD</th>\n",
       "      <th>Y_COORD_CD</th>\n",
       "      <th>Summer</th>\n",
       "      <th>Fall</th>\n",
       "      <th>Winter</th>\n",
       "      <th>Spring</th>\n",
       "      <th>XLL</th>\n",
       "      <th>YLL</th>\n",
       "      <th>ZLL</th>\n",
       "      <th>PD_PATROL BORO BKLYN NORTH</th>\n",
       "      <th>...</th>\n",
       "      <th>HOUR_14</th>\n",
       "      <th>HOUR_15</th>\n",
       "      <th>HOUR_16</th>\n",
       "      <th>HOUR_17</th>\n",
       "      <th>HOUR_18</th>\n",
       "      <th>HOUR_19</th>\n",
       "      <th>HOUR_20</th>\n",
       "      <th>HOUR_21</th>\n",
       "      <th>HOUR_22</th>\n",
       "      <th>HOUR_23</th>\n",
       "    </tr>\n",
       "  </thead>\n",
       "  <tbody>\n",
       "    <tr>\n",
       "      <th>0</th>\n",
       "      <td>0.769530</td>\n",
       "      <td>-0.500036</td>\n",
       "      <td>1</td>\n",
       "      <td>0</td>\n",
       "      <td>0</td>\n",
       "      <td>0</td>\n",
       "      <td>0.778162</td>\n",
       "      <td>-0.299267</td>\n",
       "      <td>0.504869</td>\n",
       "      <td>0</td>\n",
       "      <td>...</td>\n",
       "      <td>0</td>\n",
       "      <td>0</td>\n",
       "      <td>0</td>\n",
       "      <td>0</td>\n",
       "      <td>0</td>\n",
       "      <td>0</td>\n",
       "      <td>0</td>\n",
       "      <td>0</td>\n",
       "      <td>0</td>\n",
       "      <td>1</td>\n",
       "    </tr>\n",
       "    <tr>\n",
       "      <th>1</th>\n",
       "      <td>-3.070120</td>\n",
       "      <td>-1.768402</td>\n",
       "      <td>1</td>\n",
       "      <td>0</td>\n",
       "      <td>0</td>\n",
       "      <td>0</td>\n",
       "      <td>-2.967190</td>\n",
       "      <td>4.062054</td>\n",
       "      <td>1.757846</td>\n",
       "      <td>0</td>\n",
       "      <td>...</td>\n",
       "      <td>0</td>\n",
       "      <td>0</td>\n",
       "      <td>0</td>\n",
       "      <td>1</td>\n",
       "      <td>0</td>\n",
       "      <td>0</td>\n",
       "      <td>0</td>\n",
       "      <td>0</td>\n",
       "      <td>0</td>\n",
       "      <td>0</td>\n",
       "    </tr>\n",
       "    <tr>\n",
       "      <th>2</th>\n",
       "      <td>-0.248479</td>\n",
       "      <td>-0.651641</td>\n",
       "      <td>0</td>\n",
       "      <td>0</td>\n",
       "      <td>1</td>\n",
       "      <td>0</td>\n",
       "      <td>-0.256029</td>\n",
       "      <td>0.169271</td>\n",
       "      <td>0.655130</td>\n",
       "      <td>1</td>\n",
       "      <td>...</td>\n",
       "      <td>0</td>\n",
       "      <td>0</td>\n",
       "      <td>0</td>\n",
       "      <td>0</td>\n",
       "      <td>0</td>\n",
       "      <td>0</td>\n",
       "      <td>0</td>\n",
       "      <td>0</td>\n",
       "      <td>0</td>\n",
       "      <td>0</td>\n",
       "    </tr>\n",
       "    <tr>\n",
       "      <th>3</th>\n",
       "      <td>-0.917514</td>\n",
       "      <td>0.030120</td>\n",
       "      <td>0</td>\n",
       "      <td>0</td>\n",
       "      <td>1</td>\n",
       "      <td>0</td>\n",
       "      <td>-0.948073</td>\n",
       "      <td>0.167080</td>\n",
       "      <td>-0.026315</td>\n",
       "      <td>0</td>\n",
       "      <td>...</td>\n",
       "      <td>0</td>\n",
       "      <td>0</td>\n",
       "      <td>0</td>\n",
       "      <td>0</td>\n",
       "      <td>0</td>\n",
       "      <td>0</td>\n",
       "      <td>0</td>\n",
       "      <td>0</td>\n",
       "      <td>0</td>\n",
       "      <td>0</td>\n",
       "    </tr>\n",
       "    <tr>\n",
       "      <th>4</th>\n",
       "      <td>1.090008</td>\n",
       "      <td>1.925279</td>\n",
       "      <td>0</td>\n",
       "      <td>1</td>\n",
       "      <td>0</td>\n",
       "      <td>0</td>\n",
       "      <td>1.110302</td>\n",
       "      <td>-0.889273</td>\n",
       "      <td>-1.933139</td>\n",
       "      <td>0</td>\n",
       "      <td>...</td>\n",
       "      <td>0</td>\n",
       "      <td>0</td>\n",
       "      <td>0</td>\n",
       "      <td>0</td>\n",
       "      <td>0</td>\n",
       "      <td>0</td>\n",
       "      <td>0</td>\n",
       "      <td>0</td>\n",
       "      <td>0</td>\n",
       "      <td>0</td>\n",
       "    </tr>\n",
       "  </tbody>\n",
       "</table>\n",
       "<p>5 rows × 108 columns</p>\n",
       "</div>"
      ],
      "text/plain": [
       "   X_COORD_CD  Y_COORD_CD  Summer  Fall  Winter  Spring       XLL       YLL  \\\n",
       "0    0.769530   -0.500036       1     0       0       0  0.778162 -0.299267   \n",
       "1   -3.070120   -1.768402       1     0       0       0 -2.967190  4.062054   \n",
       "2   -0.248479   -0.651641       0     0       1       0 -0.256029  0.169271   \n",
       "3   -0.917514    0.030120       0     0       1       0 -0.948073  0.167080   \n",
       "4    1.090008    1.925279       0     1       0       0  1.110302 -0.889273   \n",
       "\n",
       "        ZLL  PD_PATROL BORO BKLYN NORTH  ...  HOUR_14  HOUR_15  HOUR_16  \\\n",
       "0  0.504869                           0  ...        0        0        0   \n",
       "1  1.757846                           0  ...        0        0        0   \n",
       "2  0.655130                           1  ...        0        0        0   \n",
       "3 -0.026315                           0  ...        0        0        0   \n",
       "4 -1.933139                           0  ...        0        0        0   \n",
       "\n",
       "   HOUR_17  HOUR_18  HOUR_19  HOUR_20  HOUR_21  HOUR_22  HOUR_23  \n",
       "0        0        0        0        0        0        0        1  \n",
       "1        1        0        0        0        0        0        0  \n",
       "2        0        0        0        0        0        0        0  \n",
       "3        0        0        0        0        0        0        0  \n",
       "4        0        0        0        0        0        0        0  \n",
       "\n",
       "[5 rows x 108 columns]"
      ]
     },
     "execution_count": 4,
     "metadata": {},
     "output_type": "execute_result"
    }
   ],
   "source": [
    "category_crime = features['crime']\n",
    "collist=features.columns.tolist()\n",
    "features[collist[:-1]].head()"
   ]
  },
  {
   "cell_type": "code",
   "execution_count": 5,
   "metadata": {
    "scrolled": true
   },
   "outputs": [
    {
     "name": "stdout",
     "output_type": "stream",
     "text": [
      "630010 270005\n"
     ]
    }
   ],
   "source": [
    "train, test = train_test_split(features,train_size=0.70)\n",
    "print(len(train) , len(test))"
   ]
  },
  {
   "cell_type": "code",
   "execution_count": 6,
   "metadata": {},
   "outputs": [],
   "source": [
    "train_X = train[collist[:-1]]\n",
    "train_Y = train['crime']\n",
    "test_X = test[collist[:-1]]\n",
    "test_Y = test['crime']"
   ]
  },
  {
   "cell_type": "markdown",
   "metadata": {},
   "source": [
    "# Classification"
   ]
  },
  {
   "cell_type": "markdown",
   "metadata": {},
   "source": [
    "## Random Forest Classifier (Logloss = 2.68815)"
   ]
  },
  {
   "cell_type": "code",
   "execution_count": 22,
   "metadata": {},
   "outputs": [
    {
     "name": "stdout",
     "output_type": "stream",
     "text": [
      "Training the random forest...\n"
     ]
    }
   ],
   "source": [
    "print (\"Training the random forest...\")\n",
    "# Initialize a Random Forest classifier\n",
    "forest = RandomForestClassifier(n_estimators=300, max_depth=3, min_samples_leaf = 21, random_state=42) \n",
    "y_score = forest.fit(train_X, train_Y)"
   ]
  },
  {
   "cell_type": "code",
   "execution_count": 23,
   "metadata": {},
   "outputs": [
    {
     "data": {
      "text/plain": [
       "2.688153696894615"
      ]
     },
     "execution_count": 23,
     "metadata": {},
     "output_type": "execute_result"
    }
   ],
   "source": [
    "predicted_RF = np.array(forest.predict_proba(test[collist[:-1]]))\n",
    "#evaluation metric : cross-entropy loss.\n",
    "log_loss(test_Y, predicted_RF, labels=category_crime)"
   ]
  },
  {
   "cell_type": "code",
   "execution_count": 47,
   "metadata": {},
   "outputs": [
    {
     "name": "stderr",
     "output_type": "stream",
     "text": [
      "C:\\Users\\Lenovo\\Anaconda3\\lib\\site-packages\\sklearn\\model_selection\\_split.py:1978: FutureWarning: The default value of cv will change from 3 to 5 in version 0.22. Specify it explicitly to silence this warning.\n",
      "  warnings.warn(CV_WARNING, FutureWarning)\n"
     ]
    },
    {
     "name": "stdout",
     "output_type": "stream",
     "text": [
      "[0.14695294 0.14934341 0.14670421]\n"
     ]
    }
   ],
   "source": [
    "cv_scores = cross_val_score(forest,training[collist[:-1]],training['crime'])\n",
    "print(cv_scores)"
   ]
  },
  {
   "cell_type": "code",
   "execution_count": 48,
   "metadata": {},
   "outputs": [
    {
     "name": "stdout",
     "output_type": "stream",
     "text": [
      "Cross Validation Accuracy:  0.1476668568536731\n"
     ]
    }
   ],
   "source": [
    "from sklearn.metrics import classification_report\n",
    "# Take the mean accuracy across all cross validation segments.\n",
    "print('Cross Validation Accuracy: ', cv_scores.mean())"
   ]
  },
  {
   "cell_type": "markdown",
   "metadata": {},
   "source": [
    "## Extra tree classifier  (Logloss = 2.61579)"
   ]
  },
  {
   "cell_type": "code",
   "execution_count": 8,
   "metadata": {
    "scrolled": false
   },
   "outputs": [
    {
     "name": "stderr",
     "output_type": "stream",
     "text": [
      "[Parallel(n_jobs=-1)]: Using backend ThreadingBackend with 4 concurrent workers.\n",
      "[Parallel(n_jobs=-1)]: Done  42 tasks      | elapsed:   49.3s\n",
      "[Parallel(n_jobs=-1)]: Done 192 tasks      | elapsed:  4.9min\n",
      "[Parallel(n_jobs=-1)]: Done 300 out of 300 | elapsed:  8.0min finished\n"
     ]
    },
    {
     "data": {
      "text/plain": [
       "ExtraTreesClassifier(bootstrap=True, class_weight=None, criterion='gini',\n",
       "                     max_depth=None, max_features='auto', max_leaf_nodes=None,\n",
       "                     min_impurity_decrease=0.0, min_impurity_split=None,\n",
       "                     min_samples_leaf=250, min_samples_split=2,\n",
       "                     min_weight_fraction_leaf=0.0, n_estimators=300, n_jobs=-1,\n",
       "                     oob_score=True, random_state=None, verbose=1,\n",
       "                     warm_start=False)"
      ]
     },
     "execution_count": 8,
     "metadata": {},
     "output_type": "execute_result"
    }
   ],
   "source": [
    "# ExtraTreesClassifier\n",
    "from sklearn.ensemble import ExtraTreesClassifier\n",
    "\n",
    "model = ExtraTreesClassifier(n_estimators=300, bootstrap=True,\n",
    "                             oob_score=True, n_jobs=-1,\n",
    "                             min_samples_leaf=250,\n",
    "                             verbose=1)\n",
    "model.fit(train_X, train_Y)"
   ]
  },
  {
   "cell_type": "code",
   "execution_count": 9,
   "metadata": {
    "scrolled": false
   },
   "outputs": [
    {
     "name": "stderr",
     "output_type": "stream",
     "text": [
      "[Parallel(n_jobs=4)]: Using backend ThreadingBackend with 4 concurrent workers.\n",
      "[Parallel(n_jobs=4)]: Done  42 tasks      | elapsed:    4.7s\n",
      "[Parallel(n_jobs=4)]: Done 192 tasks      | elapsed:   21.4s\n",
      "[Parallel(n_jobs=4)]: Done 300 out of 300 | elapsed:   33.9s finished\n"
     ]
    },
    {
     "data": {
      "text/plain": [
       "2.615791704397792"
      ]
     },
     "execution_count": 9,
     "metadata": {},
     "output_type": "execute_result"
    }
   ],
   "source": [
    "predicted_ETC = np.array(model.predict_proba(test_X))\n",
    "#evaluation metric : cross-entropy loss.\n",
    "log_loss(test_Y, predicted_ETC, labels=category_crime)"
   ]
  },
  {
   "cell_type": "markdown",
   "metadata": {},
   "source": [
    "## BernoulliNB (Logloss = 2.80127)"
   ]
  },
  {
   "cell_type": "code",
   "execution_count": 7,
   "metadata": {
    "scrolled": false
   },
   "outputs": [
    {
     "data": {
      "text/plain": [
       "2.8012669911202317"
      ]
     },
     "execution_count": 7,
     "metadata": {},
     "output_type": "execute_result"
    }
   ],
   "source": [
    "from sklearn.naive_bayes import BernoulliNB\n",
    "from sklearn.metrics import roc_curve\n",
    "\n",
    "model = BernoulliNB(alpha=1, binarize=0.0)\n",
    "model.fit(train_X, train_Y)\n",
    "predicted_BNB = np.array(model.predict_proba(test_X))\n",
    "\n",
    "#evaluation metric : cross-entropy loss.\n",
    "log_loss(test_Y, predicted_BNB) "
   ]
  },
  {
   "cell_type": "markdown",
   "metadata": {},
   "source": [
    "## LightGBM (Logloss = 2.33989)"
   ]
  },
  {
   "cell_type": "code",
   "execution_count": 15,
   "metadata": {},
   "outputs": [],
   "source": [
    "import lightgbm as lgb\n",
    "\n",
    "train_data = lgb.Dataset(features[collist[:-1]], label=category_crime)\n",
    "\n",
    "params = {'boosting':'gbdt',\n",
    "          'objective':'multiclass',\n",
    "          'num_class':40,\n",
    "          'max_delta_step':0.9,\n",
    "          'min_data_in_leaf': 21,\n",
    "          'learning_rate': 0.4,\n",
    "          'max_bin': 465,\n",
    "          'num_leaves': 42,\n",
    "          'verbose' : 1,\n",
    "          'random_state' : 42}\n",
    "\n",
    "bst = lgb.train(params, train_data, 120)\n",
    "predicted_LGBM = bst.predict(test)"
   ]
  },
  {
   "cell_type": "code",
   "execution_count": 16,
   "metadata": {},
   "outputs": [
    {
     "data": {
      "text/plain": [
       "2.339893719504672"
      ]
     },
     "execution_count": 16,
     "metadata": {},
     "output_type": "execute_result"
    }
   ],
   "source": [
    "#evaluation metric : cross-entropy loss.\n",
    "log_loss(test_Y, predicted_LGBM) "
   ]
  },
  {
   "cell_type": "markdown",
   "metadata": {},
   "source": [
    "## CatBoost (Logloss = 2.56216)"
   ]
  },
  {
   "cell_type": "code",
   "execution_count": 10,
   "metadata": {},
   "outputs": [],
   "source": [
    "from catboost import CatBoostClassifier\n",
    "model = CatBoostClassifier(iterations=200, learning_rate=0.4, l2_leaf_reg=3.5, depth=3, rsm=0.98, random_seed=42, verbose=8)"
   ]
  },
  {
   "cell_type": "code",
   "execution_count": 12,
   "metadata": {},
   "outputs": [
    {
     "name": "stdout",
     "output_type": "stream",
     "text": [
      "0:\tlearn: -2.9848955\ttotal: 4.36s\tremaining: 14m 27s\n",
      "8:\tlearn: -2.6631440\ttotal: 37.3s\tremaining: 13m 11s\n",
      "16:\tlearn: -2.6411167\ttotal: 1m 12s\tremaining: 13m 3s\n",
      "24:\tlearn: -2.6301906\ttotal: 1m 45s\tremaining: 12m 19s\n",
      "32:\tlearn: -2.6237864\ttotal: 2m 19s\tremaining: 11m 45s\n",
      "40:\tlearn: -2.6177118\ttotal: 2m 54s\tremaining: 11m 16s\n",
      "48:\tlearn: -2.6089756\ttotal: 3m 28s\tremaining: 10m 41s\n",
      "56:\tlearn: -2.6009296\ttotal: 4m 2s\tremaining: 10m 9s\n",
      "64:\tlearn: -2.5969166\ttotal: 4m 35s\tremaining: 9m 31s\n",
      "72:\tlearn: -2.5933608\ttotal: 5m 9s\tremaining: 8m 58s\n",
      "80:\tlearn: -2.5886329\ttotal: 5m 43s\tremaining: 8m 24s\n",
      "88:\tlearn: -2.5856616\ttotal: 6m 17s\tremaining: 7m 51s\n",
      "96:\tlearn: -2.5811861\ttotal: 6m 50s\tremaining: 7m 16s\n",
      "104:\tlearn: -2.5776680\ttotal: 7m 25s\tremaining: 6m 42s\n",
      "112:\tlearn: -2.5748238\ttotal: 8m 5s\tremaining: 6m 14s\n",
      "120:\tlearn: -2.5723629\ttotal: 8m 41s\tremaining: 5m 40s\n",
      "128:\tlearn: -2.5698209\ttotal: 9m 17s\tremaining: 5m 6s\n",
      "136:\tlearn: -2.5678538\ttotal: 9m 51s\tremaining: 4m 31s\n",
      "144:\tlearn: -2.5655344\ttotal: 10m 26s\tremaining: 3m 57s\n",
      "152:\tlearn: -2.5633296\ttotal: 11m 1s\tremaining: 3m 23s\n",
      "160:\tlearn: -2.5603588\ttotal: 11m 38s\tremaining: 2m 49s\n",
      "168:\tlearn: -2.5573453\ttotal: 12m 13s\tremaining: 2m 14s\n",
      "176:\tlearn: -2.5554548\ttotal: 12m 48s\tremaining: 1m 39s\n",
      "184:\tlearn: -2.5531282\ttotal: 13m 23s\tremaining: 1m 5s\n",
      "192:\tlearn: -2.5506708\ttotal: 13m 59s\tremaining: 30.4s\n",
      "199:\tlearn: -2.5493974\ttotal: 14m 28s\tremaining: 0us\n"
     ]
    },
    {
     "data": {
      "text/plain": [
       "<catboost.core.CatBoostClassifier at 0x20783f9ccc0>"
      ]
     },
     "execution_count": 12,
     "metadata": {},
     "output_type": "execute_result"
    }
   ],
   "source": [
    "model.fit(train_X, train_Y)"
   ]
  },
  {
   "cell_type": "code",
   "execution_count": 13,
   "metadata": {
    "scrolled": false
   },
   "outputs": [
    {
     "data": {
      "text/plain": [
       "2.562156167958071"
      ]
     },
     "execution_count": 13,
     "metadata": {},
     "output_type": "execute_result"
    }
   ],
   "source": [
    "predicted_CB = np.array(model.predict_proba(test_X))\n",
    "\n",
    "#evaluation metric : cross-entropy loss.\n",
    "log_loss(test_Y, predicted_CB, labels=category_crime)"
   ]
  },
  {
   "cell_type": "code",
   "execution_count": 32,
   "metadata": {},
   "outputs": [],
   "source": [
    "pre = (0.333*predicted_LGBM) + (0.333*predicted_ETC)"
   ]
  },
  {
   "cell_type": "code",
   "execution_count": 33,
   "metadata": {},
   "outputs": [
    {
     "data": {
      "text/plain": [
       "2.427561250681113"
      ]
     },
     "execution_count": 33,
     "metadata": {},
     "output_type": "execute_result"
    }
   ],
   "source": [
    "log_loss(test_Y, pre, labels=category_crime)"
   ]
  }
 ],
 "metadata": {
  "kernelspec": {
   "display_name": "Python 3",
   "language": "python",
   "name": "python3"
  },
  "language_info": {
   "codemirror_mode": {
    "name": "ipython",
    "version": 3
   },
   "file_extension": ".py",
   "mimetype": "text/x-python",
   "name": "python",
   "nbconvert_exporter": "python",
   "pygments_lexer": "ipython3",
   "version": "3.7.3"
  }
 },
 "nbformat": 4,
 "nbformat_minor": 2
}
